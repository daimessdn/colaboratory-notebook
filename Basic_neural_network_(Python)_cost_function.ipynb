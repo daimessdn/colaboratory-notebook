{
  "nbformat": 4,
  "nbformat_minor": 0,
  "metadata": {
    "colab": {
      "name": "Basic neural network (Python) - cost function.ipynb",
      "provenance": [],
      "collapsed_sections": [],
      "include_colab_link": true
    },
    "kernelspec": {
      "name": "python3",
      "display_name": "Python 3"
    }
  },
  "cells": [
    {
      "cell_type": "markdown",
      "metadata": {
        "id": "view-in-github",
        "colab_type": "text"
      },
      "source": [
        "<a href=\"https://colab.research.google.com/github/daimessdn/colaboratory-notebook/blob/master/Basic_neural_network_(Python)_cost_function.ipynb\" target=\"_parent\"><img src=\"https://colab.research.google.com/assets/colab-badge.svg\" alt=\"Open In Colab\"/></a>"
      ]
    },
    {
      "cell_type": "code",
      "metadata": {
        "id": "NRYBJxbYUv-1",
        "colab_type": "code",
        "colab": {}
      },
      "source": [
        "def cost(b):\n",
        "  return (b - 4) ** 2"
      ],
      "execution_count": 0,
      "outputs": []
    },
    {
      "cell_type": "code",
      "metadata": {
        "id": "sapypLKZU7dK",
        "colab_type": "code",
        "outputId": "daec4c3b-31a1-46c8-e862-bed547d5f04a",
        "colab": {
          "base_uri": "https://localhost:8080/",
          "height": 34
        }
      },
      "source": [
        "cost(4)"
      ],
      "execution_count": 0,
      "outputs": [
        {
          "output_type": "execute_result",
          "data": {
            "text/plain": [
              "0"
            ]
          },
          "metadata": {
            "tags": []
          },
          "execution_count": 2
        }
      ]
    },
    {
      "cell_type": "code",
      "metadata": {
        "id": "kwuy757vU_PZ",
        "colab_type": "code",
        "colab": {}
      },
      "source": [
        "def num_slope(b):\n",
        "  h = 0.0001\n",
        "  return (cost(b+h) - cost(b)) / h"
      ],
      "execution_count": 0,
      "outputs": []
    },
    {
      "cell_type": "code",
      "metadata": {
        "id": "rVTVjyqaVJdS",
        "colab_type": "code",
        "outputId": "267e7294-865e-45b4-fd00-3bc183f7f9cc",
        "colab": {
          "base_uri": "https://localhost:8080/",
          "height": 34
        }
      },
      "source": [
        "num_slope(3)"
      ],
      "execution_count": 0,
      "outputs": [
        {
          "output_type": "execute_result",
          "data": {
            "text/plain": [
              "-1.9999000000037181"
            ]
          },
          "metadata": {
            "tags": []
          },
          "execution_count": 6
        }
      ]
    },
    {
      "cell_type": "code",
      "metadata": {
        "id": "IQXJ8gZiVO4X",
        "colab_type": "code",
        "outputId": "7616dcb0-edd2-485d-f45d-d327f7525a23",
        "colab": {
          "base_uri": "https://localhost:8080/",
          "height": 34
        }
      },
      "source": [
        "num_slope(5)"
      ],
      "execution_count": 0,
      "outputs": [
        {
          "output_type": "execute_result",
          "data": {
            "text/plain": [
              "2.000099999994731"
            ]
          },
          "metadata": {
            "tags": []
          },
          "execution_count": 7
        }
      ]
    },
    {
      "cell_type": "code",
      "metadata": {
        "id": "EzCl7fERVWV_",
        "colab_type": "code",
        "colab": {}
      },
      "source": [
        "def slope(b):\n",
        "  return 2 * (b - 4)"
      ],
      "execution_count": 0,
      "outputs": []
    },
    {
      "cell_type": "code",
      "metadata": {
        "id": "OHiaZ9LIVbZB",
        "colab_type": "code",
        "outputId": "0bef5c8a-9a60-4a9f-df08-0db9efeee0d8",
        "colab": {
          "base_uri": "https://localhost:8080/",
          "height": 34
        }
      },
      "source": [
        "slope(3)"
      ],
      "execution_count": 0,
      "outputs": [
        {
          "output_type": "execute_result",
          "data": {
            "text/plain": [
              "-2"
            ]
          },
          "metadata": {
            "tags": []
          },
          "execution_count": 9
        }
      ]
    },
    {
      "cell_type": "code",
      "metadata": {
        "id": "KXV9oKF4VeFK",
        "colab_type": "code",
        "outputId": "b5b0e8bf-cea9-4983-b90b-f6f1fcd30c00",
        "colab": {
          "base_uri": "https://localhost:8080/",
          "height": 34
        }
      },
      "source": [
        "slope(5)"
      ],
      "execution_count": 0,
      "outputs": [
        {
          "output_type": "execute_result",
          "data": {
            "text/plain": [
              "2"
            ]
          },
          "metadata": {
            "tags": []
          },
          "execution_count": 10
        }
      ]
    },
    {
      "cell_type": "code",
      "metadata": {
        "id": "YjhXDkrKVgaV",
        "colab_type": "code",
        "colab": {}
      },
      "source": [
        "b = 8"
      ],
      "execution_count": 0,
      "outputs": []
    },
    {
      "cell_type": "code",
      "metadata": {
        "id": "lkH_oxkAVjOA",
        "colab_type": "code",
        "outputId": "62833ce8-1db8-4aef-8e35-25429099b5f2",
        "colab": {
          "base_uri": "https://localhost:8080/",
          "height": 34
        }
      },
      "source": [
        "b = b - 0.1 * slope(b)\n",
        "print(b)"
      ],
      "execution_count": 0,
      "outputs": [
        {
          "output_type": "stream",
          "text": [
            "5.048576\n"
          ],
          "name": "stdout"
        }
      ]
    },
    {
      "cell_type": "code",
      "metadata": {
        "id": "VfrpNGEPVtFb",
        "colab_type": "code",
        "outputId": "8022c0af-d243-4bf9-89cc-578538dc6856",
        "colab": {
          "base_uri": "https://localhost:8080/",
          "height": 538
        }
      },
      "source": [
        "b = 0\n",
        "\n",
        "# training loop\n",
        "for i in range(30):\n",
        "  b = b - 0.1 * slope(b)\n",
        "  print(b)"
      ],
      "execution_count": 0,
      "outputs": [
        {
          "output_type": "stream",
          "text": [
            "0.8\n",
            "1.4400000000000002\n",
            "1.952\n",
            "2.3616\n",
            "2.68928\n",
            "2.9514240000000003\n",
            "3.1611392\n",
            "3.32891136\n",
            "3.463129088\n",
            "3.5705032704\n",
            "3.6564026163200003\n",
            "3.725122093056\n",
            "3.7800976744448\n",
            "3.82407813955584\n",
            "3.8592625116446717\n",
            "3.8874100093157375\n",
            "3.90992800745259\n",
            "3.927942405962072\n",
            "3.9423539247696575\n",
            "3.953883139815726\n",
            "3.9631065118525806\n",
            "3.9704852094820646\n",
            "3.9763881675856516\n",
            "3.981110534068521\n",
            "3.984888427254817\n",
            "3.9879107418038537\n",
            "3.990328593443083\n",
            "3.9922628747544664\n",
            "3.993810299803573\n",
            "3.995048239842858\n"
          ],
          "name": "stdout"
        }
      ]
    }
  ]
}