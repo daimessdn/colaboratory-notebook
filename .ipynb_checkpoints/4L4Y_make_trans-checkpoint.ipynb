{
 "cells": [
  {
   "cell_type": "code",
   "execution_count": 1,
   "metadata": {
    "colab": {},
    "colab_type": "code",
    "id": "6Ht20RUa-38-"
   },
   "outputs": [],
   "source": [
    "intab = \"aiueo\"\n",
    "outtab = \"41V30\"\n",
    "\n",
    "char = \"!@#$%^&*()\"\n",
    "char_out = \"          \""
   ]
  },
  {
   "cell_type": "code",
   "execution_count": 2,
   "metadata": {
    "colab": {},
    "colab_type": "code",
    "id": "rR7Lm8LVCMST"
   },
   "outputs": [],
   "source": [
    "alay = str.maketrans(intab, outtab)"
   ]
  },
  {
   "cell_type": "code",
   "execution_count": 3,
   "metadata": {
    "colab": {
     "base_uri": "https://localhost:8080/",
     "height": 34
    },
    "colab_type": "code",
    "id": "5CPVadIUCPon",
    "outputId": "97d8653b-4026-4462-8d0b-abb573b5b7d7"
   },
   "outputs": [
    {
     "name": "stdout",
     "output_type": "stream",
     "text": [
      "m3t p4g1...\n"
     ]
    }
   ],
   "source": [
    "str = \"met pagi...\"\n",
    "print (str.translate(alay))"
   ]
  },
  {
   "cell_type": "code",
   "execution_count": null,
   "metadata": {},
   "outputs": [],
   "source": []
  }
 ],
 "metadata": {
  "colab": {
   "collapsed_sections": [],
   "include_colab_link": true,
   "name": "4L4Y make_trans.ipynb",
   "provenance": []
  },
  "kernelspec": {
   "display_name": "Python 3",
   "language": "python",
   "name": "python3"
  },
  "language_info": {
   "codemirror_mode": {
    "name": "ipython",
    "version": 3
   },
   "file_extension": ".py",
   "mimetype": "text/x-python",
   "name": "python",
   "nbconvert_exporter": "python",
   "pygments_lexer": "ipython3",
   "version": "3.7.3"
  }
 },
 "nbformat": 4,
 "nbformat_minor": 1
}
