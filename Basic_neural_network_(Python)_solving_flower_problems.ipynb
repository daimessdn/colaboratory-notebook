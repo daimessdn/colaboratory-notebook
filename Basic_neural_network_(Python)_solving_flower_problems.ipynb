{
  "nbformat": 4,
  "nbformat_minor": 0,
  "metadata": {
    "colab": {
      "name": "Basic neural network (Python) - solving flower problems.ipynb",
      "provenance": [],
      "collapsed_sections": [],
      "include_colab_link": true
    },
    "kernelspec": {
      "name": "python3",
      "display_name": "Python 3"
    }
  },
  "cells": [
    {
      "cell_type": "markdown",
      "metadata": {
        "id": "view-in-github",
        "colab_type": "text"
      },
      "source": [
        "<a href=\"https://colab.research.google.com/github/daimessdn/colaboratory-notebook/blob/master/Basic_neural_network_(Python)_solving_flower_problems.ipynb\" target=\"_parent\"><img src=\"https://colab.research.google.com/assets/colab-badge.svg\" alt=\"Open In Colab\"/></a>"
      ]
    },
    {
      "cell_type": "code",
      "metadata": {
        "id": "BS9yfeyLqZ_f",
        "colab_type": "code",
        "colab": {}
      },
      "source": [
        "%matplotlib inline"
      ],
      "execution_count": 0,
      "outputs": []
    },
    {
      "cell_type": "code",
      "metadata": {
        "id": "A1EQ4QwiojIr",
        "colab_type": "code",
        "colab": {}
      },
      "source": [
        "import matplotlib.pyplot as plt\n",
        "import numpy as np"
      ],
      "execution_count": 0,
      "outputs": []
    },
    {
      "cell_type": "code",
      "metadata": {
        "id": "Bm6mr85_qSy0",
        "colab_type": "code",
        "colab": {}
      },
      "source": [
        "# flower data\n",
        "# [length, width, type (0 for blue or 1 for red)]\n",
        "data = [[3  , 1.5, 1],\n",
        "        [2  , 1  , 0],\n",
        "        [4  , 1.5, 1],\n",
        "        [3  , 1  , 0],\n",
        "        [3.5, 0.5, 1],\n",
        "        [2  , 0.5, 0],\n",
        "        [5.5, 1  , 1],\n",
        "        [1  , 1  , 0]]\n",
        "\n",
        "mystery_flower = [4.5, 1]"
      ],
      "execution_count": 0,
      "outputs": []
    },
    {
      "cell_type": "code",
      "metadata": {
        "id": "-ONZZyg5rLHH",
        "colab_type": "code",
        "outputId": "b171bf79-be73-4129-afa8-c478105f0105",
        "colab": {
          "base_uri": "https://localhost:8080/",
          "height": 34
        }
      },
      "source": [
        "data[1]"
      ],
      "execution_count": 0,
      "outputs": [
        {
          "output_type": "execute_result",
          "data": {
            "text/plain": [
              "[2, 1, 0]"
            ]
          },
          "metadata": {
            "tags": []
          },
          "execution_count": 7
        }
      ]
    },
    {
      "cell_type": "code",
      "metadata": {
        "id": "wmI9IEbhrYvN",
        "colab_type": "code",
        "colab": {}
      },
      "source": [
        "# network\n",
        "#    o      flower type\n",
        "#   / \\     w1, w2, b\n",
        "#  o   o    length, width"
      ],
      "execution_count": 0,
      "outputs": []
    },
    {
      "cell_type": "code",
      "metadata": {
        "id": "bWS1kRRhrr9c",
        "colab_type": "code",
        "colab": {}
      },
      "source": [
        "def sigmoid(x):\n",
        "  return 1 / (1 + np.exp(-x))\n",
        "\n",
        "def sigmoid_p(x):\n",
        "  return sigmoid(x) * (1 - sigmoid(x))"
      ],
      "execution_count": 0,
      "outputs": []
    },
    {
      "cell_type": "code",
      "metadata": {
        "id": "34HiuFe3sG86",
        "colab_type": "code",
        "outputId": "7080f281-93c7-41cd-f4b5-abe4c30f8d48",
        "colab": {
          "base_uri": "https://localhost:8080/",
          "height": 282
        }
      },
      "source": [
        "T = np.linspace(-6, 6, 100)\n",
        "Y = sigmoid(T)\n",
        "plt.plot(T, sigmoid(T), c='r')\n",
        "plt.plot(T, sigmoid_p(T), c='b')"
      ],
      "execution_count": 0,
      "outputs": [
        {
          "output_type": "execute_result",
          "data": {
            "text/plain": [
              "[<matplotlib.lines.Line2D at 0x7f82395ce940>]"
            ]
          },
          "metadata": {
            "tags": []
          },
          "execution_count": 21
        },
        {
          "output_type": "display_data",
          "data": {
            "image/png": "[encoded data removed]",
            "text/plain": [
              "<Figure size 432x288 with 1 Axes>"
            ]
          },
          "metadata": {
            "tags": []
          }
        }
      ]
    },
    {
      "cell_type": "code",
      "metadata": {
        "id": "6G7pzgH6t5FD",
        "colab_type": "code",
        "outputId": "46730b06-cfd8-4da6-aba5-4084b839e448",
        "colab": {
          "base_uri": "https://localhost:8080/",
          "height": 269
        }
      },
      "source": [
        "# scatter data\n",
        "\n",
        "plt.axis([0, 6, 0, 6])\n",
        "plt.grid()\n",
        "\n",
        "for i in range(len(data)):\n",
        "  point = data[i]\n",
        "  color = 'r'\n",
        "  \n",
        "  if point[2] == 0:\n",
        "    color = 'b'\n",
        "  plt.scatter(point[0], point[1], c=color)"
      ],
      "execution_count": 0,
      "outputs": [
        {
          "output_type": "display_data",
          "data": {
            "image/png": "[encoded data removed]",
            "text/plain": [
              "<Figure size 432x288 with 1 Axes>"
            ]
          },
          "metadata": {
            "tags": []
          }
        }
      ]
    },
    {
      "cell_type": "code",
      "metadata": {
        "id": "WRsNg5CFsap0",
        "colab_type": "code",
        "outputId": "7f0fc0e7-3327-443c-ed2c-05e0acd220be",
        "colab": {
          "base_uri": "https://localhost:8080/",
          "height": 282
        }
      },
      "source": [
        "# training loop\n",
        "\n",
        "learning_rate = 0.2\n",
        "costs = []\n",
        "\n",
        "w1 = np.random.randn()\n",
        "w2 = np.random.randn()\n",
        "b  = np.random.randn()\n",
        "\n",
        "for i in range(50000):\n",
        "  ri = np.random.randint(len(data))\n",
        "  # print(ri)\n",
        "  \n",
        "  point = data[ri]\n",
        "  # print(point)\n",
        "\n",
        "  z = point[0] * w1 + point[1] * w2 + b\n",
        "  pred = sigmoid(z)\n",
        "  \n",
        "  target = point[2]\n",
        "  cost = np.square(pred - target)\n",
        "  \n",
        "  # costs.append(cost)\n",
        "  \n",
        "  # print(point)\n",
        "  # if i % 100 == 0:\n",
        "  #   print(cost)\n",
        "  \n",
        "  dcost_pred = 2 * (pred - target)\n",
        "  dpred_dz = sigmoid_p(z)\n",
        "  \n",
        "  dz_dw1 = point[0]\n",
        "  dz_dw2 = point[1]\n",
        "  dz_db  = 1\n",
        "  \n",
        "  dcost_dz = dcost_pred * dpred_dz\n",
        "  \n",
        "  dcost_dw1 = dcost_dz * dz_dw1\n",
        "  dcost_dw2 = dcost_dz * dz_dw2\n",
        "  dcost_db  = dcost_dz * dz_db\n",
        "  \n",
        "  w1 = w1 - learning_rate * dcost_dw1\n",
        "  w2 = w2 - learning_rate * dcost_dw2\n",
        "  b  = b  - learning_rate * dcost_db\n",
        "  \n",
        "  cost_sum = 0\n",
        "  \n",
        "  if i % 100 == 0:\n",
        "    for j in range(len(data)):\n",
        "      p = data[ri]\n",
        "      z = p[0] * w1 + p[1] * w2 + b\n",
        "      pred = sigmoid(z)\n",
        "\n",
        "      cost_sum += np.square(pred - target)\n",
        "    costs.append(cost_sum/len(data))\n",
        "  \n",
        "plt.plot(costs)"
      ],
      "execution_count": 0,
      "outputs": [
        {
          "output_type": "execute_result",
          "data": {
            "text/plain": [
              "[<matplotlib.lines.Line2D at 0x7f8236b729b0>]"
            ]
          },
          "metadata": {
            "tags": []
          },
          "execution_count": 55
        },
        {
          "output_type": "display_data",
          "data": {
            "image/png": "[encoded data removed]",
            "text/plain": [
              "<Figure size 432x288 with 1 Axes>"
            ]
          },
          "metadata": {
            "tags": []
          }
        }
      ]
    },
    {
      "cell_type": "code",
      "metadata": {
        "id": "OnVVwNnyxzMo",
        "colab_type": "code",
        "outputId": "0b4ed12e-0c47-460a-d60d-a5e43f1da681",
        "colab": {
          "base_uri": "https://localhost:8080/",
          "height": 295
        }
      },
      "source": [
        "# seeing model predictions\n",
        "\n",
        "for i in range(len(data)):\n",
        "  point = data[i]\n",
        "  print(point)\n",
        "  z = point[0] * w1 + point[1] * w2 + b\n",
        "  pred = sigmoid(z)\n",
        "  print(\"pred:  {}\".format(pred))"
      ],
      "execution_count": 0,
      "outputs": [
        {
          "output_type": "stream",
          "text": [
            "[3, 1.5, 1]\n",
            "pred:  0.8367800701490156\n",
            "[2, 1, 0]\n",
            "pred:  0.0009413811796257528\n",
            "[4, 1.5, 1]\n",
            "pred:  0.9998219814359603\n",
            "[3, 1, 0]\n",
            "pred:  0.5079396745040483\n",
            "[3.5, 0.5, 1]\n",
            "pred:  0.8730889502631133\n",
            "[2, 0.5, 0]\n",
            "pred:  0.00018969146763312468\n",
            "[5.5, 1, 1]\n",
            "pred:  0.9999999756130163\n",
            "[1, 1, 0]\n",
            "pred:  8.601118302577658e-07\n"
          ],
          "name": "stdout"
        }
      ]
    },
    {
      "cell_type": "code",
      "metadata": {
        "id": "58MRGL-x1tTG",
        "colab_type": "code",
        "outputId": "69dbd49b-dfcb-499c-92e5-b9ee4bc5179f",
        "colab": {
          "base_uri": "https://localhost:8080/",
          "height": 34
        }
      },
      "source": [
        "z = mystery_flower[0] * w1 + mystery_flower[1] * w2 + b\n",
        "pred = sigmoid(z)\n",
        "pred"
      ],
      "execution_count": 0,
      "outputs": [
        {
          "output_type": "execute_result",
          "data": {
            "text/plain": [
              "0.999973284350222"
            ]
          },
          "metadata": {
            "tags": []
          },
          "execution_count": 57
        }
      ]
    },
    {
      "cell_type": "code",
      "metadata": {
        "id": "mlMhOYKL14Av",
        "colab_type": "code",
        "colab": {}
      },
      "source": [
        "import os"
      ],
      "execution_count": 0,
      "outputs": []
    },
    {
      "cell_type": "code",
      "metadata": {
        "id": "96wFnmvx16VS",
        "colab_type": "code",
        "outputId": "39784634-3288-455e-f533-8bdcda9f5c4a",
        "colab": {
          "base_uri": "https://localhost:8080/",
          "height": 34
        }
      },
      "source": [
        "os.system('ls -l')"
      ],
      "execution_count": 0,
      "outputs": [
        {
          "output_type": "execute_result",
          "data": {
            "text/plain": [
              "0"
            ]
          },
          "metadata": {
            "tags": []
          },
          "execution_count": 61
        }
      ]
    },
    {
      "cell_type": "code",
      "metadata": {
        "id": "mrAKx3_E2Hz_",
        "colab_type": "code",
        "colab": {}
      },
      "source": [
        "def which_flower(length, width):\n",
        "  z = length * w1 + width * w2 + b\n",
        "  pred = sigmoid(z)\n",
        "  if pred < 0.5:\n",
        "    os.system(\"say blue\")\n",
        "    print(\"blue\")\n",
        "  else:\n",
        "    os.system(\"say red\")\n",
        "    print(\"red\")"
      ],
      "execution_count": 0,
      "outputs": []
    },
    {
      "cell_type": "code",
      "metadata": {
        "id": "Oo7nhZOy2hl_",
        "colab_type": "code",
        "outputId": "c77b2d86-fa23-4ca6-e150-93fee8ecea2d",
        "colab": {
          "base_uri": "https://localhost:8080/",
          "height": 34
        }
      },
      "source": [
        "which_flower(mystery_flower[0], mystery_flower[1])"
      ],
      "execution_count": 0,
      "outputs": [
        {
          "output_type": "stream",
          "text": [
            "red\n"
          ],
          "name": "stdout"
        }
      ]
    },
    {
      "cell_type": "code",
      "metadata": {
        "id": "c3ffK-uS2uYR",
        "colab_type": "code",
        "outputId": "0cdca29f-8217-4b10-dbb4-2334d4526d9e",
        "colab": {
          "base_uri": "https://localhost:8080/",
          "height": 34
        }
      },
      "source": [
        "which_flower(0, 0)"
      ],
      "execution_count": 0,
      "outputs": [
        {
          "output_type": "stream",
          "text": [
            "blue\n"
          ],
          "name": "stdout"
        }
      ]
    }
  ]
}