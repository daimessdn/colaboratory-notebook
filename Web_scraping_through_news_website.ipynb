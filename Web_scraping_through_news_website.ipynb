{
  "nbformat": 4,
  "nbformat_minor": 0,
  "metadata": {
    "colab": {
      "name": "Web scraping through news website.ipynb",
      "provenance": [],
      "collapsed_sections": [
        "iRCGeXVzJLEv",
        "_3TAoruXI-tr"
      ],
      "toc_visible": true,
      "include_colab_link": true
    },
    "kernelspec": {
      "name": "python3",
      "display_name": "Python 3"
    }
  },
  "cells": [
    {
      "cell_type": "markdown",
      "metadata": {
        "id": "view-in-github",
        "colab_type": "text"
      },
      "source": [
        "<a href=\"https://colab.research.google.com/github/daimessdn/colaboratory-notebook/blob/master/Web_scraping_through_news_website.ipynb\" target=\"_parent\"><img src=\"https://colab.research.google.com/assets/colab-badge.svg\" alt=\"Open In Colab\"/></a>"
      ]
    },
    {
      "cell_type": "markdown",
      "metadata": {
        "id": "GB7FlaMhM9ry",
        "colab_type": "text"
      },
      "source": [
        "# Web scrapping"
      ]
    },
    {
      "cell_type": "markdown",
      "metadata": {
        "id": "iRCGeXVzJLEv",
        "colab_type": "text"
      },
      "source": [
        "## install libraries and import them"
      ]
    },
    {
      "cell_type": "code",
      "metadata": {
        "id": "a0wcBKF6EYfV",
        "colab_type": "code",
        "outputId": "d8469e49-959d-4802-fb1c-f38db7b3cf06",
        "colab": {
          "base_uri": "https://localhost:8080/",
          "height": 139
        }
      },
      "source": [
        "# install dependencies for web scraping\n",
        "!pip install requests\n",
        "!pip install bs4"
      ],
      "execution_count": 0,
      "outputs": [
        {
          "output_type": "stream",
          "text": [
            "Requirement already satisfied: requests in /usr/local/lib/python3.6/dist-packages (2.21.0)\n",
            "Requirement already satisfied: certifi>=2017.4.17 in /usr/local/lib/python3.6/dist-packages (from requests) (2019.11.28)\n",
            "Requirement already satisfied: idna<2.9,>=2.5 in /usr/local/lib/python3.6/dist-packages (from requests) (2.8)\n",
            "Requirement already satisfied: chardet<3.1.0,>=3.0.2 in /usr/local/lib/python3.6/dist-packages (from requests) (3.0.4)\n",
            "Requirement already satisfied: urllib3<1.25,>=1.21.1 in /usr/local/lib/python3.6/dist-packages (from requests) (1.24.3)\n",
            "Requirement already satisfied: bs4 in /usr/local/lib/python3.6/dist-packages (0.0.1)\n",
            "Requirement already satisfied: beautifulsoup4 in /usr/local/lib/python3.6/dist-packages (from bs4) (4.6.3)\n"
          ],
          "name": "stdout"
        }
      ]
    },
    {
      "cell_type": "code",
      "metadata": {
        "id": "ShU3-4dRGVAo",
        "colab_type": "code",
        "colab": {}
      },
      "source": [
        "# import installed dependencies\n",
        "import requests\n",
        "from bs4 import BeautifulSoup"
      ],
      "execution_count": 0,
      "outputs": []
    },
    {
      "cell_type": "markdown",
      "metadata": {
        "id": "K__Ss7zMVE5B",
        "colab_type": "text"
      },
      "source": [
        "## get news update from detik.com"
      ]
    },
    {
      "cell_type": "code",
      "metadata": {
        "id": "R9bbMUezGedN",
        "colab_type": "code",
        "colab": {}
      },
      "source": [
        "# get a webpage (berita.com)\n",
        "result = requests.get('https://news.detik.com/berita')\n",
        "src = result.content                # store the web content\n",
        "soup = BeautifulSoup(src, 'lxml')   # convert the 'src' content into LXML type that is easy to read as HTML."
      ],
      "execution_count": 0,
      "outputs": []
    },
    {
      "cell_type": "code",
      "metadata": {
        "id": "9qchYbelSNsZ",
        "colab_type": "code",
        "colab": {}
      },
      "source": [
        "# soup"
      ],
      "execution_count": 0,
      "outputs": []
    },
    {
      "cell_type": "code",
      "metadata": {
        "id": "HxXyQL8SHU51",
        "colab_type": "code",
        "colab": {}
      },
      "source": [
        "# initiate URL list\n",
        "urls = []"
      ],
      "execution_count": 0,
      "outputs": []
    },
    {
      "cell_type": "code",
      "metadata": {
        "id": "XQfoJ5kkJW6N",
        "colab_type": "code",
        "colab": {}
      },
      "source": [
        "# find all url element in the webpage\n",
        "# select main content of detik.com (inspect element first by right-click the webpage, and then 'Inspect')\n",
        "newsfeed = soup.find('div', {'class': 'list-content'})\n",
        "# print(newsfeed.find_all('article'))\n",
        "\n",
        "for article in newsfeed.find_all('article'):\n",
        "  link = article['i-link']                    # select an URL in newsfeed\n",
        "  urls.append(link)            # insert an URL selected inside urls[] list."
      ],
      "execution_count": 0,
      "outputs": []
    },
    {
      "cell_type": "code",
      "metadata": {
        "id": "Q-99dOonLNoC",
        "colab_type": "code",
        "outputId": "162d593c-3a22-43f2-90bf-e136c2fd0c97",
        "colab": {
          "base_uri": "https://localhost:8080/",
          "height": 732
        }
      },
      "source": [
        "# display all link savedin urls[]\n",
        "for i in range(len(urls)):\n",
        "  print(urls[i])"
      ],
      "execution_count": 0,
      "outputs": [
        {
          "output_type": "stream",
          "text": [
            "https://news.detik.com/berita/d-4838167/gempa-m-29-terjadi-di-palu-sulawesi-tengah?tag_from=wp_nhl_1\n",
            "https://news.detik.com/berita/d-4838140/imbas-hujan-deras-permukiman-di-kampung-melayu-cawang-terendam-banjir?tag_from=wp_nhl_2\n",
            "https://news.detik.com/berita/d-4838124/malam-tahun-baru-pemkot-bogor-akan-gelar-doa-bersama?tag_from=wp_nhl_3\n",
            "https://news.detik.com/berita/d-4838117/kemenhub-tambah-68-bus-eksklusif-untuk-libur-nataru-di-pulogebang?tag_from=wp_nhl_4\n",
            "https://news.detik.com/berita/d-4838111/penertiban-pedagang-kembang-api-jelang-tahun-baru-di-palu-nyaris-ricuh?tag_from=wp_nhl_5\n",
            "https://news.detik.com/berita/d-4838099/di-depan-umat-kristiani-jokowi-negara-jamin-kebebasan-beragama?tag_from=wp_nhl_6\n",
            "https://news.detik.com/berita/d-4838095/briptu-derustianto-tersungkur-dihukum-saling-pukul?tag_from=wp_nhl_7\n",
            "https://news.detik.com/berita/d-4838094/cerita-jokowi-tentang-persahabatan-m-natsir-kasimo-dan-gus-dur-romo-mangun?tag_from=wp_nhl_8\n",
            "https://news.detik.com/berita/d-4838092/e-litigation-diterapkan-2020-ma-urus-perkara-tak-usah-ke-pengadilan?tag_from=wp_nhl_9\n",
            "https://news.detik.com/berita/d-4838089/sampaikan-pesan-natal-jokowi-ajak-umat-kristiani-jaga-persaudaraan-bangsa?tag_from=wp_nhl_10\n",
            "https://news.detik.com/berita/d-4838085/waswas-kpk-tak-lagi-independen-karena-perpres?tag_from=wp_nhl_11\n",
            "https://news.detik.com/berita/d-4838083/ada-genangan-di-samping-untar-kendaraan-masih-bisa-melintas?tag_from=wp_nhl_12\n",
            "https://news.detik.com/berita/d-4838070/ratu-belanda-teken-penyerahan-kedaulatan-indonesia-harus-bayar-mahar?tag_from=wp_nhl_13\n",
            "https://news.detik.com/berita/d-4838067/kerap-mangsa-ternak-macan-dahan-ditembak-warga-di-jambi?tag_from=wp_nhl_14\n",
            "https://news.detik.com/berita/d-4838066/ketua-ma-jokowi-suka-marah-kalau-serapan-anggaran-tak-sesuai-harapan?tag_from=wp_nhl_15\n",
            "https://news.detik.com/berita/d-4838052/diguyur-hujan-deras-2-jam-kota-samarinda-dilanda-banjir?tag_from=wp_nhl_16\n",
            "https://news.detik.com/berita/d-4838049/15-abad-lalu-gereja-ini-berdiri-dan-menginspirasi-arsitektur-masjid?tag_from=wp_nhl_17\n",
            "https://news.detik.com/berita/d-4838048/saat-fpi-sentil-mahfud-md-soal-malaikat?tag_from=wp_nhl_18\n",
            "https://news.detik.com/berita/d-4838046/59-hakim-meninggal-di-2019-ma-soroti-jaminan-kesehatan-tak-memadai?tag_from=wp_nhl_19\n",
            "https://news.detik.com/berita/d-4838035/diberi-jokowi-sepeda-peserta-natal-nasional-malah-terima-kasih-ke-menteri?tag_from=wp_nhl_20\n",
            "https://news.detik.com/berita/d-4838025/tahun-baru-krl-tambah-jam-operasional-hingga-pukul-3-dini-hari?tag_from=wp_nhl_21\n",
            "https://news.detik.com/berita/d-4838023/eks-bos-jiwasraya-dicegah-jaksa-mengusut-rugi-triliunan-rupiah?tag_from=wp_nhl_22\n",
            "https://news.detik.com/berita/d-4838022/penyerang-novel-polisi-aktif-komisi-iii-harap-kpk-polri-tetap-solid?tag_from=wp_nhl_23\n",
            "https://news.detik.com/berita/d-4838010/warga-perumahan-di-bojong-gede-temukan-4-ular-selama-2-minggu?tag_from=wp_nhl_24\n",
            "https://news.detik.com/berita/d-4838005/fadli-zon-kritik-draf-perpres-tempatkan-pimpinan-kpk-di-bawah-presiden?tag_from=wp_nhl_25\n",
            "https://news.detik.com/berita/d-4838003/ditunjuk-sementara-2-plt-jubir-kpk-siap-jalankan-tugas?tag_from=wp_nhl_26\n",
            "https://news.detik.com/berita/d-4837989/pt-kci-selama-2019-terjadi-35-kasus-pelecehan-seksual-di-krl?tag_from=wp_nhl_27\n",
            "https://news.detik.com/berita/d-4837988/menpan-diperintahkan-jokowi-bikin-roadmap-pengalihan-asn-ke-ibu-kota-baru?tag_from=wp_nhl_28\n",
            "https://news.detik.com/berita/d-4837987/2-penyerang-novel-baswedan-diamankan-atas-kerja-sama-dengan-brimob?tag_from=wp_nhl_29\n",
            "https://news.detik.com/berita/d-4837983/fadli-desak-bentuk-pansus-jiwasrayagate-tak-perlu-salahkan-masa-lalu?tag_from=wp_nhl_30\n",
            "https://news.detik.com/berita/d-4837980/begini-perjalanan-kasus-novel-baswedan-hingga-terungkap-dua-terduga-penyiram?tag_from=wp_nhl_31\n",
            "https://news.detik.com/berita/d-4837977/tim-advokasi-minta-polri-pastikan-penyerang-novel-tak-lindungi-orang-lain?tag_from=wp_nhl_32\n",
            "https://news.detik.com/berita/d-4837975/gubernur-edy-ingin-tanam-pohon-jengkol-di-sepanjang-tol-sumut?tag_from=wp_nhl_33\n",
            "https://news.detik.com/berita/d-4837973/alasan-ketua-kpk-tunjuk-2-plt-jubir-untuk-pencegahan-dan-penindakan?tag_from=wp_nhl_34\n",
            "https://news.detik.com/berita/d-4837972/fakta-fakta-hujan-menurut-al-quran-dan-hadits?tag_from=wp_nhl_35\n",
            "https://news.detik.com/berita/d-4837968/polisi-duga-pembobol-atm-100-juta-di-makassar-pernah-beraksi-di-balikpapan?tag_from=wp_nhl_36\n",
            "https://news.detik.com/berita/d-4837966/ma-kembali-usulkan-suhartoyo-jadi-hakim-mk-periode-kedua?tag_from=wp_nhl_37\n",
            "https://news.detik.com/berita/d-4837961/tim-advokasi-novel-baswedan-pelaku-menyerahkan-diri-atau-ditangkap?tag_from=wp_nhl_38\n",
            "https://news.detik.com/berita/d-4837959/underpass-gandaria-city-jaksel-banjir-lalin-dialihkan?tag_from=wp_nhl_39\n",
            "https://news.detik.com/berita/d-4837958/oknum-polisi-diduga-bekingi-pengeboran-minyak-ilegal-di-jambi-ditangkap?tag_from=wp_nhl_40\n"
          ],
          "name": "stdout"
        }
      ]
    },
    {
      "cell_type": "markdown",
      "metadata": {
        "id": "_3TAoruXI-tr",
        "colab_type": "text"
      },
      "source": [
        "## getch data from kompas.com"
      ]
    },
    {
      "cell_type": "code",
      "metadata": {
        "id": "hJOR2U3eJrCt",
        "colab_type": "code",
        "colab": {}
      },
      "source": [
        "# get a webpage (berita.com)\n",
        "result = requests.get('https://www.kompas.com')\n",
        "src = result.content                # store the web content\n",
        "soup = BeautifulSoup(src, 'lxml')   # convert the 'src' content into LXML type that is easy to read as HTML."
      ],
      "execution_count": 0,
      "outputs": []
    },
    {
      "cell_type": "code",
      "metadata": {
        "colab_type": "code",
        "id": "-QnzH0LeLT18",
        "colab": {}
      },
      "source": [
        "# initiate URL list\n",
        "urls = []"
      ],
      "execution_count": 0,
      "outputs": []
    },
    {
      "cell_type": "code",
      "metadata": {
        "colab_type": "code",
        "id": "WqfJs3t1LT2c",
        "colab": {}
      },
      "source": [
        "# find all url element in the webpage\n",
        "# select main content of detik.com (inspect element first by right-click the webpage, and then 'Inspect')\n",
        "newsfeed = soup.find_all('div', {'class': 'article__asset'})\n",
        "# print(newsfeed.find_all('article'))\n",
        "\n",
        "for article in newsfeed:\n",
        "  link = article.a['href']                    # select an URL in newsfeed\n",
        "  urls.append(link)            # insert an URL selected inside urls[] list."
      ],
      "execution_count": 0,
      "outputs": []
    },
    {
      "cell_type": "code",
      "metadata": {
        "colab_type": "code",
        "outputId": "415b88bd-ad6c-40a7-bb81-d40be143fd76",
        "id": "5XhWcduLLT2q",
        "colab": {
          "base_uri": "https://localhost:8080/",
          "height": 419
        }
      },
      "source": [
        "# display all link savedin urls[]\n",
        "for i in range(len(urls)):\n",
        "  print(urls[i])"
      ],
      "execution_count": 0,
      "outputs": [
        {
          "output_type": "stream",
          "text": [
            "https://www.kompas.com/tren/read/2019/12/27/214119065/pelakunya-tertangkap-berikut-perjalanan-kasus-novel-baswedan-sejak-2017\n",
            "https://regional.kompas.com/read/2019/12/27/13260011/pemilik-kedai-kopi-di-purwokerto-gugat-grab-rp-112-miliar\n",
            "https://bola.kompas.com/read/2019/12/28/04000028/kendati-punya-lisensi-afc-pro-iwan-setiawan-pilih-jalan-sunyi-di-liga-3\n",
            "https://www.kompasiana.com/teotarigan/5df1d4fed541df203e7500b2/menertawakan-hidup-yang-menyedihkan-dalam-pengajaran-waktu?utm_source=kompascom&utm_medium=article&utm_campaign=ContentFeed\n",
            "https://bola.kompas.com/read/2019/12/28/03084208/resmi-zlatan-ibrahimovic-kembali-ke-ac-milan\n",
            "https://www.kompas.tv/article/61452/intoleransi-jadi-musuh-besar-bangsa-indonesia\n",
            "https://www.kompas.tv/article/61451/pidato-jokowi-soal-toleransi-di-natal-nasional-2019\n",
            "https://www.bolasport.com/read/311967990/sumpah-zlatan-ibrahimovic-saat-pulang-ke-ac-milan-usai-pisah-7-tahun\n",
            "https://www.kompas.tv/article/61449/obsesi-pemerintahan-jokowi-bangun-infrastruktur-untuk-masa-depan-indonesia\n",
            "https://kompas.id/baca/internasional/2019/12/27/bangsa-arab-belajarlah-ke-asia/?utm_source=kompascom&utm_medium=open_api_feeder&utm_campaign=premium_articles\n",
            "https://www.kompasiana.com/bayusarden/5df86954097f36474c42dd12/ketika-july-morning-di-pukul-mundur-stairway-to-heaven?utm_source=kompascom&utm_medium=article&utm_campaign=ContentFeed\n",
            "https://www.bolasport.com/read/311967988/resmi-zlatan-ibrahimovic-kembali-memperkuat-ac-milan\n",
            "https://bola.kompas.com/read/2019/12/28/01000008/link-live-streaming-wolves-vs-man-city-kickoff-02.45-wib\n",
            "https://regional.kompas.com/read/2019/12/28/00344361/jasad-perempuan-yang-diterkam-buaya-di-konawe-utara-ditemukan-tak-utuh\n",
            "https://www.kompas.tv/article/61448/faldo-maldini-daftar-pemilihan-bupati-lewat-partai-demokrat\n",
            "https://www.kompas.tv/article/61447/jaket-karya-lokal-yang-dipakai-presiden-jokowi-jadi-perhatian-netizen\n",
            "https://megapolitan.kompas.com/read/2019/12/27/23550901/imigrasi-depok-tangkap-2-wna-pakistan-modus-minta-sumbangan-ke-warga\n",
            "https://bola.kompas.com/read/2019/12/27/23360828/berita-transfer-arturo-vidal-capai-kesepakatan-bergabung-dengan-inter\n",
            "https://regional.kompas.com/read/2019/12/27/23352771/tambang-pasir-ilegal-di-lereng-gunung-merapi-mantan-kades-ditangkap\n",
            "https://bola.kompas.com/read/2019/12/27/23200038/man-united-hanya-perlu-konsisten-di-liga-inggris\n",
            "https://megapolitan.kompas.com/read/2019/12/27/23133571/wakil-ketua-dprd-dki-ajak-seluruh-anggota-komisi-e-data-kondisi-sekolah\n",
            "https://www.kompas.tv/article/61444/seorang-pria-bunuh-mantan-istri-karena-tidur-mendengkur\n"
          ],
          "name": "stdout"
        }
      ]
    },
    {
      "cell_type": "markdown",
      "metadata": {
        "id": "4k9DFNiD8Q7X",
        "colab_type": "text"
      },
      "source": [
        "# Explore the url result"
      ]
    },
    {
      "cell_type": "markdown",
      "metadata": {
        "id": "2zxgND8eMG_5",
        "colab_type": "text"
      },
      "source": [
        "## open the first url obtained (from detik.com)"
      ]
    },
    {
      "cell_type": "code",
      "metadata": {
        "id": "ysIUPagM8hZN",
        "colab_type": "code",
        "colab": {}
      },
      "source": [
        "result = requests.get(urls[3])\n",
        "src = result.content                # store the web content\n",
        "soup = BeautifulSoup(src, 'lxml')   # convert the 'src' content into LXML type that is easy to read as HTML."
      ],
      "execution_count": 0,
      "outputs": []
    },
    {
      "cell_type": "code",
      "metadata": {
        "id": "ZytSUiP89SgE",
        "colab_type": "code",
        "outputId": "f80f1a1d-dfc1-4a4c-8c7a-7940f0948a72",
        "colab": {
          "base_uri": "https://localhost:8080/",
          "height": 159
        }
      },
      "source": [
        "texts = soup.find('div', {'class': 'detail__body-text'})\n",
        "\n",
        "sentences = \"\"\n",
        "\n",
        "for div in texts.find_all('div'):\n",
        "  div.decompose()\n",
        "for lb in texts.find_all('br'):\n",
        "  lb.decompose()\n",
        "for readmore in texts.find_all('table', {'class': 'linksisip'}):\n",
        "  readmore.decompose()\n",
        "texts.style.decompose()\n",
        "\n",
        "sentences += texts.text\n",
        "\n",
        "print(sentences)"
      ],
      "execution_count": 0,
      "outputs": [
        {
          "output_type": "stream",
          "text": [
            "\n",
            "Jakarta - Direktorat Perhubungan Darat Kementerian Perhubungan meluncurkan 68 armada bus eksklusif yang akan melayani rute Tol Trans Sumatera dan rute Jogja-Solo-Semarang (Joglosemar) yang melewati Tol Trans Jawa.Penambahan bus Antar Kota Antar Provinsi (AKAP) sebesar 10% ini bertujuan untuk meningkatkan okupansi pelayanan moda bus saat masa angkutan Natal 2019 dan Tahun Baru 2020 (Nataru).\"Sementara AKAP Trans Sumatera ini hadir untuk meningkatkan okupansi bus AKAP melalui jalan tol Bakauheni sampai ke Palembang,\" kata Direktur Jenderal Perhubungan Darat, Budi Setiyadi dalam keterangan tertulis, Jumat (27/12/2019).Budi mengatakan baik bus-bus yang akan melayani rute Joglosemar dan Trans Sumatera ini akan berangkat dari Terminal Pulogebang, Jakarta. Ada 2 PO yang melayani rute Trans Sumatera dan 10 PO melayani rute Joglosemar.\"Untuk bus yang melayani Trans Sumatera ada 2 PO yaitu PT. Pahala Kencana dan PT. Laju Prima. Untuk Pahala Kencana akan melayani 2 rute yakni Jakarta-Palembang dan Jakarta-Prabumulih. Sementara Laju Prima akan melayani rute Jakarta-Palembang,\" ucap Dirjen Budi.Sementara untuk bus AKAP Joglosemar akan dilayani oleh 10 PO. Adapun kesepuluh PO tersebut yaitu PT. Agra Mas, PT. Kramat Djati, PT. Sumber Alam, PT. Giri Indah Abadi, PT. Indo Transport Abdimas, PT. Gunung Mulia, PT. Laju Prima, PT. Sinar Jaya, PT. Putra Mulya, dan PT. Rosalia Indah.\n",
            "\n",
            "\n",
            "(mul/mpr)\n",
            "\n",
            "\n"
          ],
          "name": "stdout"
        }
      ]
    },
    {
      "cell_type": "markdown",
      "metadata": {
        "colab_type": "text",
        "id": "IGuz_xk7MLR8"
      },
      "source": [
        "## open the first url obtained (from kompas.com)"
      ]
    },
    {
      "cell_type": "code",
      "metadata": {
        "colab_type": "code",
        "id": "1qO6bfEDMWWO",
        "colab": {}
      },
      "source": [
        "result = requests.get(urls[0] + \"?page=all\")\n",
        "src = result.content                # store the web content\n",
        "soup = BeautifulSoup(src, 'lxml')   # convert the 'src' content into LXML type that is easy to read as HTML.\n",
        "# print(soup)"
      ],
      "execution_count": 0,
      "outputs": []
    },
    {
      "cell_type": "code",
      "metadata": {
        "colab_type": "code",
        "outputId": "44a7162a-0f1e-4b20-c4ef-817e394e017b",
        "id": "znCuZv8MMLSP",
        "colab": {
          "base_uri": "https://localhost:8080/",
          "height": 54
        }
      },
      "source": [
        "texts = soup.find('div', {'class': 'read__content'})\n",
        "\n",
        "p = \"\"\n",
        "\n",
        "for div in texts.find_all('div'):\n",
        "  div.decompose()\n",
        "\n",
        "for lb in texts.find_all('p'):\n",
        "  p += lb.text + \" \"\n",
        "\n",
        "print(p)"
      ],
      "execution_count": 0,
      "outputs": [
        {
          "output_type": "stream",
          "text": [
            "KOMPAS.com - Kasus penyiraman  air keras terhadap penyidik senior  Komisi Pemberantasan Korupsi (KPK),  Novel Baswedan telah menemui titik terang. Kamis (26/12/2019), aparat kepolisian telah menangkap dua  pelaku penyiraman air keras kepada Novel di Cimanggis, Depok, Jawa Barat. Kedua pelaku, yakni RM dan RB diketahui merupakan anggota Polri aktif. Perlu diketahui, kasus Novel ini sudah lebih dari 2,5 tahun mengendap. Meski telah dibentuk sejumlah tim untuk mengungkap kasusnya, namun tak juga membuahkan hasil. Bahkan Polda Metro Jaya sempat merilis sketsa wajah dua orang yang diduga sebagai pelaku teror Novel pada 11 April 2017. Lantas seperti apa perjalanan kasus Novel Baswedan? Baca juga: Mengapa Kasus Novel Baswedan Selalu Jadi Perhatian Publik? Pada 11 April 2017,  Novel Baswedan disiram air keras (asam sulfat) oleh orang tidak dikenal setelah menunaikan shalat subuh di Masjid Al Ihsan, Kelapa Gading, Jakarta utara. Akibat penyiraman air keras ini, kedua mata Novel mengalami luka bakar. Sementara dari pihak kepolisian, Kapolri mengumumkan telah menemukan saksi kunci terkait kasus penyiraman air keras terhadap Novel. Bahkan, Novel sempat diserang kabar yang menuduh bahwa dirinya bersandiwara mengenai kesehatannya. Sementara itu, pasca-operasi tahap satu, diketahui bahwa mata kiri Novel mengalami kerusakan yang lebih parah dibandingkan pada mata kanannya. Hasil operasi menyebutkan bahwa mata kiri Novel tidak dapat melihat sama sekali. Sementara, mata kanan Novel terlihat masih ada kabut. Diketahui, sebelum operasi dilakukan, kondisi mata Novel lebih baik karena itu diperkirakan keadaan tersebut bagian dari penyembuhan. Baca juga: Kasus Novel Baswedan, Buku Merah, dan Beban Kapolri Baru Selanjutnya, Kapolda Metro Jaya Irjen Idham Azis sempat merilis sketsa dua wajah orang yang diduga menjadi pelaku penyiraman air keras di Gedung KPK, Jakarta pada Jumat (24/11/2017). Dalam pertemuan itu, Idham menjelaskan bahwa hasil sketsa tersebut merupakan kerja dari tim Australian Federal Police (AFP) dan Pusat Inafis Mabes Polri. Sketsa tersebut juga merupakan hasil analisis rekaman CCTV dan keterangan para saksi. Setelah menjalani perawatan kurang lebih selama 1 tahun di Singapura, Novel Baswedan pulang ke Tanah Air pada Kamis (22/2/2018). Novel kembali ke Indonesia sembari menunggu operasi tahap kedua pada matanya. Pada tahap itu, nantinya dilakukan proses pemasangan agar bisa berfungsi lebih lanjut. Saat tiba di Indonesia, muncul dukungan penuntasan kasus Novel Baswedan di media sosial dengan tagar #KamiBersamaNovel. Pada pertengahan tahun 2018, Novel menjalani operasi kecil pada mata kirinya di Singapura. Baca juga: Mengenal Sosok Iwan Bule, Ketum PSSI yang Pernah Diperiksa Terkait Kasus Novel Baswedan Ini merupakan kali pertama Novel bekerja setelah kejadian penyiraman air keras pada 11 April 2017 lalu. Kemudian, Komisi Nasional Hak Asasi Manusia (komnas HAM) membuat laporan hasil pemantauan terhadap kasus penyiraman air keras Novel Baswedan. Disebutkan bahwa Novel pernah menyampaikan adanya keterlibatan seorang jenderal polisi dalam kasus penyerangannya pada 21 Desember 2018. Pada 8 Januari 2019, Polri membentuk tim khusus dalam rangka pengusutan kasus Novel Baswedan. Surat ini berlaku selama enam bulan, mulai 8 Januari-7 Juli 2019. Kemudian, usai 700 hari penyerangan Novel Baswedan, dibuat petisi online dalam situs Change.org yang menginginkan pembentukan tim independen. Dalam petisi tersebut sebanyak 180.000 orang telah menandatangani situs tersebut pada 13 Maret 2019. Pasca-berakhirnya tim gabungan Polri, Komnas HAM menyebut ada 4 orang diduga penyerang Novel Baswedan. Sementara itu, Polri mengklaim bahwa tim teknis kasus Novel Baswedan terus bekerja keras hingga dikabarkan pelaku sudah ditemukan pada Desember 2019. Baca juga: Jalan Panjang Novel Baswedan, dari Sarang Burung Walet hingga Tudingan Tukar Guling Perkara   \n"
          ],
          "name": "stdout"
        }
      ]
    },
    {
      "cell_type": "markdown",
      "metadata": {
        "id": "2Pg0HgezOIW_",
        "colab_type": "text"
      },
      "source": [
        "# Convert data to other types\n",
        "## for example, we want to download the data in Excel file"
      ]
    },
    {
      "cell_type": "code",
      "metadata": {
        "id": "MiHrY3u9OYa_",
        "colab_type": "code",
        "colab": {}
      },
      "source": [
        "from google.colab import files\n",
        "\n",
        "with open('scrap.xlsx', 'w') as f:\n",
        "  for i in range(len(urls)):\n",
        "    f.write(urls[i] + \"\\n\")\n",
        "\n",
        "files.download('scrap.xlsx')"
      ],
      "execution_count": 0,
      "outputs": []
    }
  ]
}