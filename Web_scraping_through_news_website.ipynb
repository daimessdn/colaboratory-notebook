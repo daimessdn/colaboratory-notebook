{
  "nbformat": 4,
  "nbformat_minor": 0,
  "metadata": {
    "colab": {
      "name": "Web scraping through news website.ipynb",
      "provenance": [],
      "collapsed_sections": [
        "iRCGeXVzJLEv",
        "_3TAoruXI-tr"
      ],
      "include_colab_link": true
    },
    "kernelspec": {
      "name": "python3",
      "display_name": "Python 3"
    }
  },
  "cells": [
    {
      "cell_type": "markdown",
      "metadata": {
        "id": "view-in-github",
        "colab_type": "text"
      },
      "source": [
        "<a href=\"https://colab.research.google.com/github/daimessdn/colaboratory-notebook/blob/master/Web_scraping_through_news_website.ipynb\" target=\"_parent\"><img src=\"https://colab.research.google.com/assets/colab-badge.svg\" alt=\"Open In Colab\"/></a>"
      ]
    },
    {
      "cell_type": "markdown",
      "metadata": {
        "id": "GB7FlaMhM9ry",
        "colab_type": "text"
      },
      "source": [
        "# Web scrapping"
      ]
    },
    {
      "cell_type": "markdown",
      "metadata": {
        "id": "iRCGeXVzJLEv",
        "colab_type": "text"
      },
      "source": [
        "## install libraries and import them"
      ]
    },
    {
      "cell_type": "code",
      "metadata": {
        "id": "a0wcBKF6EYfV",
        "colab_type": "code",
        "outputId": "d8469e49-959d-4802-fb1c-f38db7b3cf06",
        "colab": {
          "base_uri": "https://localhost:8080/",
          "height": 139
        }
      },
      "source": [
        "# install dependencies for web scraping\n",
        "!pip install requests\n",
        "!pip install bs4"
      ],
      "execution_count": 0,
      "outputs": [
        {
          "output_type": "stream",
          "text": [
            "Requirement already satisfied: requests in /usr/local/lib/python3.6/dist-packages (2.21.0)\n",
            "Requirement already satisfied: certifi>=2017.4.17 in /usr/local/lib/python3.6/dist-packages (from requests) (2019.11.28)\n",
            "Requirement already satisfied: idna<2.9,>=2.5 in /usr/local/lib/python3.6/dist-packages (from requests) (2.8)\n",
            "Requirement already satisfied: chardet<3.1.0,>=3.0.2 in /usr/local/lib/python3.6/dist-packages (from requests) (3.0.4)\n",
            "Requirement already satisfied: urllib3<1.25,>=1.21.1 in /usr/local/lib/python3.6/dist-packages (from requests) (1.24.3)\n",
            "Requirement already satisfied: bs4 in /usr/local/lib/python3.6/dist-packages (0.0.1)\n",
            "Requirement already satisfied: beautifulsoup4 in /usr/local/lib/python3.6/dist-packages (from bs4) (4.6.3)\n"
          ],
          "name": "stdout"
        }
      ]
    },
    {
      "cell_type": "code",
      "metadata": {
        "id": "ShU3-4dRGVAo",
        "colab_type": "code",
        "colab": {}
      },
      "source": [
        "# import installed dependencies\n",
        "import requests\n",
        "from bs4 import BeautifulSoup"
      ],
      "execution_count": 0,
      "outputs": []
    },
    {
      "cell_type": "markdown",
      "metadata": {
        "id": "K__Ss7zMVE5B",
        "colab_type": "text"
      },
      "source": [
        "## get news update from detik.com"
      ]
    },
    {
      "cell_type": "code",
      "metadata": {
        "id": "R9bbMUezGedN",
        "colab_type": "code",
        "colab": {}
      },
      "source": [
        "# get a webpage (berita.com) a webpage (berita.com)\n",
        "result = requests.get('https://news.detik.com/berita')\n",
        "src = result.content                # store the web content\n",
        "soup = BeautifulSoup(src, 'lxml')   # convert the 'src' content into LXML type that is easy to read as HTML."
      ],
      "execution_count": 0,
      "outputs": []
    },
    {
      "cell_type": "code",
      "metadata": {
        "id": "9qchYbelSNsZ",
        "colab_type": "code",
        "colab": {}
      },
      "source": [
        "# soup"
      ],
      "execution_count": 0,
      "outputs": []
    },
    {
      "cell_type": "code",
      "metadata": {
        "id": "HxXyQL8SHU51",
        "colab_type": "code",
        "colab": {}
      },
      "source": [
        "# initiate URL list\n",
        "urls = []"
      ],
      "execution_count": 0,
      "outputs": []
    },
    {
      "cell_type": "code",
      "metadata": {
        "id": "XQfoJ5kkJW6N",
        "colab_type": "code",
        "colab": {}
      },
      "source": [
        "# find all url element in the webpage\n",
        "# select main content of detik.com (inspect element first by right-click the webpage, and then 'Inspect')\n",
        "newsfeed = soup.find('div', {'class': 'list-content'})\n",
        "# print(newsfeed.find_all('article'))\n",
        "\n",
        "for article in newsfeed.find_all('article'):\n",
        "  link = article['i-link']                    # select an URL in newsfeed\n",
        "  urls.append(link)            # insert an URL selected inside urls[] list."
      ],
      "execution_count": 0,
      "outputs": []
    },
    {
      "cell_type": "code",
      "metadata": {
        "id": "Q-99dOonLNoC",
        "colab_type": "code",
        "outputId": "0ffba89c-2e85-4f21-c25f-b953d15ea40f",
        "colab": {
          "base_uri": "https://localhost:8080/",
          "height": 712
        }
      },
      "source": [
        "# display all link savedin urls[]\n",
        "for i in range(len(urls)):\n",
        "  print(urls[i])"
      ],
      "execution_count": 10,
      "outputs": [
        {
          "output_type": "stream",
          "text": [
            "https://news.detik.com/berita/d-4838294/pesan-jokowi-di-perayaan-natal-nasional-jaga-nilai-persaudaraan?tag_from=wp_nhl_1\n",
            "https://news.detik.com/berita/d-4838282/dewi-tanjung-kalau-pelakunya-ada-saya-minta-polisi-hentikan-laporan?tag_from=wp_nhl_2\n",
            "https://news.detik.com/berita/d-4838277/rekap-data-posyandu-di-tasikmalaya-lebih-mudah-pakai-sistem-ini?tag_from=wp_nhl_3\n",
            "https://news.detik.com/berita/d-4838274/pks-kukuh-ajukan-agung-syaikhu-jadi-cawagub-dki?tag_from=wp_nhl_4\n",
            "https://news.detik.com/berita/d-4838271/polda-metro-jaya-tembak-mati-seorang-bandar-ekstasi-di-jakpus?tag_from=wp_nhl_5\n",
            "https://news.detik.com/berita/d-4838266/penyerang-novel-baswedan-ditangkap-tim-advokasi-ungkap-3-kejanggalan?tag_from=wp_nhl_6\n",
            "https://news.detik.com/berita/d-4838264/tonton-cerita-ivan-yang-berkarya-tanpa-bicara?tag_from=wp_nhl_7\n",
            "https://news.detik.com/berita/d-4838261/pintu-kaca-apotek-senopati-rusak-ditabrak-mobil-begini-penampakannya?tag_from=wp_nhl_8\n",
            "https://news.detik.com/berita/d-4838260/selang-2-bulan-apotek-senopati-dua-kali-ditabrak-pemobil?tag_from=wp_nhl_9\n",
            "https://news.detik.com/berita/d-4838258/geger-warga-muaraenim-tewas-diterkam-harimau-saat-sedang-mandi?tag_from=wp_nhl_10\n",
            "https://news.detik.com/berita/d-4838254/fadli-zon-tuding-pemerintah-embuskan-isu-radikal-ngabalin-manuvernya-cetek?tag_from=wp_nhl_11\n",
            "https://news.detik.com/berita/d-4838248/mobil-yang-tabrak-apotek-senopati-dikemudikan-seorang-mahasiswa?tag_from=wp_nhl_12\n",
            "https://news.detik.com/berita/d-4838245/dewi-tanjung-masih-ragukan-cairan-air-keras-teror-novel-baswedan?tag_from=wp_nhl_13\n",
            "https://news.detik.com/berita/d-4838243/gempa-m-32-terjadi-di-ambon?tag_from=wp_nhl_14\n",
            "https://news.detik.com/berita/d-4838241/apa-ada-keterlibatan-jenderal-di-kasus-novel-baswedan-ini-jawaban-polri?tag_from=wp_nhl_15\n",
            "https://news.detik.com/berita/d-4838240/polisi-pengemudi-bmw-yang-tabrak-apotek-senopati-jalani-tes-urine?tag_from=wp_nhl_16\n",
            "https://news.detik.com/berita/d-4838232/polisi-perakit-benda-serupa-dinamit-di-trans-sulawesi-terinspirasi-game-online?tag_from=wp_nhl_17\n",
            "https://news.detik.com/berita/d-4838215/mobil-tabrak-sepeda-di-jalan-sudirman-1-orang-luka?tag_from=wp_nhl_18\n",
            "https://news.detik.com/berita/d-4838211/penyerang-novel-ditemukan-isu-peran-jenderal-muncul-ke-permukaan?tag_from=wp_nhl_19\n",
            "https://news.detik.com/berita/d-4838210/naik-jetski-makassar-parepare-gubernur-sulsel-cek-rs-habibie-ainun?tag_from=wp_nhl_20\n",
            "https://news.detik.com/berita/d-4838208/fadli-zon-tuding-pemerintah-embuskan-isu-radikal-ppp-tanya-ke-prabowo?tag_from=wp_nhl_21\n",
            "https://news.detik.com/berita/d-4838206/polisi-perakit-benda-serupa-dinamit-di-trans-sulawesi-pelajar-smp?tag_from=wp_nhl_22\n",
            "https://news.detik.com/berita/d-4838199/polisi-aktif-jadi-tersangka-teror-novel-baswedan-dari-awal-saya-tahu?tag_from=wp_nhl_23\n",
            "https://news.detik.com/berita/d-4838197/ancang-ancang-gerindra-interpelasi-walkot-padang-gegara-minuman-terlarang?tag_from=wp_nhl_24\n",
            "https://news.detik.com/berita/d-4838196/pengemudi-mobil-bmw-yang-tabrak-apotek-senopati-diperiksa?tag_from=wp_nhl_25\n",
            "https://news.detik.com/berita/d-4838194/novel-baswedan-ingatkan-presiden-jokowi-soal-upaya-pelemahan-kpk?tag_from=wp_nhl_26\n",
            "https://news.detik.com/berita/d-4838192/heboh-benda-serupa-dinamit-macetkan-trans-sulawesi?tag_from=wp_nhl_27\n",
            "https://news.detik.com/berita/d-4838190/novel-apresiasi-penangkapan-penyerang-janggal-kalau-motifnya-dendam?tag_from=wp_nhl_28\n",
            "https://news.detik.com/berita/d-4838188/ramai-tangkapdewitanjung-di-medsos-ini-respons-dewi-tanjung?tag_from=wp_nhl_29\n",
            "https://news.detik.com/berita/d-4838186/mobil-sedan-tabrak-apotek-senopati-di-jaksel?tag_from=wp_nhl_30\n",
            "https://news.detik.com/berita/d-4838185/usai-pelaku-teror-ditangkap-bareskrim-novel-beraktivitas-seperti-biasa?tag_from=wp_nhl_31\n",
            "https://news.detik.com/berita/d-4838183/pelaku-teror-novel-baswedan-ditangkap-dewi-tanjung-kita-tunggu-polisi?tag_from=wp_nhl_32\n",
            "https://news.detik.com/berita/d-4838167/gempa-m-29-terjadi-di-palu-sulawesi-tengah?tag_from=wp_nhl_33\n",
            "https://news.detik.com/berita/d-4838143/serapan-anggaran-dki-masih-di-bawah-80-pan-perencanaan-kurang-maksimal?tag_from=wp_nhl_34\n",
            "https://news.detik.com/berita/d-4838140/imbas-hujan-deras-permukiman-di-kampung-melayu-cawang-terendam-banjir?tag_from=wp_nhl_35\n",
            "https://news.detik.com/berita/d-4838124/malam-tahun-baru-pemkot-bogor-akan-gelar-doa-bersama?tag_from=wp_nhl_36\n",
            "https://news.detik.com/berita/d-4838117/kemenhub-tambah-68-bus-eksklusif-untuk-libur-nataru-di-pulogebang?tag_from=wp_nhl_37\n",
            "https://news.detik.com/berita/d-4838111/penertiban-pedagang-kembang-api-jelang-tahun-baru-di-palu-nyaris-ricuh?tag_from=wp_nhl_38\n",
            "https://news.detik.com/berita/d-4838099/di-depan-umat-kristiani-jokowi-negara-jamin-kebebasan-beragama?tag_from=wp_nhl_39\n",
            "https://news.detik.com/berita/d-4838095/briptu-derustianto-tersungkur-dihukum-saling-pukul?tag_from=wp_nhl_40\n"
          ],
          "name": "stdout"
        }
      ]
    },
    {
      "cell_type": "markdown",
      "metadata": {
        "id": "_3TAoruXI-tr",
        "colab_type": "text"
      },
      "source": [
        "## getch data from kompas.com"
      ]
    },
    {
      "cell_type": "code",
      "metadata": {
        "id": "hJOR2U3eJrCt",
        "colab_type": "code",
        "colab": {}
      },
      "source": [
        "# get a webpage (berita.com)\n",
        "result = requests.get('https://www.kompas.com')\n",
        "src = result.content                # store the web content\n",
        "soup = BeautifulSoup(src, 'lxml')   # convert the 'src' content into LXML type that is easy to read as HTML."
      ],
      "execution_count": 0,
      "outputs": []
    },
    {
      "cell_type": "code",
      "metadata": {
        "colab_type": "code",
        "id": "-QnzH0LeLT18",
        "colab": {}
      },
      "source": [
        "# initiate URL list\n",
        "urls = []"
      ],
      "execution_count": 0,
      "outputs": []
    },
    {
      "cell_type": "code",
      "metadata": {
        "colab_type": "code",
        "id": "WqfJs3t1LT2c",
        "colab": {}
      },
      "source": [
        "# find all url element in the webpage\n",
        "# select main content of detik.com (inspect element first by right-click the webpage, and then 'Inspect')\n",
        "newsfeed = soup.find_all('div', {'class': 'article__asset'})\n",
        "# print(newsfeed.find_all('article'))\n",
        "\n",
        "for article in newsfeed:\n",
        "  link = article.a['href']                    # select an URL in newsfeed\n",
        "  urls.append(link)            # insert an URL selected inside urls[] list."
      ],
      "execution_count": 0,
      "outputs": []
    },
    {
      "cell_type": "code",
      "metadata": {
        "colab_type": "code",
        "outputId": "415b88bd-ad6c-40a7-bb81-d40be143fd76",
        "id": "5XhWcduLLT2q",
        "colab": {
          "base_uri": "https://localhost:8080/",
          "height": 419
        }
      },
      "source": [
        "# display all link savedin urls[]\n",
        "for i in range(len(urls)):\n",
        "  print(urls[i])"
      ],
      "execution_count": 0,
      "outputs": [
        {
          "output_type": "stream",
          "text": [
            "https://www.kompas.com/tren/read/2019/12/27/214119065/pelakunya-tertangkap-berikut-perjalanan-kasus-novel-baswedan-sejak-2017\n",
            "https://regional.kompas.com/read/2019/12/27/13260011/pemilik-kedai-kopi-di-purwokerto-gugat-grab-rp-112-miliar\n",
            "https://bola.kompas.com/read/2019/12/28/04000028/kendati-punya-lisensi-afc-pro-iwan-setiawan-pilih-jalan-sunyi-di-liga-3\n",
            "https://www.kompasiana.com/teotarigan/5df1d4fed541df203e7500b2/menertawakan-hidup-yang-menyedihkan-dalam-pengajaran-waktu?utm_source=kompascom&utm_medium=article&utm_campaign=ContentFeed\n",
            "https://bola.kompas.com/read/2019/12/28/03084208/resmi-zlatan-ibrahimovic-kembali-ke-ac-milan\n",
            "https://www.kompas.tv/article/61452/intoleransi-jadi-musuh-besar-bangsa-indonesia\n",
            "https://www.kompas.tv/article/61451/pidato-jokowi-soal-toleransi-di-natal-nasional-2019\n",
            "https://www.bolasport.com/read/311967990/sumpah-zlatan-ibrahimovic-saat-pulang-ke-ac-milan-usai-pisah-7-tahun\n",
            "https://www.kompas.tv/article/61449/obsesi-pemerintahan-jokowi-bangun-infrastruktur-untuk-masa-depan-indonesia\n",
            "https://kompas.id/baca/internasional/2019/12/27/bangsa-arab-belajarlah-ke-asia/?utm_source=kompascom&utm_medium=open_api_feeder&utm_campaign=premium_articles\n",
            "https://www.kompasiana.com/bayusarden/5df86954097f36474c42dd12/ketika-july-morning-di-pukul-mundur-stairway-to-heaven?utm_source=kompascom&utm_medium=article&utm_campaign=ContentFeed\n",
            "https://www.bolasport.com/read/311967988/resmi-zlatan-ibrahimovic-kembali-memperkuat-ac-milan\n",
            "https://bola.kompas.com/read/2019/12/28/01000008/link-live-streaming-wolves-vs-man-city-kickoff-02.45-wib\n",
            "https://regional.kompas.com/read/2019/12/28/00344361/jasad-perempuan-yang-diterkam-buaya-di-konawe-utara-ditemukan-tak-utuh\n",
            "https://www.kompas.tv/article/61448/faldo-maldini-daftar-pemilihan-bupati-lewat-partai-demokrat\n",
            "https://www.kompas.tv/article/61447/jaket-karya-lokal-yang-dipakai-presiden-jokowi-jadi-perhatian-netizen\n",
            "https://megapolitan.kompas.com/read/2019/12/27/23550901/imigrasi-depok-tangkap-2-wna-pakistan-modus-minta-sumbangan-ke-warga\n",
            "https://bola.kompas.com/read/2019/12/27/23360828/berita-transfer-arturo-vidal-capai-kesepakatan-bergabung-dengan-inter\n",
            "https://regional.kompas.com/read/2019/12/27/23352771/tambang-pasir-ilegal-di-lereng-gunung-merapi-mantan-kades-ditangkap\n",
            "https://bola.kompas.com/read/2019/12/27/23200038/man-united-hanya-perlu-konsisten-di-liga-inggris\n",
            "https://megapolitan.kompas.com/read/2019/12/27/23133571/wakil-ketua-dprd-dki-ajak-seluruh-anggota-komisi-e-data-kondisi-sekolah\n",
            "https://www.kompas.tv/article/61444/seorang-pria-bunuh-mantan-istri-karena-tidur-mendengkur\n"
          ],
          "name": "stdout"
        }
      ]
    },
    {
      "cell_type": "markdown",
      "metadata": {
        "id": "4k9DFNiD8Q7X",
        "colab_type": "text"
      },
      "source": [
        "# Explore the url result"
      ]
    },
    {
      "cell_type": "markdown",
      "metadata": {
        "id": "2zxgND8eMG_5",
        "colab_type": "text"
      },
      "source": [
        "## open the first url obtained (from detik.com)"
      ]
    },
    {
      "cell_type": "code",
      "metadata": {
        "id": "ysIUPagM8hZN",
        "colab_type": "code",
        "colab": {}
      },
      "source": [
        "result = requests.get(urls[3])\n",
        "src = result.content                # store the web content\n",
        "soup = BeautifulSoup(src, 'lxml')   # convert the 'src' content into LXML type that is easy to read as HTML."
      ],
      "execution_count": 0,
      "outputs": []
    },
    {
      "cell_type": "code",
      "metadata": {
        "id": "ZytSUiP89SgE",
        "colab_type": "code",
        "outputId": "32b9df50-26a0-4f78-d081-2b41997a5313",
        "colab": {
          "base_uri": "https://localhost:8080/",
          "height": 159
        }
      },
      "source": [
        "texts = soup.find('div', {'class': 'detail__body-text'})\n",
        "\n",
        "sentences = \"\"\n",
        "\n",
        "for div in texts.find_all('div'):\n",
        "  div.decompose()\n",
        "for lb in texts.find_all('br'):\n",
        "  lb.decompose()\n",
        "for readmore in texts.find_all('table', {'class': 'linksisip'}):\n",
        "  readmore.decompose()\n",
        "texts.style.decompose()\n",
        "\n",
        "sentences += texts.text\n",
        "\n",
        "print(sentences)"
      ],
      "execution_count": 12,
      "outputs": [
        {
          "output_type": "stream",
          "text": [
            "\n",
            "Jakarta - Ketua Fraksi PKS DPRD DKI Jakarta Mohammad Arifin menyebut dua nama calon wakil gubernur (cawagub) yang akan diajukan di tahun 2020 masih tetap sama dengan yang sebelumnya. Dua nama itu yakni Agung Yulianto dan Ahmad Syaikhu. \"Ya, masih 2 nama yang sebelumnya. Sementara masih belum berubah,\" ujar Arifin ketika dihubungi, Sabtu (28/12/2019). Sementara Anggota DPRD DKI dari Fraksi Partai Gerindra Syarif mengatakan saat ini masih menunggu keputusan dari PKS. Jika pun Gerindra dikasih kesempatan untuk mengajukan nama, Syarif mengatakan Gerindra sudah menyiapkannya.\n",
            "\n",
            "\"Karena otentikasinya belum keluar saya belum bisa sebut nama. Tapi bisa dipastikan 1 dari PKS dan 1 dari Gerindra,\" katanya.Proses pemilihan cawagub sempat tertunda sebelumnya. Di awal tahun 2020, DPRD DKI Jakarta akan melanjutkan proses pemilihan cawagub dengan membentuk panitia pemilihan. \"Setelah tahun baru ini, saya akan bentuk panitia pemilih,\" ujar Ketua DPRD DKI Jakarta Prasetio Edi Marsudi di gedung DPRD DKI Jakarta, Jl Kebon Sirih, Jakarta Pusat, Jumat (27/12/2019).Prasetio mengatakan nantinya dua nama yang dicalonkan akan diserahkan kepada panitia pemilihan. Namun terkait siapa dua nama tersebut, Prasetio menyebut masih menunggu PKS dan Gerindra.\"Yang dua nama Pak Syaikhu dan Pak Agung kan harus digelontorkan, apakah nantinya ada penggantinya, kita nggak tahu juga,\" kata Prasetio.\"Isu-isu yang berkembang kan seperti itu. Ini kita tunggu saja, saya sebagai Ketua Dewan menunggu itu,\" sambungnya.Tonton juga video Kursi Wagub DKI Masih Kosong, Anies: Tinggal DPRD Putuskan:[Gambas:Video 20detik]\n",
            "(eva/knv)\n",
            "\n",
            "\n"
          ],
          "name": "stdout"
        }
      ]
    },
    {
      "cell_type": "markdown",
      "metadata": {
        "colab_type": "text",
        "id": "IGuz_xk7MLR8"
      },
      "source": [
        "## open the first url obtained (from kompas.com)"
      ]
    },
    {
      "cell_type": "code",
      "metadata": {
        "colab_type": "code",
        "id": "1qO6bfEDMWWO",
        "colab": {}
      },
      "source": [
        "result = requests.get(urls[0] + \"?page=all\")\n",
        "src = result.content                # store the web content\n",
        "soup = BeautifulSoup(src, 'lxml')   # convert the 'src' content into LXML type that is easy to read as HTML.\n",
        "# print(soup)"
      ],
      "execution_count": 0,
      "outputs": []
    },
    {
      "cell_type": "code",
      "metadata": {
        "colab_type": "code",
        "outputId": "44a7162a-0f1e-4b20-c4ef-817e394e017b",
        "id": "znCuZv8MMLSP",
        "colab": {
          "base_uri": "https://localhost:8080/",
          "height": 54
        }
      },
      "source": [
        "texts = soup.find('div', {'class': 'read__content'})\n",
        "\n",
        "sentences = \"\"\n",
        "\n",
        "for div in texts.find_all('div'):\n",
        "  div.decompose()\n",
        "\n",
        "for lb in texts.find_all('p'):\n",
        "  sentences += lb.text + \" \"\n",
        "\n",
        "print(sentences)"
      ],
      "execution_count": 0,
      "outputs": [
        {
          "output_type": "stream",
          "text": [
            "KOMPAS.com - Kasus penyiraman  air keras terhadap penyidik senior  Komisi Pemberantasan Korupsi (KPK),  Novel Baswedan telah menemui titik terang. Kamis (26/12/2019), aparat kepolisian telah menangkap dua  pelaku penyiraman air keras kepada Novel di Cimanggis, Depok, Jawa Barat. Kedua pelaku, yakni RM dan RB diketahui merupakan anggota Polri aktif. Perlu diketahui, kasus Novel ini sudah lebih dari 2,5 tahun mengendap. Meski telah dibentuk sejumlah tim untuk mengungkap kasusnya, namun tak juga membuahkan hasil. Bahkan Polda Metro Jaya sempat merilis sketsa wajah dua orang yang diduga sebagai pelaku teror Novel pada 11 April 2017. Lantas seperti apa perjalanan kasus Novel Baswedan? Baca juga: Mengapa Kasus Novel Baswedan Selalu Jadi Perhatian Publik? Pada 11 April 2017,  Novel Baswedan disiram air keras (asam sulfat) oleh orang tidak dikenal setelah menunaikan shalat subuh di Masjid Al Ihsan, Kelapa Gading, Jakarta utara. Akibat penyiraman air keras ini, kedua mata Novel mengalami luka bakar. Sementara dari pihak kepolisian, Kapolri mengumumkan telah menemukan saksi kunci terkait kasus penyiraman air keras terhadap Novel. Bahkan, Novel sempat diserang kabar yang menuduh bahwa dirinya bersandiwara mengenai kesehatannya. Sementara itu, pasca-operasi tahap satu, diketahui bahwa mata kiri Novel mengalami kerusakan yang lebih parah dibandingkan pada mata kanannya. Hasil operasi menyebutkan bahwa mata kiri Novel tidak dapat melihat sama sekali. Sementara, mata kanan Novel terlihat masih ada kabut. Diketahui, sebelum operasi dilakukan, kondisi mata Novel lebih baik karena itu diperkirakan keadaan tersebut bagian dari penyembuhan. Baca juga: Kasus Novel Baswedan, Buku Merah, dan Beban Kapolri Baru Selanjutnya, Kapolda Metro Jaya Irjen Idham Azis sempat merilis sketsa dua wajah orang yang diduga menjadi pelaku penyiraman air keras di Gedung KPK, Jakarta pada Jumat (24/11/2017). Dalam pertemuan itu, Idham menjelaskan bahwa hasil sketsa tersebut merupakan kerja dari tim Australian Federal Police (AFP) dan Pusat Inafis Mabes Polri. Sketsa tersebut juga merupakan hasil analisis rekaman CCTV dan keterangan para saksi. Setelah menjalani perawatan kurang lebih selama 1 tahun di Singapura, Novel Baswedan pulang ke Tanah Air pada Kamis (22/2/2018). Novel kembali ke Indonesia sembari menunggu operasi tahap kedua pada matanya. Pada tahap itu, nantinya dilakukan proses pemasangan agar bisa berfungsi lebih lanjut. Saat tiba di Indonesia, muncul dukungan penuntasan kasus Novel Baswedan di media sosial dengan tagar #KamiBersamaNovel. Pada pertengahan tahun 2018, Novel menjalani operasi kecil pada mata kirinya di Singapura. Baca juga: Mengenal Sosok Iwan Bule, Ketum PSSI yang Pernah Diperiksa Terkait Kasus Novel Baswedan Ini merupakan kali pertama Novel bekerja setelah kejadian penyiraman air keras pada 11 April 2017 lalu. Kemudian, Komisi Nasional Hak Asasi Manusia (komnas HAM) membuat laporan hasil pemantauan terhadap kasus penyiraman air keras Novel Baswedan. Disebutkan bahwa Novel pernah menyampaikan adanya keterlibatan seorang jenderal polisi dalam kasus penyerangannya pada 21 Desember 2018. Pada 8 Januari 2019, Polri membentuk tim khusus dalam rangka pengusutan kasus Novel Baswedan. Surat ini berlaku selama enam bulan, mulai 8 Januari-7 Juli 2019. Kemudian, usai 700 hari penyerangan Novel Baswedan, dibuat petisi online dalam situs Change.org yang menginginkan pembentukan tim independen. Dalam petisi tersebut sebanyak 180.000 orang telah menandatangani situs tersebut pada 13 Maret 2019. Pasca-berakhirnya tim gabungan Polri, Komnas HAM menyebut ada 4 orang diduga penyerang Novel Baswedan. Sementara itu, Polri mengklaim bahwa tim teknis kasus Novel Baswedan terus bekerja keras hingga dikabarkan pelaku sudah ditemukan pada Desember 2019. Baca juga: Jalan Panjang Novel Baswedan, dari Sarang Burung Walet hingga Tudingan Tukar Guling Perkara   \n"
          ],
          "name": "stdout"
        }
      ]
    },
    {
      "cell_type": "markdown",
      "metadata": {
        "id": "2Pg0HgezOIW_",
        "colab_type": "text"
      },
      "source": [
        "# Convert data to other types\n",
        "## for example, we want to download the data in Excel file"
      ]
    },
    {
      "cell_type": "code",
      "metadata": {
        "id": "MiHrY3u9OYa_",
        "colab_type": "code",
        "colab": {}
      },
      "source": [
        "from google.colab import files\n",
        "\n",
        "with open('scrap.xlsx', 'w') as f:\n",
        "  for i in range(len(urls)):\n",
        "    f.write(urls[i] + \"\\n\")\n",
        "\n",
        "files.download('scrap.xlsx')"
      ],
      "execution_count": 0,
      "outputs": []
    },
    {
      "cell_type": "markdown",
      "metadata": {
        "id": "HTOuS6QNmNdF",
        "colab_type": "text"
      },
      "source": [
        "# Let's process the word obtained from web scrapping"
      ]
    },
    {
      "cell_type": "markdown",
      "metadata": {
        "id": "QiH4zyeGm3sR",
        "colab_type": "text"
      },
      "source": [
        "## Install first the nltk command"
      ]
    },
    {
      "cell_type": "code",
      "metadata": {
        "id": "Q-hQRZP2m3Jz",
        "colab_type": "code",
        "colab": {
          "base_uri": "https://localhost:8080/",
          "height": 990
        },
        "outputId": "08fb02a7-2458-49db-e74b-df12d5d9d250"
      },
      "source": [
        "!pip install nltk\n",
        "import nltk\n",
        "nltk.download()"
      ],
      "execution_count": 20,
      "outputs": [
        {
          "output_type": "stream",
          "text": [
            "Requirement already satisfied: nltk in /usr/local/lib/python3.6/dist-packages (3.2.5)\n",
            "Requirement already satisfied: six in /usr/local/lib/python3.6/dist-packages (from nltk) (1.12.0)\n",
            "NLTK Downloader\n",
            "---------------------------------------------------------------------------\n",
            "    d) Download   l) List    u) Update   c) Config   h) Help   q) Quit\n",
            "---------------------------------------------------------------------------\n",
            "\n",
            "Download which package (l=list; x=cancel)?\n",
            "Packages:\n",
            "  [ ] dolch............... Dolch Word List\n",
            "  [ ] pe08................ Cross-Framework and Cross-Domain Parser\n",
            "                           Evaluation Shared Task\n",
            "\n",
            "Collections:\n",
            "  [P] all-corpora......... All the corpora\n",
            "  [P] all................. All packages\n",
            "  [ ] third-party......... Third-party data packages\n",
            "\n",
            "([*] marks installed packages; [P] marks partially installed collections)\n",
            "\n",
            "Download which package (l=list; x=cancel)?\n"
          ],
          "name": "stdout"
        },
        {
          "output_type": "error",
          "ename": "KeyboardInterrupt",
          "evalue": "ignored",
          "traceback": [
            "\u001b[0;31m---------------------------------------------------------------------------\u001b[0m",
            "\u001b[0;31mTclError\u001b[0m                                  Traceback (most recent call last)",
            "\u001b[0;32m/usr/local/lib/python3.6/dist-packages/nltk/downloader.py\u001b[0m in \u001b[0;36m_interactive_download\u001b[0;34m(self)\u001b[0m\n\u001b[1;32m    981\u001b[0m             \u001b[0;32mtry\u001b[0m\u001b[0;34m:\u001b[0m\u001b[0;34m\u001b[0m\u001b[0;34m\u001b[0m\u001b[0m\n\u001b[0;32m--> 982\u001b[0;31m                 \u001b[0mDownloaderGUI\u001b[0m\u001b[0;34m(\u001b[0m\u001b[0mself\u001b[0m\u001b[0;34m)\u001b[0m\u001b[0;34m.\u001b[0m\u001b[0mmainloop\u001b[0m\u001b[0;34m(\u001b[0m\u001b[0;34m)\u001b[0m\u001b[0;34m\u001b[0m\u001b[0;34m\u001b[0m\u001b[0m\n\u001b[0m\u001b[1;32m    983\u001b[0m             \u001b[0;32mexcept\u001b[0m \u001b[0mTclError\u001b[0m\u001b[0;34m:\u001b[0m\u001b[0;34m\u001b[0m\u001b[0;34m\u001b[0m\u001b[0m\n",
            "\u001b[0;32m/usr/local/lib/python3.6/dist-packages/nltk/downloader.py\u001b[0m in \u001b[0;36m__init__\u001b[0;34m(self, dataserver, use_threads)\u001b[0m\n\u001b[1;32m   1225\u001b[0m         \u001b[0;31m# Create the main window.\u001b[0m\u001b[0;34m\u001b[0m\u001b[0;34m\u001b[0m\u001b[0;34m\u001b[0m\u001b[0m\n\u001b[0;32m-> 1226\u001b[0;31m         \u001b[0mtop\u001b[0m \u001b[0;34m=\u001b[0m \u001b[0mself\u001b[0m\u001b[0;34m.\u001b[0m\u001b[0mtop\u001b[0m \u001b[0;34m=\u001b[0m \u001b[0mTk\u001b[0m\u001b[0;34m(\u001b[0m\u001b[0;34m)\u001b[0m\u001b[0;34m\u001b[0m\u001b[0;34m\u001b[0m\u001b[0m\n\u001b[0m\u001b[1;32m   1227\u001b[0m         \u001b[0mtop\u001b[0m\u001b[0;34m.\u001b[0m\u001b[0mgeometry\u001b[0m\u001b[0;34m(\u001b[0m\u001b[0;34m'+50+50'\u001b[0m\u001b[0;34m)\u001b[0m\u001b[0;34m\u001b[0m\u001b[0;34m\u001b[0m\u001b[0m\n",
            "\u001b[0;32m/usr/lib/python3.6/tkinter/__init__.py\u001b[0m in \u001b[0;36m__init__\u001b[0;34m(self, screenName, baseName, className, useTk, sync, use)\u001b[0m\n\u001b[1;32m   2022\u001b[0m         \u001b[0minteractive\u001b[0m \u001b[0;34m=\u001b[0m \u001b[0;36m0\u001b[0m\u001b[0;34m\u001b[0m\u001b[0;34m\u001b[0m\u001b[0m\n\u001b[0;32m-> 2023\u001b[0;31m         \u001b[0mself\u001b[0m\u001b[0;34m.\u001b[0m\u001b[0mtk\u001b[0m \u001b[0;34m=\u001b[0m \u001b[0m_tkinter\u001b[0m\u001b[0;34m.\u001b[0m\u001b[0mcreate\u001b[0m\u001b[0;34m(\u001b[0m\u001b[0mscreenName\u001b[0m\u001b[0;34m,\u001b[0m \u001b[0mbaseName\u001b[0m\u001b[0;34m,\u001b[0m \u001b[0mclassName\u001b[0m\u001b[0;34m,\u001b[0m \u001b[0minteractive\u001b[0m\u001b[0;34m,\u001b[0m \u001b[0mwantobjects\u001b[0m\u001b[0;34m,\u001b[0m \u001b[0museTk\u001b[0m\u001b[0;34m,\u001b[0m \u001b[0msync\u001b[0m\u001b[0;34m,\u001b[0m \u001b[0muse\u001b[0m\u001b[0;34m)\u001b[0m\u001b[0;34m\u001b[0m\u001b[0;34m\u001b[0m\u001b[0m\n\u001b[0m\u001b[1;32m   2024\u001b[0m         \u001b[0;32mif\u001b[0m \u001b[0museTk\u001b[0m\u001b[0;34m:\u001b[0m\u001b[0;34m\u001b[0m\u001b[0;34m\u001b[0m\u001b[0m\n",
            "\u001b[0;31mTclError\u001b[0m: no display name and no $DISPLAY environment variable",
            "\nDuring handling of the above exception, another exception occurred:\n",
            "\u001b[0;31mKeyboardInterrupt\u001b[0m                         Traceback (most recent call last)",
            "\u001b[0;32m/usr/local/lib/python3.6/dist-packages/ipykernel/kernelbase.py\u001b[0m in \u001b[0;36m_input_request\u001b[0;34m(self, prompt, ident, parent, password)\u001b[0m\n\u001b[1;32m    729\u001b[0m             \u001b[0;32mtry\u001b[0m\u001b[0;34m:\u001b[0m\u001b[0;34m\u001b[0m\u001b[0;34m\u001b[0m\u001b[0m\n\u001b[0;32m--> 730\u001b[0;31m                 \u001b[0mident\u001b[0m\u001b[0;34m,\u001b[0m \u001b[0mreply\u001b[0m \u001b[0;34m=\u001b[0m \u001b[0mself\u001b[0m\u001b[0;34m.\u001b[0m\u001b[0msession\u001b[0m\u001b[0;34m.\u001b[0m\u001b[0mrecv\u001b[0m\u001b[0;34m(\u001b[0m\u001b[0mself\u001b[0m\u001b[0;34m.\u001b[0m\u001b[0mstdin_socket\u001b[0m\u001b[0;34m,\u001b[0m \u001b[0;36m0\u001b[0m\u001b[0;34m)\u001b[0m\u001b[0;34m\u001b[0m\u001b[0;34m\u001b[0m\u001b[0m\n\u001b[0m\u001b[1;32m    731\u001b[0m             \u001b[0;32mexcept\u001b[0m \u001b[0mException\u001b[0m\u001b[0;34m:\u001b[0m\u001b[0;34m\u001b[0m\u001b[0;34m\u001b[0m\u001b[0m\n",
            "\u001b[0;32m/usr/local/lib/python3.6/dist-packages/jupyter_client/session.py\u001b[0m in \u001b[0;36mrecv\u001b[0;34m(self, socket, mode, content, copy)\u001b[0m\n\u001b[1;32m    802\u001b[0m         \u001b[0;32mtry\u001b[0m\u001b[0;34m:\u001b[0m\u001b[0;34m\u001b[0m\u001b[0;34m\u001b[0m\u001b[0m\n\u001b[0;32m--> 803\u001b[0;31m             \u001b[0mmsg_list\u001b[0m \u001b[0;34m=\u001b[0m \u001b[0msocket\u001b[0m\u001b[0;34m.\u001b[0m\u001b[0mrecv_multipart\u001b[0m\u001b[0;34m(\u001b[0m\u001b[0mmode\u001b[0m\u001b[0;34m,\u001b[0m \u001b[0mcopy\u001b[0m\u001b[0;34m=\u001b[0m\u001b[0mcopy\u001b[0m\u001b[0;34m)\u001b[0m\u001b[0;34m\u001b[0m\u001b[0;34m\u001b[0m\u001b[0m\n\u001b[0m\u001b[1;32m    804\u001b[0m         \u001b[0;32mexcept\u001b[0m \u001b[0mzmq\u001b[0m\u001b[0;34m.\u001b[0m\u001b[0mZMQError\u001b[0m \u001b[0;32mas\u001b[0m \u001b[0me\u001b[0m\u001b[0;34m:\u001b[0m\u001b[0;34m\u001b[0m\u001b[0;34m\u001b[0m\u001b[0m\n",
            "\u001b[0;32m/usr/local/lib/python3.6/dist-packages/zmq/sugar/socket.py\u001b[0m in \u001b[0;36mrecv_multipart\u001b[0;34m(self, flags, copy, track)\u001b[0m\n\u001b[1;32m    465\u001b[0m         \"\"\"\n\u001b[0;32m--> 466\u001b[0;31m         \u001b[0mparts\u001b[0m \u001b[0;34m=\u001b[0m \u001b[0;34m[\u001b[0m\u001b[0mself\u001b[0m\u001b[0;34m.\u001b[0m\u001b[0mrecv\u001b[0m\u001b[0;34m(\u001b[0m\u001b[0mflags\u001b[0m\u001b[0;34m,\u001b[0m \u001b[0mcopy\u001b[0m\u001b[0;34m=\u001b[0m\u001b[0mcopy\u001b[0m\u001b[0;34m,\u001b[0m \u001b[0mtrack\u001b[0m\u001b[0;34m=\u001b[0m\u001b[0mtrack\u001b[0m\u001b[0;34m)\u001b[0m\u001b[0;34m]\u001b[0m\u001b[0;34m\u001b[0m\u001b[0;34m\u001b[0m\u001b[0m\n\u001b[0m\u001b[1;32m    467\u001b[0m         \u001b[0;31m# have first part already, only loop while more to receive\u001b[0m\u001b[0;34m\u001b[0m\u001b[0;34m\u001b[0m\u001b[0;34m\u001b[0m\u001b[0m\n",
            "\u001b[0;32mzmq/backend/cython/socket.pyx\u001b[0m in \u001b[0;36mzmq.backend.cython.socket.Socket.recv\u001b[0;34m()\u001b[0m\n",
            "\u001b[0;32mzmq/backend/cython/socket.pyx\u001b[0m in \u001b[0;36mzmq.backend.cython.socket.Socket.recv\u001b[0;34m()\u001b[0m\n",
            "\u001b[0;32mzmq/backend/cython/socket.pyx\u001b[0m in \u001b[0;36mzmq.backend.cython.socket._recv_copy\u001b[0;34m()\u001b[0m\n",
            "\u001b[0;32m/usr/local/lib/python3.6/dist-packages/zmq/backend/cython/checkrc.pxd\u001b[0m in \u001b[0;36mzmq.backend.cython.checkrc._check_rc\u001b[0;34m()\u001b[0m\n",
            "\u001b[0;31mKeyboardInterrupt\u001b[0m: ",
            "\nDuring handling of the above exception, another exception occurred:\n",
            "\u001b[0;31mKeyboardInterrupt\u001b[0m                         Traceback (most recent call last)",
            "\u001b[0;32m<ipython-input-20-29c7289a111d>\u001b[0m in \u001b[0;36m<module>\u001b[0;34m()\u001b[0m\n\u001b[1;32m      1\u001b[0m \u001b[0mget_ipython\u001b[0m\u001b[0;34m(\u001b[0m\u001b[0;34m)\u001b[0m\u001b[0;34m.\u001b[0m\u001b[0msystem\u001b[0m\u001b[0;34m(\u001b[0m\u001b[0;34m'pip install nltk'\u001b[0m\u001b[0;34m)\u001b[0m\u001b[0;34m\u001b[0m\u001b[0;34m\u001b[0m\u001b[0m\n\u001b[1;32m      2\u001b[0m \u001b[0;32mimport\u001b[0m \u001b[0mnltk\u001b[0m\u001b[0;34m\u001b[0m\u001b[0;34m\u001b[0m\u001b[0m\n\u001b[0;32m----> 3\u001b[0;31m \u001b[0mnltk\u001b[0m\u001b[0;34m.\u001b[0m\u001b[0mdownload\u001b[0m\u001b[0;34m(\u001b[0m\u001b[0;34m)\u001b[0m\u001b[0;34m\u001b[0m\u001b[0;34m\u001b[0m\u001b[0m\n\u001b[0m",
            "\u001b[0;32m/usr/local/lib/python3.6/dist-packages/nltk/downloader.py\u001b[0m in \u001b[0;36mdownload\u001b[0;34m(self, info_or_id, download_dir, quiet, force, prefix, halt_on_error, raise_on_error)\u001b[0m\n\u001b[1;32m    659\u001b[0m             \u001b[0;31m# function should make a new copy of self to use?\u001b[0m\u001b[0;34m\u001b[0m\u001b[0;34m\u001b[0m\u001b[0;34m\u001b[0m\u001b[0m\n\u001b[1;32m    660\u001b[0m             \u001b[0;32mif\u001b[0m \u001b[0mdownload_dir\u001b[0m \u001b[0;32mis\u001b[0m \u001b[0;32mnot\u001b[0m \u001b[0;32mNone\u001b[0m\u001b[0;34m:\u001b[0m \u001b[0mself\u001b[0m\u001b[0;34m.\u001b[0m\u001b[0m_download_dir\u001b[0m \u001b[0;34m=\u001b[0m \u001b[0mdownload_dir\u001b[0m\u001b[0;34m\u001b[0m\u001b[0;34m\u001b[0m\u001b[0m\n\u001b[0;32m--> 661\u001b[0;31m             \u001b[0mself\u001b[0m\u001b[0;34m.\u001b[0m\u001b[0m_interactive_download\u001b[0m\u001b[0;34m(\u001b[0m\u001b[0;34m)\u001b[0m\u001b[0;34m\u001b[0m\u001b[0;34m\u001b[0m\u001b[0m\n\u001b[0m\u001b[1;32m    662\u001b[0m             \u001b[0;32mreturn\u001b[0m \u001b[0;32mTrue\u001b[0m\u001b[0;34m\u001b[0m\u001b[0;34m\u001b[0m\u001b[0m\n\u001b[1;32m    663\u001b[0m \u001b[0;34m\u001b[0m\u001b[0m\n",
            "\u001b[0;32m/usr/local/lib/python3.6/dist-packages/nltk/downloader.py\u001b[0m in \u001b[0;36m_interactive_download\u001b[0;34m(self)\u001b[0m\n\u001b[1;32m    982\u001b[0m                 \u001b[0mDownloaderGUI\u001b[0m\u001b[0;34m(\u001b[0m\u001b[0mself\u001b[0m\u001b[0;34m)\u001b[0m\u001b[0;34m.\u001b[0m\u001b[0mmainloop\u001b[0m\u001b[0;34m(\u001b[0m\u001b[0;34m)\u001b[0m\u001b[0;34m\u001b[0m\u001b[0;34m\u001b[0m\u001b[0m\n\u001b[1;32m    983\u001b[0m             \u001b[0;32mexcept\u001b[0m \u001b[0mTclError\u001b[0m\u001b[0;34m:\u001b[0m\u001b[0;34m\u001b[0m\u001b[0;34m\u001b[0m\u001b[0m\n\u001b[0;32m--> 984\u001b[0;31m                 \u001b[0mDownloaderShell\u001b[0m\u001b[0;34m(\u001b[0m\u001b[0mself\u001b[0m\u001b[0;34m)\u001b[0m\u001b[0;34m.\u001b[0m\u001b[0mrun\u001b[0m\u001b[0;34m(\u001b[0m\u001b[0;34m)\u001b[0m\u001b[0;34m\u001b[0m\u001b[0;34m\u001b[0m\u001b[0m\n\u001b[0m\u001b[1;32m    985\u001b[0m         \u001b[0;32melse\u001b[0m\u001b[0;34m:\u001b[0m\u001b[0;34m\u001b[0m\u001b[0;34m\u001b[0m\u001b[0m\n\u001b[1;32m    986\u001b[0m             \u001b[0mDownloaderShell\u001b[0m\u001b[0;34m(\u001b[0m\u001b[0mself\u001b[0m\u001b[0;34m)\u001b[0m\u001b[0;34m.\u001b[0m\u001b[0mrun\u001b[0m\u001b[0;34m(\u001b[0m\u001b[0;34m)\u001b[0m\u001b[0;34m\u001b[0m\u001b[0;34m\u001b[0m\u001b[0m\n",
            "\u001b[0;32m/usr/local/lib/python3.6/dist-packages/nltk/downloader.py\u001b[0m in \u001b[0;36mrun\u001b[0;34m(self)\u001b[0m\n\u001b[1;32m   1020\u001b[0m                     \u001b[0;32mreturn\u001b[0m\u001b[0;34m\u001b[0m\u001b[0;34m\u001b[0m\u001b[0m\n\u001b[1;32m   1021\u001b[0m                 \u001b[0;32melif\u001b[0m \u001b[0mcommand\u001b[0m \u001b[0;34m==\u001b[0m \u001b[0;34m'd'\u001b[0m\u001b[0;34m:\u001b[0m\u001b[0;34m\u001b[0m\u001b[0;34m\u001b[0m\u001b[0m\n\u001b[0;32m-> 1022\u001b[0;31m                     \u001b[0mself\u001b[0m\u001b[0;34m.\u001b[0m\u001b[0m_simple_interactive_download\u001b[0m\u001b[0;34m(\u001b[0m\u001b[0margs\u001b[0m\u001b[0;34m)\u001b[0m\u001b[0;34m\u001b[0m\u001b[0;34m\u001b[0m\u001b[0m\n\u001b[0m\u001b[1;32m   1023\u001b[0m                 \u001b[0;32melif\u001b[0m \u001b[0mcommand\u001b[0m \u001b[0;34m==\u001b[0m \u001b[0;34m'u'\u001b[0m\u001b[0;34m:\u001b[0m\u001b[0;34m\u001b[0m\u001b[0;34m\u001b[0m\u001b[0m\n\u001b[1;32m   1024\u001b[0m                     \u001b[0mself\u001b[0m\u001b[0;34m.\u001b[0m\u001b[0m_simple_interactive_update\u001b[0m\u001b[0;34m(\u001b[0m\u001b[0;34m)\u001b[0m\u001b[0;34m\u001b[0m\u001b[0;34m\u001b[0m\u001b[0m\n",
            "\u001b[0;32m/usr/local/lib/python3.6/dist-packages/nltk/downloader.py\u001b[0m in \u001b[0;36m_simple_interactive_download\u001b[0;34m(self, args)\u001b[0m\n\u001b[1;32m   1042\u001b[0m                 \u001b[0mprint\u001b[0m\u001b[0;34m(\u001b[0m\u001b[0;34m)\u001b[0m\u001b[0;34m\u001b[0m\u001b[0;34m\u001b[0m\u001b[0m\n\u001b[1;32m   1043\u001b[0m                 \u001b[0mprint\u001b[0m\u001b[0;34m(\u001b[0m\u001b[0;34m'Download which package (l=list; x=cancel)?'\u001b[0m\u001b[0;34m)\u001b[0m\u001b[0;34m\u001b[0m\u001b[0;34m\u001b[0m\u001b[0m\n\u001b[0;32m-> 1044\u001b[0;31m                 \u001b[0muser_input\u001b[0m \u001b[0;34m=\u001b[0m \u001b[0minput\u001b[0m\u001b[0;34m(\u001b[0m\u001b[0;34m'  Identifier> '\u001b[0m\u001b[0;34m)\u001b[0m\u001b[0;34m\u001b[0m\u001b[0;34m\u001b[0m\u001b[0m\n\u001b[0m\u001b[1;32m   1045\u001b[0m                 \u001b[0;32mif\u001b[0m \u001b[0muser_input\u001b[0m\u001b[0;34m.\u001b[0m\u001b[0mlower\u001b[0m\u001b[0;34m(\u001b[0m\u001b[0;34m)\u001b[0m\u001b[0;34m==\u001b[0m\u001b[0;34m'l'\u001b[0m\u001b[0;34m:\u001b[0m\u001b[0;34m\u001b[0m\u001b[0;34m\u001b[0m\u001b[0m\n\u001b[1;32m   1046\u001b[0m                     self._ds.list(self._ds.download_dir, header=False,\n",
            "\u001b[0;32m/usr/local/lib/python3.6/dist-packages/ipykernel/kernelbase.py\u001b[0m in \u001b[0;36mraw_input\u001b[0;34m(self, prompt)\u001b[0m\n\u001b[1;32m    703\u001b[0m             \u001b[0mself\u001b[0m\u001b[0;34m.\u001b[0m\u001b[0m_parent_ident\u001b[0m\u001b[0;34m,\u001b[0m\u001b[0;34m\u001b[0m\u001b[0;34m\u001b[0m\u001b[0m\n\u001b[1;32m    704\u001b[0m             \u001b[0mself\u001b[0m\u001b[0;34m.\u001b[0m\u001b[0m_parent_header\u001b[0m\u001b[0;34m,\u001b[0m\u001b[0;34m\u001b[0m\u001b[0;34m\u001b[0m\u001b[0m\n\u001b[0;32m--> 705\u001b[0;31m             \u001b[0mpassword\u001b[0m\u001b[0;34m=\u001b[0m\u001b[0;32mFalse\u001b[0m\u001b[0;34m,\u001b[0m\u001b[0;34m\u001b[0m\u001b[0;34m\u001b[0m\u001b[0m\n\u001b[0m\u001b[1;32m    706\u001b[0m         )\n\u001b[1;32m    707\u001b[0m \u001b[0;34m\u001b[0m\u001b[0m\n",
            "\u001b[0;32m/usr/local/lib/python3.6/dist-packages/ipykernel/kernelbase.py\u001b[0m in \u001b[0;36m_input_request\u001b[0;34m(self, prompt, ident, parent, password)\u001b[0m\n\u001b[1;32m    733\u001b[0m             \u001b[0;32mexcept\u001b[0m \u001b[0mKeyboardInterrupt\u001b[0m\u001b[0;34m:\u001b[0m\u001b[0;34m\u001b[0m\u001b[0;34m\u001b[0m\u001b[0m\n\u001b[1;32m    734\u001b[0m                 \u001b[0;31m# re-raise KeyboardInterrupt, to truncate traceback\u001b[0m\u001b[0;34m\u001b[0m\u001b[0;34m\u001b[0m\u001b[0;34m\u001b[0m\u001b[0m\n\u001b[0;32m--> 735\u001b[0;31m                 \u001b[0;32mraise\u001b[0m \u001b[0mKeyboardInterrupt\u001b[0m\u001b[0;34m\u001b[0m\u001b[0;34m\u001b[0m\u001b[0m\n\u001b[0m\u001b[1;32m    736\u001b[0m             \u001b[0;32melse\u001b[0m\u001b[0;34m:\u001b[0m\u001b[0;34m\u001b[0m\u001b[0;34m\u001b[0m\u001b[0m\n\u001b[1;32m    737\u001b[0m                 \u001b[0;32mbreak\u001b[0m\u001b[0;34m\u001b[0m\u001b[0;34m\u001b[0m\u001b[0m\n",
            "\u001b[0;31mKeyboardInterrupt\u001b[0m: "
          ]
        }
      ]
    },
    {
      "cell_type": "markdown",
      "metadata": {
        "id": "iGn8zPd_roGu",
        "colab_type": "text"
      },
      "source": [
        "## Remove the punctuation marks here..."
      ]
    },
    {
      "cell_type": "code",
      "metadata": {
        "id": "hPgxOtIwrnbB",
        "colab_type": "code",
        "colab": {
          "base_uri": "https://localhost:8080/",
          "height": 159
        },
        "outputId": "58a3f1b3-24e8-4618-aad4-76dfeb6e511f"
      },
      "source": [
        "import string\n",
        "\n",
        "for c in string.punctuation:\n",
        "  sentences = sentences.replace(c, '')\n",
        "\n",
        "sentences = sentences.lower()\n",
        "\n",
        "print(sentences)"
      ],
      "execution_count": 17,
      "outputs": [
        {
          "output_type": "stream",
          "text": [
            "\n",
            "jakarta  ketua fraksi pks dprd dki jakarta mohammad arifin menyebut dua nama calon wakil gubernur cawagub yang akan diajukan di tahun 2020 masih tetap sama dengan yang sebelumnya dua nama itu yakni agung yulianto dan ahmad syaikhu ya masih 2 nama yang sebelumnya sementara masih belum berubah ujar arifin ketika dihubungi sabtu 28122019 sementara anggota dprd dki dari fraksi partai gerindra syarif mengatakan saat ini masih menunggu keputusan dari pks jika pun gerindra dikasih kesempatan untuk mengajukan nama syarif mengatakan gerindra sudah menyiapkannya\n",
            "\n",
            "karena otentikasinya belum keluar saya belum bisa sebut nama tapi bisa dipastikan 1 dari pks dan 1 dari gerindra katanyaproses pemilihan cawagub sempat tertunda sebelumnya di awal tahun 2020 dprd dki jakarta akan melanjutkan proses pemilihan cawagub dengan membentuk panitia pemilihan setelah tahun baru ini saya akan bentuk panitia pemilih ujar ketua dprd dki jakarta prasetio edi marsudi di gedung dprd dki jakarta jl kebon sirih jakarta pusat jumat 27122019prasetio mengatakan nantinya dua nama yang dicalonkan akan diserahkan kepada panitia pemilihan namun terkait siapa dua nama tersebut prasetio menyebut masih menunggu pks dan gerindrayang dua nama pak syaikhu dan pak agung kan harus digelontorkan apakah nantinya ada penggantinya kita nggak tahu juga kata prasetioisuisu yang berkembang kan seperti itu ini kita tunggu saja saya sebagai ketua dewan menunggu itu sambungnyatonton juga video kursi wagub dki masih kosong anies tinggal dprd putuskangambasvideo 20detik\n",
            "evaknv\n",
            "\n",
            "\n"
          ],
          "name": "stdout"
        }
      ]
    },
    {
      "cell_type": "markdown",
      "metadata": {
        "id": "-0rfkFZ0mVdR",
        "colab_type": "text"
      },
      "source": [
        "## Tokenize the word\n",
        "\n",
        "Separate the sentencesinto each words."
      ]
    },
    {
      "cell_type": "code",
      "metadata": {
        "id": "-HwBixM-mdXA",
        "colab_type": "code",
        "colab": {}
      },
      "source": [
        "from nltk.tokenize import word_tokenize"
      ],
      "execution_count": 0,
      "outputs": []
    },
    {
      "cell_type": "code",
      "metadata": {
        "id": "COaX8e5spCP2",
        "colab_type": "code",
        "colab": {
          "base_uri": "https://localhost:8080/",
          "height": 54
        },
        "outputId": "aae625ac-6578-4c28-c9dc-e1d60092a172"
      },
      "source": [
        "tokens = word_tokenize(sentences)\n",
        "print(tokens)"
      ],
      "execution_count": 19,
      "outputs": [
        {
          "output_type": "stream",
          "text": [
            "['jakarta', 'ketua', 'fraksi', 'pks', 'dprd', 'dki', 'jakarta', 'mohammad', 'arifin', 'menyebut', 'dua', 'nama', 'calon', 'wakil', 'gubernur', 'cawagub', 'yang', 'akan', 'diajukan', 'di', 'tahun', '2020', 'masih', 'tetap', 'sama', 'dengan', 'yang', 'sebelumnya', 'dua', 'nama', 'itu', 'yakni', 'agung', 'yulianto', 'dan', 'ahmad', 'syaikhu', 'ya', 'masih', '2', 'nama', 'yang', 'sebelumnya', 'sementara', 'masih', 'belum', 'berubah', 'ujar', 'arifin', 'ketika', 'dihubungi', 'sabtu', '28122019', 'sementara', 'anggota', 'dprd', 'dki', 'dari', 'fraksi', 'partai', 'gerindra', 'syarif', 'mengatakan', 'saat', 'ini', 'masih', 'menunggu', 'keputusan', 'dari', 'pks', 'jika', 'pun', 'gerindra', 'dikasih', 'kesempatan', 'untuk', 'mengajukan', 'nama', 'syarif', 'mengatakan', 'gerindra', 'sudah', 'menyiapkannya', 'karena', 'otentikasinya', 'belum', 'keluar', 'saya', 'belum', 'bisa', 'sebut', 'nama', 'tapi', 'bisa', 'dipastikan', '1', 'dari', 'pks', 'dan', '1', 'dari', 'gerindra', 'katanyaproses', 'pemilihan', 'cawagub', 'sempat', 'tertunda', 'sebelumnya', 'di', 'awal', 'tahun', '2020', 'dprd', 'dki', 'jakarta', 'akan', 'melanjutkan', 'proses', 'pemilihan', 'cawagub', 'dengan', 'membentuk', 'panitia', 'pemilihan', 'setelah', 'tahun', 'baru', 'ini', 'saya', 'akan', 'bentuk', 'panitia', 'pemilih', 'ujar', 'ketua', 'dprd', 'dki', 'jakarta', 'prasetio', 'edi', 'marsudi', 'di', 'gedung', 'dprd', 'dki', 'jakarta', 'jl', 'kebon', 'sirih', 'jakarta', 'pusat', 'jumat', '27122019prasetio', 'mengatakan', 'nantinya', 'dua', 'nama', 'yang', 'dicalonkan', 'akan', 'diserahkan', 'kepada', 'panitia', 'pemilihan', 'namun', 'terkait', 'siapa', 'dua', 'nama', 'tersebut', 'prasetio', 'menyebut', 'masih', 'menunggu', 'pks', 'dan', 'gerindrayang', 'dua', 'nama', 'pak', 'syaikhu', 'dan', 'pak', 'agung', 'kan', 'harus', 'digelontorkan', 'apakah', 'nantinya', 'ada', 'penggantinya', 'kita', 'nggak', 'tahu', 'juga', 'kata', 'prasetioisuisu', 'yang', 'berkembang', 'kan', 'seperti', 'itu', 'ini', 'kita', 'tunggu', 'saja', 'saya', 'sebagai', 'ketua', 'dewan', 'menunggu', 'itu', 'sambungnyatonton', 'juga', 'video', 'kursi', 'wagub', 'dki', 'masih', 'kosong', 'anies', 'tinggal', 'dprd', 'putuskangambasvideo', '20detik', 'evaknv']\n"
          ],
          "name": "stdout"
        }
      ]
    },
    {
      "cell_type": "markdown",
      "metadata": {
        "id": "dM8ApC3V6hCi",
        "colab_type": "text"
      },
      "source": [
        "## Stemming words\n",
        "\n",
        "Using Sastrawi module as stemmer tool"
      ]
    },
    {
      "cell_type": "code",
      "metadata": {
        "id": "8HKZ1pRN6qkV",
        "colab_type": "code",
        "colab": {
          "base_uri": "https://localhost:8080/",
          "height": 124
        },
        "outputId": "cd6b629d-c400-4efa-bdd8-0e7c27fa144f"
      },
      "source": [
        "!pip install Sastrawi\n",
        "\n",
        "from Sastrawi.Stemmer.StemmerFactory import StemmerFactory\n",
        "factory = StemmerFactory()\n",
        "stemmer = factory.create_stemmer()"
      ],
      "execution_count": 21,
      "outputs": [
        {
          "output_type": "stream",
          "text": [
            "Collecting Sastrawi\n",
            "\u001b[?25l  Downloading https://files.pythonhosted.org/packages/6f/4b/bab676953da3103003730b8fcdfadbdd20f333d4add10af949dd5c51e6ed/Sastrawi-1.0.1-py2.py3-none-any.whl (209kB)\n",
            "\r\u001b[K     |█▋                              | 10kB 20.4MB/s eta 0:00:01\r\u001b[K     |███▏                            | 20kB 3.1MB/s eta 0:00:01\r\u001b[K     |████▊                           | 30kB 4.5MB/s eta 0:00:01\r\u001b[K     |██████▎                         | 40kB 3.0MB/s eta 0:00:01\r\u001b[K     |███████▉                        | 51kB 3.7MB/s eta 0:00:01\r\u001b[K     |█████████▍                      | 61kB 4.4MB/s eta 0:00:01\r\u001b[K     |███████████                     | 71kB 5.0MB/s eta 0:00:01\r\u001b[K     |████████████▌                   | 81kB 5.6MB/s eta 0:00:01\r\u001b[K     |██████████████                  | 92kB 6.2MB/s eta 0:00:01\r\u001b[K     |███████████████▋                | 102kB 4.9MB/s eta 0:00:01\r\u001b[K     |█████████████████▏              | 112kB 4.9MB/s eta 0:00:01\r\u001b[K     |██████████████████▊             | 122kB 4.9MB/s eta 0:00:01\r\u001b[K     |████████████████████▎           | 133kB 4.9MB/s eta 0:00:01\r\u001b[K     |█████████████████████▉          | 143kB 4.9MB/s eta 0:00:01\r\u001b[K     |███████████████████████▍        | 153kB 4.9MB/s eta 0:00:01\r\u001b[K     |█████████████████████████       | 163kB 4.9MB/s eta 0:00:01\r\u001b[K     |██████████████████████████▋     | 174kB 4.9MB/s eta 0:00:01\r\u001b[K     |████████████████████████████▏   | 184kB 4.9MB/s eta 0:00:01\r\u001b[K     |█████████████████████████████▊  | 194kB 4.9MB/s eta 0:00:01\r\u001b[K     |███████████████████████████████▎| 204kB 4.9MB/s eta 0:00:01\r\u001b[K     |████████████████████████████████| 215kB 4.9MB/s \n",
            "\u001b[?25hInstalling collected packages: Sastrawi\n",
            "Successfully installed Sastrawi-1.0.1\n"
          ],
          "name": "stdout"
        }
      ]
    },
    {
      "cell_type": "code",
      "metadata": {
        "id": "GNS2qg8V62gA",
        "colab_type": "code",
        "colab": {
          "base_uri": "https://localhost:8080/",
          "height": 54
        },
        "outputId": "9e2f04dd-2745-4a64-81d3-96317f446926"
      },
      "source": [
        "# stemming words\n",
        "stemmed = stemmer.stem(sentences)\n",
        "print(stemmed)"
      ],
      "execution_count": 22,
      "outputs": [
        {
          "output_type": "stream",
          "text": [
            "jakarta ketua fraksi pks dprd dki jakarta mohammad arifin sebut dua nama calon wakil gubernur cawagub yang akan aju di tahun 2020 masih tetap sama dengan yang belum dua nama itu yakni agung yulianto dan ahmad syaikhu ya masih 2 nama yang belum sementara masih belum ubah ujar arifin ketika hubung sabtu 28122019 sementara anggota dprd dki dari fraksi partai gerindra syarif kata saat ini masih tunggu putus dari pks jika pun gerindra kasih sempat untuk aju nama syarif kata gerindra sudah siap karena otentikasinya belum keluar saya belum bisa sebut nama tapi bisa pasti 1 dari pks dan 1 dari gerindra katanyaproses pilih cawagub sempat tunda belum di awal tahun 2020 dprd dki jakarta akan lanjut proses pilih cawagub dengan bentuk panitia pilih telah tahun baru ini saya akan bentuk panitia pilih ujar ketua dprd dki jakarta prasetio edi marsudi di gedung dprd dki jakarta jl kebon sirih jakarta pusat jumat 27122019prasetio kata nanti dua nama yang calon akan serah kepada panitia pilih namun kait siapa dua nama sebut prasetio sebut masih tunggu pks dan gerindrayang dua nama pak syaikhu dan pak agung kan harus gelontor apakah nanti ada ganti kita nggak tahu juga kata prasetioisuisu yang kembang kan seperti itu ini kita tunggu saja saya bagai ketua dewan tunggu itu sambungnyatonton juga video kursi wagub dki masih kosong anies tinggal dprd putuskangambasvideo 20detik evaknv\n"
          ],
          "name": "stdout"
        }
      ]
    },
    {
      "cell_type": "markdown",
      "metadata": {
        "id": "zh7qauam7Wxz",
        "colab_type": "text"
      },
      "source": [
        "### Comparing into two sentences\n",
        "unstemmed vs. stemmed"
      ]
    },
    {
      "cell_type": "code",
      "metadata": {
        "id": "R2k7tIVp7eV7",
        "colab_type": "code",
        "colab": {
          "base_uri": "https://localhost:8080/",
          "height": 159
        },
        "outputId": "b01a75f8-b30d-4358-aaf5-c95d77d5172d"
      },
      "source": [
        "# for i in range(len(sentences)):\n",
        "#   if (sentences[i] == \" \"):\n",
        "#     print(sentences[i], stemmed[i])\n",
        "\n",
        "print(sentences, stemmed)"
      ],
      "execution_count": 25,
      "outputs": [
        {
          "output_type": "stream",
          "text": [
            "\n",
            "jakarta  ketua fraksi pks dprd dki jakarta mohammad arifin menyebut dua nama calon wakil gubernur cawagub yang akan diajukan di tahun 2020 masih tetap sama dengan yang sebelumnya dua nama itu yakni agung yulianto dan ahmad syaikhu ya masih 2 nama yang sebelumnya sementara masih belum berubah ujar arifin ketika dihubungi sabtu 28122019 sementara anggota dprd dki dari fraksi partai gerindra syarif mengatakan saat ini masih menunggu keputusan dari pks jika pun gerindra dikasih kesempatan untuk mengajukan nama syarif mengatakan gerindra sudah menyiapkannya\n",
            "\n",
            "karena otentikasinya belum keluar saya belum bisa sebut nama tapi bisa dipastikan 1 dari pks dan 1 dari gerindra katanyaproses pemilihan cawagub sempat tertunda sebelumnya di awal tahun 2020 dprd dki jakarta akan melanjutkan proses pemilihan cawagub dengan membentuk panitia pemilihan setelah tahun baru ini saya akan bentuk panitia pemilih ujar ketua dprd dki jakarta prasetio edi marsudi di gedung dprd dki jakarta jl kebon sirih jakarta pusat jumat 27122019prasetio mengatakan nantinya dua nama yang dicalonkan akan diserahkan kepada panitia pemilihan namun terkait siapa dua nama tersebut prasetio menyebut masih menunggu pks dan gerindrayang dua nama pak syaikhu dan pak agung kan harus digelontorkan apakah nantinya ada penggantinya kita nggak tahu juga kata prasetioisuisu yang berkembang kan seperti itu ini kita tunggu saja saya sebagai ketua dewan menunggu itu sambungnyatonton juga video kursi wagub dki masih kosong anies tinggal dprd putuskangambasvideo 20detik\n",
            "evaknv\n",
            "\n",
            " jakarta ketua fraksi pks dprd dki jakarta mohammad arifin sebut dua nama calon wakil gubernur cawagub yang akan aju di tahun 2020 masih tetap sama dengan yang belum dua nama itu yakni agung yulianto dan ahmad syaikhu ya masih 2 nama yang belum sementara masih belum ubah ujar arifin ketika hubung sabtu 28122019 sementara anggota dprd dki dari fraksi partai gerindra syarif kata saat ini masih tunggu putus dari pks jika pun gerindra kasih sempat untuk aju nama syarif kata gerindra sudah siap karena otentikasinya belum keluar saya belum bisa sebut nama tapi bisa pasti 1 dari pks dan 1 dari gerindra katanyaproses pilih cawagub sempat tunda belum di awal tahun 2020 dprd dki jakarta akan lanjut proses pilih cawagub dengan bentuk panitia pilih telah tahun baru ini saya akan bentuk panitia pilih ujar ketua dprd dki jakarta prasetio edi marsudi di gedung dprd dki jakarta jl kebon sirih jakarta pusat jumat 27122019prasetio kata nanti dua nama yang calon akan serah kepada panitia pilih namun kait siapa dua nama sebut prasetio sebut masih tunggu pks dan gerindrayang dua nama pak syaikhu dan pak agung kan harus gelontor apakah nanti ada ganti kita nggak tahu juga kata prasetioisuisu yang kembang kan seperti itu ini kita tunggu saja saya bagai ketua dewan tunggu itu sambungnyatonton juga video kursi wagub dki masih kosong anies tinggal dprd putuskangambasvideo 20detik evaknv\n"
          ],
          "name": "stdout"
        }
      ]
    }
  ]
}