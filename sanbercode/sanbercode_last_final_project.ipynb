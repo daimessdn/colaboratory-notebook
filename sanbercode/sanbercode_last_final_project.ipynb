{
  "nbformat": 4,
  "nbformat_minor": 0,
  "metadata": {
    "kernelspec": {
      "display_name": "Python 3",
      "language": "python",
      "name": "python3"
    },
    "language_info": {
      "codemirror_mode": {
        "name": "ipython",
        "version": 3
      },
      "file_extension": ".py",
      "mimetype": "text/x-python",
      "name": "python",
      "nbconvert_exporter": "python",
      "pygments_lexer": "ipython3",
      "version": "3.7.3"
    },
    "colab": {
      "name": "sanbercode_last_final_project.ipynb",
      "provenance": [],
      "include_colab_link": true
    }
  },
  "cells": [
    {
      "cell_type": "markdown",
      "metadata": {
        "id": "view-in-github",
        "colab_type": "text"
      },
      "source": [
        "<a href=\"https://colab.research.google.com/github/daimessdn/colaboratory-notebook/blob/master/sanbercode/sanbercode_last_final_project.ipynb\" target=\"_parent\"><img src=\"https://colab.research.google.com/assets/colab-badge.svg\" alt=\"Open In Colab\"/></a>"
      ]
    },
    {
      "cell_type": "code",
      "metadata": {
        "id": "Ij6kCtYwWeOB",
        "colab_type": "code",
        "colab": {}
      },
      "source": [
        "import pandas as pd\n",
        "import numpy as np\n",
        "\n",
        "profit = pd.read_csv(\"Pendapatan.csv\")\n",
        "profit_test = pd.read_csv(\"Pendapatan_test.csv\")"
      ],
      "execution_count": 0,
      "outputs": []
    },
    {
      "cell_type": "code",
      "metadata": {
        "id": "EG542mtrWePZ",
        "colab_type": "code",
        "outputId": "dd39a1e2-dcd2-4ac9-a8cc-3f5824a47f33",
        "colab": {
          "base_uri": "https://localhost:8080/",
          "height": 52
        }
      },
      "source": [
        "# melihat dimensi data\n",
        "print(profit.shape)\n",
        "print(profit_test.shape)"
      ],
      "execution_count": 2,
      "outputs": [
        {
          "output_type": "stream",
          "text": [
            "(38393, 13)\n",
            "(9599, 12)\n"
          ],
          "name": "stdout"
        }
      ]
    },
    {
      "cell_type": "code",
      "metadata": {
        "id": "OQJJzPJCWeRA",
        "colab_type": "code",
        "outputId": "c028574d-b6cd-4df2-c13b-dc4c3afc4cea",
        "colab": {
          "base_uri": "https://localhost:8080/",
          "height": 363
        }
      },
      "source": [
        "# membaca 5 data pertama untuk data pendapatan\n",
        "profit.head(5)"
      ],
      "execution_count": 3,
      "outputs": [
        {
          "output_type": "execute_result",
          "data": {
            "text/html": [
              "<div>\n",
              "<style scoped>\n",
              "    .dataframe tbody tr th:only-of-type {\n",
              "        vertical-align: middle;\n",
              "    }\n",
              "\n",
              "    .dataframe tbody tr th {\n",
              "        vertical-align: top;\n",
              "    }\n",
              "\n",
              "    .dataframe thead th {\n",
              "        text-align: right;\n",
              "    }\n",
              "</style>\n",
              "<table border=\"1\" class=\"dataframe\">\n",
              "  <thead>\n",
              "    <tr style=\"text-align: right;\">\n",
              "      <th></th>\n",
              "      <th>id</th>\n",
              "      <th>Umur</th>\n",
              "      <th>Kelas Pekerja</th>\n",
              "      <th>Berat Akhir</th>\n",
              "      <th>Pendidikan</th>\n",
              "      <th>Jmlh Tahun Pendidikan</th>\n",
              "      <th>Status Perkawinan</th>\n",
              "      <th>Pekerjaan</th>\n",
              "      <th>Jenis Kelamin</th>\n",
              "      <th>Keuntungan Kapital</th>\n",
              "      <th>Kerugian Capital</th>\n",
              "      <th>Jam per Minggu</th>\n",
              "      <th>Gaji</th>\n",
              "    </tr>\n",
              "  </thead>\n",
              "  <tbody>\n",
              "    <tr>\n",
              "      <th>0</th>\n",
              "      <td>27247</td>\n",
              "      <td>59</td>\n",
              "      <td>Pemerintah Negara</td>\n",
              "      <td>139616</td>\n",
              "      <td>Master</td>\n",
              "      <td>14</td>\n",
              "      <td>Menikah</td>\n",
              "      <td>Ekesekutif Managerial</td>\n",
              "      <td>Laki2</td>\n",
              "      <td>0.0</td>\n",
              "      <td>0.0</td>\n",
              "      <td>50.0</td>\n",
              "      <td>1</td>\n",
              "    </tr>\n",
              "    <tr>\n",
              "      <th>1</th>\n",
              "      <td>1640</td>\n",
              "      <td>52</td>\n",
              "      <td>Wiraswasta</td>\n",
              "      <td>158993</td>\n",
              "      <td>SMA</td>\n",
              "      <td>9</td>\n",
              "      <td>Cerai</td>\n",
              "      <td>Servis Lainnya</td>\n",
              "      <td>Perempuan</td>\n",
              "      <td>0.0</td>\n",
              "      <td>0.0</td>\n",
              "      <td>38.0</td>\n",
              "      <td>0</td>\n",
              "    </tr>\n",
              "    <tr>\n",
              "      <th>2</th>\n",
              "      <td>45206</td>\n",
              "      <td>52</td>\n",
              "      <td>Pekerja Bebas Bukan Perusahan</td>\n",
              "      <td>284648</td>\n",
              "      <td>SMA</td>\n",
              "      <td>9</td>\n",
              "      <td>Cerai</td>\n",
              "      <td>Ekesekutif Managerial</td>\n",
              "      <td>Perempuan</td>\n",
              "      <td>0.0</td>\n",
              "      <td>0.0</td>\n",
              "      <td>99.0</td>\n",
              "      <td>1</td>\n",
              "    </tr>\n",
              "    <tr>\n",
              "      <th>3</th>\n",
              "      <td>16154</td>\n",
              "      <td>45</td>\n",
              "      <td>Wiraswasta</td>\n",
              "      <td>132847</td>\n",
              "      <td>SMA</td>\n",
              "      <td>9</td>\n",
              "      <td>Belum Pernah Menikah</td>\n",
              "      <td>Pembersih</td>\n",
              "      <td>Perempuan</td>\n",
              "      <td>0.0</td>\n",
              "      <td>0.0</td>\n",
              "      <td>40.0</td>\n",
              "      <td>0</td>\n",
              "    </tr>\n",
              "    <tr>\n",
              "      <th>4</th>\n",
              "      <td>43023</td>\n",
              "      <td>28</td>\n",
              "      <td>Wiraswasta</td>\n",
              "      <td>103432</td>\n",
              "      <td>SMA</td>\n",
              "      <td>9</td>\n",
              "      <td>Belum Pernah Menikah</td>\n",
              "      <td>Supir</td>\n",
              "      <td>Laki2</td>\n",
              "      <td>0.0</td>\n",
              "      <td>0.0</td>\n",
              "      <td>45.0</td>\n",
              "      <td>1</td>\n",
              "    </tr>\n",
              "  </tbody>\n",
              "</table>\n",
              "</div>"
            ],
            "text/plain": [
              "      id  Umur  ... Jam per Minggu  Gaji\n",
              "0  27247    59  ...           50.0     1\n",
              "1   1640    52  ...           38.0     0\n",
              "2  45206    52  ...           99.0     1\n",
              "3  16154    45  ...           40.0     0\n",
              "4  43023    28  ...           45.0     1\n",
              "\n",
              "[5 rows x 13 columns]"
            ]
          },
          "metadata": {
            "tags": []
          },
          "execution_count": 3
        }
      ]
    },
    {
      "cell_type": "code",
      "metadata": {
        "id": "GgP9YgY0WeSW",
        "colab_type": "code",
        "outputId": "b62497cb-4efa-4275-d621-2fe1db444567",
        "colab": {
          "base_uri": "https://localhost:8080/",
          "height": 310
        }
      },
      "source": [
        "# membaca 5 data pertama untuk data pendapatan_test\n",
        "profit_test.head(5)"
      ],
      "execution_count": 4,
      "outputs": [
        {
          "output_type": "execute_result",
          "data": {
            "text/html": [
              "<div>\n",
              "<style scoped>\n",
              "    .dataframe tbody tr th:only-of-type {\n",
              "        vertical-align: middle;\n",
              "    }\n",
              "\n",
              "    .dataframe tbody tr th {\n",
              "        vertical-align: top;\n",
              "    }\n",
              "\n",
              "    .dataframe thead th {\n",
              "        text-align: right;\n",
              "    }\n",
              "</style>\n",
              "<table border=\"1\" class=\"dataframe\">\n",
              "  <thead>\n",
              "    <tr style=\"text-align: right;\">\n",
              "      <th></th>\n",
              "      <th>id</th>\n",
              "      <th>Umur</th>\n",
              "      <th>Kelas Pekerja</th>\n",
              "      <th>Berat Akhir</th>\n",
              "      <th>Pendidikan</th>\n",
              "      <th>Jmlh Tahun Pendidikan</th>\n",
              "      <th>Status Perkawinan</th>\n",
              "      <th>Pekerjaan</th>\n",
              "      <th>Jenis Kelamin</th>\n",
              "      <th>Keuntungan Kapital</th>\n",
              "      <th>Kerugian Capital</th>\n",
              "      <th>Jam per Minggu</th>\n",
              "    </tr>\n",
              "  </thead>\n",
              "  <tbody>\n",
              "    <tr>\n",
              "      <th>0</th>\n",
              "      <td>47933</td>\n",
              "      <td>30</td>\n",
              "      <td>Pemerintah Lokal</td>\n",
              "      <td>99761</td>\n",
              "      <td>D4</td>\n",
              "      <td>11</td>\n",
              "      <td>Cerai</td>\n",
              "      <td>Pemuka Agama</td>\n",
              "      <td>Perempuan</td>\n",
              "      <td>0.0</td>\n",
              "      <td>0.0</td>\n",
              "      <td>40.0</td>\n",
              "    </tr>\n",
              "    <tr>\n",
              "      <th>1</th>\n",
              "      <td>44213</td>\n",
              "      <td>28</td>\n",
              "      <td>Wiraswasta</td>\n",
              "      <td>202206</td>\n",
              "      <td>SMA</td>\n",
              "      <td>9</td>\n",
              "      <td>Menikah</td>\n",
              "      <td>Mesin Inspeksi</td>\n",
              "      <td>Laki2</td>\n",
              "      <td>0.0</td>\n",
              "      <td>0.0</td>\n",
              "      <td>50.0</td>\n",
              "    </tr>\n",
              "    <tr>\n",
              "      <th>2</th>\n",
              "      <td>20823</td>\n",
              "      <td>34</td>\n",
              "      <td>Pemerintah Provinsi</td>\n",
              "      <td>199934</td>\n",
              "      <td>Pendidikan Tinggi</td>\n",
              "      <td>10</td>\n",
              "      <td>Menikah</td>\n",
              "      <td>Pemuka Agama</td>\n",
              "      <td>Laki2</td>\n",
              "      <td>0.0</td>\n",
              "      <td>0.0</td>\n",
              "      <td>40.0</td>\n",
              "    </tr>\n",
              "    <tr>\n",
              "      <th>3</th>\n",
              "      <td>40565</td>\n",
              "      <td>51</td>\n",
              "      <td>Wiraswasta</td>\n",
              "      <td>373448</td>\n",
              "      <td>Pendidikan Tinggi</td>\n",
              "      <td>10</td>\n",
              "      <td>Menikah</td>\n",
              "      <td>Ekesekutif Managerial</td>\n",
              "      <td>Laki2</td>\n",
              "      <td>0.0</td>\n",
              "      <td>28028000.0</td>\n",
              "      <td>40.0</td>\n",
              "    </tr>\n",
              "    <tr>\n",
              "      <th>4</th>\n",
              "      <td>9860</td>\n",
              "      <td>20</td>\n",
              "      <td>?</td>\n",
              "      <td>144685</td>\n",
              "      <td>Pendidikan Tinggi</td>\n",
              "      <td>10</td>\n",
              "      <td>Belum Pernah Menikah</td>\n",
              "      <td>?</td>\n",
              "      <td>Perempuan</td>\n",
              "      <td>0.0</td>\n",
              "      <td>22428000.0</td>\n",
              "      <td>40.0</td>\n",
              "    </tr>\n",
              "  </tbody>\n",
              "</table>\n",
              "</div>"
            ],
            "text/plain": [
              "      id  Umur  ... Kerugian Capital  Jam per Minggu\n",
              "0  47933    30  ...              0.0            40.0\n",
              "1  44213    28  ...              0.0            50.0\n",
              "2  20823    34  ...              0.0            40.0\n",
              "3  40565    51  ...       28028000.0            40.0\n",
              "4   9860    20  ...       22428000.0            40.0\n",
              "\n",
              "[5 rows x 12 columns]"
            ]
          },
          "metadata": {
            "tags": []
          },
          "execution_count": 4
        }
      ]
    },
    {
      "cell_type": "code",
      "metadata": {
        "id": "9vEmOIPOWeS8",
        "colab_type": "code",
        "colab": {}
      },
      "source": [
        "# nanv = profit[\"Pekerjaan\"] == \"?\"\n",
        "# nanv4 = profit[\"Kelas Pekerja\"] != \"Tidak Pernah Bekerja\"\n",
        "# nanv5 = profit[\"Kelas Pekerja\"] == \"Tidak Pernah Bekerja\"\n",
        "# nanv2 = profit[\"Kelas Pekerja\"] != \"?\"\n",
        "# nanv3 = profit[\"Kelas Pekerja\"] == \"?\"\n",
        "\n",
        "# zero_salary = profit[\"Gaji\"] == 0\n",
        "# one_salary = profit[\"Gaji\"] == 1\n",
        "\n",
        "# d3 = profit[\"Pendidikan\"] != \"D3\"\n",
        "# sma = profit[\"Pendidikan\"] != \"SMA\"\n",
        "# d4 = profit[\"Pendidikan\"] != \"D4\"\n",
        "# pt = profit[\"Pendidikan\"] != \"Pendidikan Tinggi\"\n",
        "# sj = profit[\"Pendidikan\"] != \"Sarjana\"\n",
        "# ms = profit[\"Pendidikan\"] != \"Master\"\n",
        "# pro = profit[\"Pendidikan\"] != \"Sekolah Professional\"\n",
        "# dr = profit[\"Pendidikan\"] != \"Doktor\"\n",
        "# sd = profit[\"Pendidikan\"] != \"SD\"\n",
        "\n",
        "# th = profit[\"Pendidikan\"].str.contains(\"th\")\n",
        "# not_th = ~profit[\"Pendidikan\"].str.contains(\"th\")\n",
        "\n",
        "# # profit[d3 & sma & d4 & pt & sj & ms & pro]\n",
        "# # profit[th & d3 & sma & d4 & pt & sj & ms & pro & dr & sd\n",
        "\n",
        "# untung = profit[\"Keuntungan Kapital\"] > 0\n",
        "# rugi = profit[\"Kerugian Capital\"] > 0\n",
        "\n",
        "# xth = profit[\"Pendidikan\"] == \"1st-4th\"\n",
        "# nth = profit[\"Jmlh Tahun Pendidikan\"] == 2\n",
        "\n",
        "# ldr = profit[\"Status Perkawinan\"] == \"Menikah LDR\"\n",
        "# profit[rugi & untung].count()"
      ],
      "execution_count": 0,
      "outputs": []
    },
    {
      "cell_type": "code",
      "metadata": {
        "id": "H1WI56u7WeTz",
        "colab_type": "code",
        "colab": {}
      },
      "source": [
        "# profit.groupby(\"Pekerjaan\").mean()"
      ],
      "execution_count": 0,
      "outputs": []
    },
    {
      "cell_type": "code",
      "metadata": {
        "id": "4g6WamjyWeUP",
        "colab_type": "code",
        "colab": {}
      },
      "source": [
        "# profit.groupby(\"Kelas Pekerja\").mean()"
      ],
      "execution_count": 0,
      "outputs": []
    },
    {
      "cell_type": "code",
      "metadata": {
        "id": "psYofwI_WeUk",
        "colab_type": "code",
        "colab": {}
      },
      "source": [
        "# profit[\"Pekerjaan\"].value_counts()"
      ],
      "execution_count": 0,
      "outputs": []
    },
    {
      "cell_type": "code",
      "metadata": {
        "id": "9wEYBnzWWeU5",
        "colab_type": "code",
        "colab": {}
      },
      "source": [
        "# profit[profit[\"Pendidikan\"] == \"SD\"].groupby(\"Pekerjaan\").mean()"
      ],
      "execution_count": 0,
      "outputs": []
    },
    {
      "cell_type": "markdown",
      "metadata": {
        "id": "VZqGaqDWWeVy",
        "colab_type": "text"
      },
      "source": [
        "Berdasarkan data yang dikelompokkan berdasarkan tingkat pendidikannya, ternyata beberapa data pendidikan dapat diklasifikan dan diakumulasikan sebagai berikut.\n",
        "- **1st-4th** dapat dikategorikan sebagai **SD**\n",
        "- **5st-6th** dapat dikategorikan sebagai **SD**\n",
        "- **7st-8th** dapat dikategorikan sebagai **SMP**\n",
        "- **9th** dapat dikategorikan sebagai **SMP**\n",
        "- **10th** dapat dikategorikan sebagai **SMA**\n",
        "- **11th** dapat dikategorikan sebagai **SMA**\n",
        "- **12th** dapat dikategorikan sebagai **SMA**\n",
        "\n",
        "Adapun D3, D4, Sarjana, Doktor, Master, serta Sekolah Professional dapat dikategorikan sebagai pendidikan tinggi."
      ]
    },
    {
      "cell_type": "markdown",
      "metadata": {
        "id": "vTjr17SDWeV3",
        "colab_type": "text"
      },
      "source": [
        "Sedangkan dari segi status perkawinan, status perkawinan dapat dikelompokan lagi sebagai berikut\n",
        "- **Berpisah** dan **Janda** dapat dikategorikan sebagai **Cerai**.\n",
        "- **Menikah LDR** dapat dikategorikan sebagai **Menikah**"
      ]
    },
    {
      "cell_type": "markdown",
      "metadata": {
        "id": "-2k2CDipWeV-",
        "colab_type": "text"
      },
      "source": [
        "Dari segi kelas pekerja dapat dikelompokkan lagi sebagai berikut\n",
        "- Pekerja bebas non-perusahaan dan pekerja bebas perusahaan serta kelas lainnya dapat dikategorikan sebagai non-pemerintahan\n",
        "- Pemerintahan baik negara, lokal, maupun provinsi dapat dikatagorikan sebagai sektor pemerintahan, apapun sektornya baik di negara, provinsi, maupun lokal.\n",
        "- Untuk kelas tidak bekerja maupun yang tidak diketahui dapat dihapus dari data mengingat hal ini sangat sulit untuk diolah dan jumlahnya yang tidak banyak"
      ]
    },
    {
      "cell_type": "markdown",
      "metadata": {
        "id": "F-cb0krBWeWE",
        "colab_type": "text"
      },
      "source": [
        "Sedangkan berhubung dengan banyaknya jenis pekerjaan, pekerjaan akan dibedakan secara jasmani dan rohani."
      ]
    },
    {
      "cell_type": "code",
      "metadata": {
        "scrolled": true,
        "id": "Dim_PaBHWeWL",
        "colab_type": "code",
        "colab": {}
      },
      "source": [
        "# profit.isnull().sum()\n",
        "# profit[\"Berat Akhir\"].value_counts()"
      ],
      "execution_count": 0,
      "outputs": []
    },
    {
      "cell_type": "markdown",
      "metadata": {
        "id": "KGHQVHpgWeW_",
        "colab_type": "text"
      },
      "source": [
        "# Pemrosesan Data Training dan Data Testing"
      ]
    },
    {
      "cell_type": "code",
      "metadata": {
        "id": "L65ApeBIWeXD",
        "colab_type": "code",
        "colab": {}
      },
      "source": [
        "profit_processed = profit.drop([\"id\", \"Jmlh Tahun Pendidikan\"], axis=1)\n",
        "profit_test_processed = profit_test.drop([\"id\", \"Jmlh Tahun Pendidikan\"], axis=1)"
      ],
      "execution_count": 0,
      "outputs": []
    },
    {
      "cell_type": "markdown",
      "metadata": {
        "id": "rDh7x8hwWeXc",
        "colab_type": "text"
      },
      "source": [
        "## Pemrosesan Data Kelas Pekerja"
      ]
    },
    {
      "cell_type": "code",
      "metadata": {
        "scrolled": true,
        "id": "Ig1tTtCFWeXi",
        "colab_type": "code",
        "colab": {}
      },
      "source": [
        "# profit_processed[\"Kelas Pekerja\"].value_counts()"
      ],
      "execution_count": 0,
      "outputs": []
    },
    {
      "cell_type": "code",
      "metadata": {
        "scrolled": false,
        "id": "V7rlgikIWeYV",
        "colab_type": "code",
        "colab": {}
      },
      "source": [
        "# profit_test_processed[\"Kelas Pekerja\"].value_counts()"
      ],
      "execution_count": 0,
      "outputs": []
    },
    {
      "cell_type": "code",
      "metadata": {
        "id": "MPL_k5VVWeYq",
        "colab_type": "code",
        "colab": {}
      },
      "source": [
        "profit_processed.loc[profit_processed[\"Kelas Pekerja\"] == \"Wiraswasta\", \"Kelas Pekerja\"] = \"Non Pemerintah\"\n",
        "profit_processed.loc[profit_processed[\"Kelas Pekerja\"] == \"Pekerja Bebas Bukan Perusahan\", \"Kelas Pekerja\"] = \"Non Pemerintah\"\n",
        "profit_processed.loc[profit_processed[\"Kelas Pekerja\"] == \"Pekerja Bebas Perusahaan\", \"Kelas Pekerja\"] = \"Non Pemerintah\"\n",
        "profit_processed.loc[profit_processed[\"Kelas Pekerja\"] == \"Tanpa di Bayar\", \"Kelas Pekerja\"] = \"Non Pemerintah\"\n",
        "\n",
        "profit_processed.loc[profit_processed[\"Kelas Pekerja\"] == \"Pemerintah Lokal\", \"Kelas Pekerja\"] = \"Pemerintah\"\n",
        "profit_processed.loc[profit_processed[\"Kelas Pekerja\"] == \"Pemerintah Provinsi\", \"Kelas Pekerja\"] = \"Pemerintah\"\n",
        "profit_processed.loc[profit_processed[\"Kelas Pekerja\"] == \"Pemerintah Negara\", \"Kelas Pekerja\"] = \"Pemerintah\"\n"
      ],
      "execution_count": 0,
      "outputs": []
    },
    {
      "cell_type": "code",
      "metadata": {
        "id": "7bl6e8ljWeZE",
        "colab_type": "code",
        "colab": {}
      },
      "source": [
        "profit_test_processed.loc[profit_test_processed[\"Kelas Pekerja\"] == \"Wiraswasta\", \"Kelas Pekerja\"] = \"Non Pemerintah\"\n",
        "profit_test_processed.loc[profit_test_processed[\"Kelas Pekerja\"] == \"Pekerja Bebas Bukan Perusahan\", \"Kelas Pekerja\"] = \"Non Pemerintah\"\n",
        "profit_test_processed.loc[profit_test_processed[\"Kelas Pekerja\"] == \"Pekerja Bebas Perusahaan\", \"Kelas Pekerja\"] = \"Non Pemerintah\"\n",
        "profit_test_processed.loc[profit_test_processed[\"Kelas Pekerja\"] == \"Tanpa di Bayar\", \"Kelas Pekerja\"] = \"Non Pemerintah\"\n",
        "\n",
        "profit_test_processed.loc[profit_test_processed[\"Kelas Pekerja\"] == \"Pemerintah Lokal\", \"Kelas Pekerja\"] = \"Pemerintah\"\n",
        "profit_test_processed.loc[profit_test_processed[\"Kelas Pekerja\"] == \"Pemerintah Provinsi\", \"Kelas Pekerja\"] = \"Pemerintah\"\n",
        "profit_test_processed.loc[profit_test_processed[\"Kelas Pekerja\"] == \"Pemerintah Negara\", \"Kelas Pekerja\"] = \"Pemerintah\"\n"
      ],
      "execution_count": 0,
      "outputs": []
    },
    {
      "cell_type": "code",
      "metadata": {
        "id": "sw61jH-ZWeZa",
        "colab_type": "code",
        "colab": {}
      },
      "source": [
        "# profit_processed[\"Kelas Pekerja\"].value_counts()"
      ],
      "execution_count": 0,
      "outputs": []
    },
    {
      "cell_type": "code",
      "metadata": {
        "scrolled": false,
        "id": "aBkxJjcOWeaM",
        "colab_type": "code",
        "colab": {}
      },
      "source": [
        "# profit_test_processed[\"Kelas Pekerja\"].value_counts()"
      ],
      "execution_count": 0,
      "outputs": []
    },
    {
      "cell_type": "markdown",
      "metadata": {
        "id": "Gnpe8M6mWeaf",
        "colab_type": "text"
      },
      "source": [
        "## Pemrosesan Data Pendidikan"
      ]
    },
    {
      "cell_type": "code",
      "metadata": {
        "scrolled": true,
        "id": "OSxh-to1Wean",
        "colab_type": "code",
        "outputId": "62391764-ad1a-4590-a763-e269be8a46a1",
        "colab": {
          "base_uri": "https://localhost:8080/",
          "height": 312
        }
      },
      "source": [
        "profit_processed[\"Pendidikan\"].value_counts()"
      ],
      "execution_count": 19,
      "outputs": [
        {
          "output_type": "execute_result",
          "data": {
            "text/plain": [
              "SMA                     12430\n",
              "Pendidikan Tinggi        8529\n",
              "Sarjana                  6320\n",
              "Master                   2093\n",
              "D4                       1603\n",
              "11th                     1407\n",
              "D3                       1260\n",
              "10th                     1096\n",
              "7th-8th                   722\n",
              "Sekolah Professional      666\n",
              "9th                       604\n",
              "12th                      509\n",
              "Doktor                    477\n",
              "5th-6th                   418\n",
              "1st-4th                   195\n",
              "SD                         64\n",
              "Name: Pendidikan, dtype: int64"
            ]
          },
          "metadata": {
            "tags": []
          },
          "execution_count": 19
        }
      ]
    },
    {
      "cell_type": "code",
      "metadata": {
        "id": "UsiAbNIkWebf",
        "colab_type": "code",
        "colab": {}
      },
      "source": [
        "profit_processed.loc[profit_processed[\"Pendidikan\"] == \"1st-4th\", \"Pendidikan\"] = \"SD\"\n",
        "profit_processed.loc[profit_processed[\"Pendidikan\"] == \"5th-6th\", \"Pendidikan\"] = \"SD\"\n",
        "\n",
        "profit_processed.loc[profit_processed[\"Pendidikan\"] == \"7th-8th\", \"Pendidikan\"] = \"SMP\"\n",
        "profit_processed.loc[profit_processed[\"Pendidikan\"] == \"9th\", \"Pendidikan\"] = \"SMP\"\n",
        "\n",
        "profit_processed.loc[profit_processed[\"Pendidikan\"] == \"10th\", \"Pendidikan\"] = \"SMA\"\n",
        "profit_processed.loc[profit_processed[\"Pendidikan\"] == \"11th\", \"Pendidikan\"] = \"SMA\"\n",
        "profit_processed.loc[profit_processed[\"Pendidikan\"] == \"12th\", \"Pendidikan\"] = \"SMA\"\n",
        "\n",
        "profit_processed.loc[profit_processed[\"Pendidikan\"] == \"D3\", \"Pendidikan\"] = \"Pendidikan Tinggi\"\n",
        "profit_processed.loc[profit_processed[\"Pendidikan\"] == \"D4\", \"Pendidikan\"] = \"Pendidikan Tinggi\"\n",
        "profit_processed.loc[profit_processed[\"Pendidikan\"] == \"Sarjana\", \"Pendidikan\"] = \"Pendidikan Tinggi\"\n",
        "profit_processed.loc[profit_processed[\"Pendidikan\"] == \"Master\", \"Pendidikan\"] = \"Pendidikan Tinggi\"\n",
        "profit_processed.loc[profit_processed[\"Pendidikan\"] == \"Doktor\", \"Pendidikan\"] = \"Pendidikan Tinggi\"\n",
        "profit_processed.loc[profit_processed[\"Pendidikan\"] == \"Sekolah Professional\", \"Pendidikan\"] = \"Pendidikan Tinggi\""
      ],
      "execution_count": 0,
      "outputs": []
    },
    {
      "cell_type": "code",
      "metadata": {
        "id": "Ith3mltcWeb6",
        "colab_type": "code",
        "colab": {}
      },
      "source": [
        "profit_test_processed.loc[profit_test_processed[\"Pendidikan\"] == \"1st-4th\", \"Pendidikan\"] = \"SD\"\n",
        "profit_test_processed.loc[profit_test_processed[\"Pendidikan\"] == \"5th-6th\", \"Pendidikan\"] = \"SD\"\n",
        "\n",
        "profit_test_processed.loc[profit_test_processed[\"Pendidikan\"] == \"7th-8th\", \"Pendidikan\"] = \"SMP\"\n",
        "profit_test_processed.loc[profit_test_processed[\"Pendidikan\"] == \"9th\", \"Pendidikan\"] = \"SMP\"\n",
        "\n",
        "profit_test_processed.loc[profit_test_processed[\"Pendidikan\"] == \"10th\", \"Pendidikan\"] = \"SMA\"\n",
        "profit_test_processed.loc[profit_test_processed[\"Pendidikan\"] == \"11th\", \"Pendidikan\"] = \"SMA\"\n",
        "profit_test_processed.loc[profit_test_processed[\"Pendidikan\"] == \"12th\", \"Pendidikan\"] = \"SMA\"\n",
        "\n",
        "profit_test_processed.loc[profit_test_processed[\"Pendidikan\"] == \"D3\", \"Pendidikan\"] = \"Pendidikan Tinggi\"\n",
        "profit_test_processed.loc[profit_test_processed[\"Pendidikan\"] == \"D4\", \"Pendidikan\"] = \"Pendidikan Tinggi\"\n",
        "profit_test_processed.loc[profit_test_processed[\"Pendidikan\"] == \"Sarjana\", \"Pendidikan\"] = \"Pendidikan Tinggi\"\n",
        "profit_test_processed.loc[profit_test_processed[\"Pendidikan\"] == \"Master\", \"Pendidikan\"] = \"Pendidikan Tinggi\"\n",
        "profit_test_processed.loc[profit_test_processed[\"Pendidikan\"] == \"Doktor\", \"Pendidikan\"] = \"Pendidikan Tinggi\"\n",
        "profit_test_processed.loc[profit_test_processed[\"Pendidikan\"] == \"Sekolah Professional\", \"Pendidikan\"] = \"Pendidikan Tinggi\""
      ],
      "execution_count": 0,
      "outputs": []
    },
    {
      "cell_type": "code",
      "metadata": {
        "scrolled": false,
        "id": "Qiqpt_EGWecY",
        "colab_type": "code",
        "outputId": "67225465-39d2-4b29-f786-2724c0ba2d87",
        "colab": {
          "base_uri": "https://localhost:8080/",
          "height": 104
        }
      },
      "source": [
        "profit_processed[\"Pendidikan\"].value_counts()"
      ],
      "execution_count": 22,
      "outputs": [
        {
          "output_type": "execute_result",
          "data": {
            "text/plain": [
              "Pendidikan Tinggi    20948\n",
              "SMA                  15442\n",
              "SMP                   1326\n",
              "SD                     677\n",
              "Name: Pendidikan, dtype: int64"
            ]
          },
          "metadata": {
            "tags": []
          },
          "execution_count": 22
        }
      ]
    },
    {
      "cell_type": "code",
      "metadata": {
        "id": "Zk8FudmJWedR",
        "colab_type": "code",
        "outputId": "ab01087a-6c03-45c1-92dd-94a3ee523790",
        "colab": {
          "base_uri": "https://localhost:8080/",
          "height": 104
        }
      },
      "source": [
        "profit_test_processed[\"Pendidikan\"].value_counts()"
      ],
      "execution_count": 23,
      "outputs": [
        {
          "output_type": "execute_result",
          "data": {
            "text/plain": [
              "Pendidikan Tinggi    5234\n",
              "SMA                  3865\n",
              "SMP                   352\n",
              "SD                    148\n",
              "Name: Pendidikan, dtype: int64"
            ]
          },
          "metadata": {
            "tags": []
          },
          "execution_count": 23
        }
      ]
    },
    {
      "cell_type": "markdown",
      "metadata": {
        "id": "uR-0TEntWedp",
        "colab_type": "text"
      },
      "source": [
        "## Pemrosesan Data Status Perkawinan"
      ]
    },
    {
      "cell_type": "code",
      "metadata": {
        "scrolled": false,
        "id": "gGH2U43zWedv",
        "colab_type": "code",
        "outputId": "3afea7da-cd56-4354-f908-c8fa80ec37fe",
        "colab": {
          "base_uri": "https://localhost:8080/",
          "height": 139
        }
      },
      "source": [
        "profit_processed[\"Status Perkawinan\"].value_counts()"
      ],
      "execution_count": 24,
      "outputs": [
        {
          "output_type": "execute_result",
          "data": {
            "text/plain": [
              "Menikah                 17640\n",
              "Belum Pernah Menikah    12650\n",
              "Cerai                    5200\n",
              "Berpisah                 1203\n",
              "Janda                    1178\n",
              "Menikah LDR               522\n",
              "Name: Status Perkawinan, dtype: int64"
            ]
          },
          "metadata": {
            "tags": []
          },
          "execution_count": 24
        }
      ]
    },
    {
      "cell_type": "code",
      "metadata": {
        "id": "pC8DmjmeWeeg",
        "colab_type": "code",
        "outputId": "5155995a-8591-486a-a580-771177b73ad5",
        "colab": {
          "base_uri": "https://localhost:8080/",
          "height": 139
        }
      },
      "source": [
        "profit_test_processed[\"Status Perkawinan\"].value_counts()"
      ],
      "execution_count": 25,
      "outputs": [
        {
          "output_type": "execute_result",
          "data": {
            "text/plain": [
              "Menikah                 4333\n",
              "Belum Pernah Menikah    3213\n",
              "Cerai                   1304\n",
              "Janda                    313\n",
              "Berpisah                 301\n",
              "Menikah LDR              135\n",
              "Name: Status Perkawinan, dtype: int64"
            ]
          },
          "metadata": {
            "tags": []
          },
          "execution_count": 25
        }
      ]
    },
    {
      "cell_type": "code",
      "metadata": {
        "id": "XfPj1S9SWee2",
        "colab_type": "code",
        "colab": {}
      },
      "source": [
        "profit_processed.loc[profit_processed[\"Status Perkawinan\"] == \"Berpisah\", \"Status Perkawinan\"] = \"Cerai\"\n",
        "profit_processed.loc[profit_processed[\"Status Perkawinan\"] == \"Janda\", \"Status Perkawinan\"] = \"Cerai\"\n",
        "\n",
        "profit_processed.loc[profit_processed[\"Status Perkawinan\"] == \"Menikah LDR\", \"Status Perkawinan\"] = \"Menikah\""
      ],
      "execution_count": 0,
      "outputs": []
    },
    {
      "cell_type": "code",
      "metadata": {
        "id": "KCX2zPvvWefP",
        "colab_type": "code",
        "colab": {}
      },
      "source": [
        "profit_test_processed.loc[profit_test_processed[\"Status Perkawinan\"] == \"Berpisah\", \"Status Perkawinan\"] = \"Cerai\"\n",
        "profit_test_processed.loc[profit_test_processed[\"Status Perkawinan\"] == \"Janda\", \"Status Perkawinan\"] = \"Cerai\"\n",
        "\n",
        "profit_test_processed.loc[profit_test_processed[\"Status Perkawinan\"] == \"Menikah LDR\", \"Status Perkawinan\"] = \"Menikah\""
      ],
      "execution_count": 0,
      "outputs": []
    },
    {
      "cell_type": "code",
      "metadata": {
        "scrolled": false,
        "id": "GeS-Lc8zWef6",
        "colab_type": "code",
        "outputId": "f8d87084-c8a5-4012-f708-0f3b3bd325c0",
        "colab": {
          "base_uri": "https://localhost:8080/",
          "height": 86
        }
      },
      "source": [
        "profit_processed[\"Status Perkawinan\"].value_counts()"
      ],
      "execution_count": 28,
      "outputs": [
        {
          "output_type": "execute_result",
          "data": {
            "text/plain": [
              "Menikah                 18162\n",
              "Belum Pernah Menikah    12650\n",
              "Cerai                    7581\n",
              "Name: Status Perkawinan, dtype: int64"
            ]
          },
          "metadata": {
            "tags": []
          },
          "execution_count": 28
        }
      ]
    },
    {
      "cell_type": "code",
      "metadata": {
        "id": "JblwNALHWegQ",
        "colab_type": "code",
        "outputId": "9e0abc02-c3d6-45d6-cae5-670386e944b4",
        "colab": {
          "base_uri": "https://localhost:8080/",
          "height": 86
        }
      },
      "source": [
        "profit_test_processed[\"Status Perkawinan\"].value_counts()"
      ],
      "execution_count": 29,
      "outputs": [
        {
          "output_type": "execute_result",
          "data": {
            "text/plain": [
              "Menikah                 4468\n",
              "Belum Pernah Menikah    3213\n",
              "Cerai                   1918\n",
              "Name: Status Perkawinan, dtype: int64"
            ]
          },
          "metadata": {
            "tags": []
          },
          "execution_count": 29
        }
      ]
    },
    {
      "cell_type": "markdown",
      "metadata": {
        "id": "iOtXb1taWegg",
        "colab_type": "text"
      },
      "source": [
        "## Pemrosesan Data Pekerjaan"
      ]
    },
    {
      "cell_type": "code",
      "metadata": {
        "scrolled": false,
        "id": "fSAzxJNZWegi",
        "colab_type": "code",
        "colab": {}
      },
      "source": [
        "# profit_processed[\"Pekerjaan\"].value_counts()"
      ],
      "execution_count": 0,
      "outputs": []
    },
    {
      "cell_type": "code",
      "metadata": {
        "scrolled": false,
        "id": "F_YKnaJqWegx",
        "colab_type": "code",
        "colab": {}
      },
      "source": [
        "# profit_test_processed[\"Pekerjaan\"].value_counts()"
      ],
      "execution_count": 0,
      "outputs": []
    },
    {
      "cell_type": "code",
      "metadata": {
        "id": "UWth5pVqWehe",
        "colab_type": "code",
        "colab": {}
      },
      "source": [
        "profit_processed.loc[profit_processed[\"Pekerjaan\"] == \"Asisten Rumah Tangga\", \"Pekerjaan\"] = \"Jasmani\"\n",
        "profit_processed.loc[profit_processed[\"Pekerjaan\"] == \"Perbaikan Kerajinan\", \"Pekerjaan\"] = \"Jasmani\"\n",
        "profit_processed.loc[profit_processed[\"Pekerjaan\"] == \"Petani\", \"Pekerjaan\"] = \"Jasmani\"\n",
        "profit_processed.loc[profit_processed[\"Pekerjaan\"] == \"Supir\", \"Pekerjaan\"] = \"Jasmani\"\n",
        "profit_processed.loc[profit_processed[\"Pekerjaan\"] == \"Pembersih\", \"Pekerjaan\"] = \"Jasmani\"\n",
        "profit_processed.loc[profit_processed[\"Pekerjaan\"] == \"Penjaga\", \"Pekerjaan\"] = \"Jasmani\"\n",
        "profit_processed.loc[profit_processed[\"Pekerjaan\"] == \"Servis Lainnya\", \"Pekerjaan\"] = \"Jasmani\"\n",
        "profit_processed.loc[profit_processed[\"Pekerjaan\"] == \"Tech-support\", \"Pekerjaan\"] = \"Jasmani\"\n",
        "profit_processed.loc[profit_processed[\"Pekerjaan\"] == \"Tentara\", \"Pekerjaan\"] = \"Jasmani\"\n",
        "\n",
        "profit_processed.loc[profit_processed[\"Pekerjaan\"] == \"Spesialis\", \"Pekerjaan\"] = \"Rohani\"\n",
        "profit_processed.loc[profit_processed[\"Pekerjaan\"] == \"Ekesekutif Managerial\", \"Pekerjaan\"] = \"Rohani\"\n",
        "profit_processed.loc[profit_processed[\"Pekerjaan\"] == \"Pemuka Agama\", \"Pekerjaan\"] = \"Rohani\"\n",
        "profit_processed.loc[profit_processed[\"Pekerjaan\"] == \"Sales\", \"Pekerjaan\"] = \"Rohani\"\n",
        "profit_processed.loc[profit_processed[\"Pekerjaan\"] == \"Mesin Inspeksi\", \"Pekerjaan\"] = \"Rohani\""
      ],
      "execution_count": 0,
      "outputs": []
    },
    {
      "cell_type": "code",
      "metadata": {
        "id": "HK_zR3u5Wehu",
        "colab_type": "code",
        "colab": {}
      },
      "source": [
        "profit_test_processed.loc[profit_test_processed[\"Pekerjaan\"] == \"Asisten Rumah Tangga\", \"Pekerjaan\"] = \"Jasmani\"\n",
        "profit_test_processed.loc[profit_test_processed[\"Pekerjaan\"] == \"Perbaikan Kerajinan\", \"Pekerjaan\"] = \"Jasmani\"\n",
        "profit_test_processed.loc[profit_test_processed[\"Pekerjaan\"] == \"Petani\", \"Pekerjaan\"] = \"Jasmani\"\n",
        "profit_test_processed.loc[profit_test_processed[\"Pekerjaan\"] == \"Supir\", \"Pekerjaan\"] = \"Jasmani\"\n",
        "profit_test_processed.loc[profit_test_processed[\"Pekerjaan\"] == \"Pembersih\", \"Pekerjaan\"] = \"Jasmani\"\n",
        "profit_test_processed.loc[profit_test_processed[\"Pekerjaan\"] == \"Penjaga\", \"Pekerjaan\"] = \"Jasmani\"\n",
        "profit_test_processed.loc[profit_test_processed[\"Pekerjaan\"] == \"Servis Lainnya\", \"Pekerjaan\"] = \"Jasmani\"\n",
        "profit_test_processed.loc[profit_test_processed[\"Pekerjaan\"] == \"Tech-support\", \"Pekerjaan\"] = \"Jasmani\"\n",
        "profit_test_processed.loc[profit_test_processed[\"Pekerjaan\"] == \"Tentara\", \"Pekerjaan\"] = \"Jasmani\"\n",
        "\n",
        "profit_test_processed.loc[profit_test_processed[\"Pekerjaan\"] == \"Spesialis\", \"Pekerjaan\"] = \"Rohani\"\n",
        "profit_test_processed.loc[profit_test_processed[\"Pekerjaan\"] == \"Ekesekutif Managerial\", \"Pekerjaan\"] = \"Rohani\"\n",
        "profit_test_processed.loc[profit_test_processed[\"Pekerjaan\"] == \"Pemuka Agama\", \"Pekerjaan\"] = \"Rohani\"\n",
        "profit_test_processed.loc[profit_test_processed[\"Pekerjaan\"] == \"Sales\", \"Pekerjaan\"] = \"Rohani\"\n",
        "profit_test_processed.loc[profit_test_processed[\"Pekerjaan\"] == \"Mesin Inspeksi\", \"Pekerjaan\"] = \"Rohani\""
      ],
      "execution_count": 0,
      "outputs": []
    },
    {
      "cell_type": "code",
      "metadata": {
        "id": "QlYIo_OnWeh8",
        "colab_type": "code",
        "colab": {}
      },
      "source": [
        "# profit_processed.drop(profit_processed.loc[profit_processed['Pekerjaan'] == \"?\"].index, inplace=True)\n",
        "# profit_test_processed.drop(profit_test_processed.loc[profit_test_processed['Pekerjaan'] == \"?\"].index, inplace=True)"
      ],
      "execution_count": 0,
      "outputs": []
    },
    {
      "cell_type": "code",
      "metadata": {
        "scrolled": true,
        "id": "VjaXcMgpWeiP",
        "colab_type": "code",
        "colab": {}
      },
      "source": [
        "# profit_processed[\"Pekerjaan\"].value_counts()"
      ],
      "execution_count": 0,
      "outputs": []
    },
    {
      "cell_type": "code",
      "metadata": {
        "scrolled": false,
        "id": "q_HyuCMKWei_",
        "colab_type": "code",
        "colab": {}
      },
      "source": [
        "# profit_test_processed[\"Pekerjaan\"].value_counts()"
      ],
      "execution_count": 0,
      "outputs": []
    },
    {
      "cell_type": "code",
      "metadata": {
        "id": "vUjPnLiFWejQ",
        "colab_type": "code",
        "outputId": "942802eb-bafd-49c4-aa93-ad45e3c466d3",
        "colab": {
          "base_uri": "https://localhost:8080/",
          "height": 537
        }
      },
      "source": [
        "profit_processed.head(10)"
      ],
      "execution_count": 37,
      "outputs": [
        {
          "output_type": "execute_result",
          "data": {
            "text/html": [
              "<div>\n",
              "<style scoped>\n",
              "    .dataframe tbody tr th:only-of-type {\n",
              "        vertical-align: middle;\n",
              "    }\n",
              "\n",
              "    .dataframe tbody tr th {\n",
              "        vertical-align: top;\n",
              "    }\n",
              "\n",
              "    .dataframe thead th {\n",
              "        text-align: right;\n",
              "    }\n",
              "</style>\n",
              "<table border=\"1\" class=\"dataframe\">\n",
              "  <thead>\n",
              "    <tr style=\"text-align: right;\">\n",
              "      <th></th>\n",
              "      <th>Umur</th>\n",
              "      <th>Kelas Pekerja</th>\n",
              "      <th>Berat Akhir</th>\n",
              "      <th>Pendidikan</th>\n",
              "      <th>Status Perkawinan</th>\n",
              "      <th>Pekerjaan</th>\n",
              "      <th>Jenis Kelamin</th>\n",
              "      <th>Keuntungan Kapital</th>\n",
              "      <th>Kerugian Capital</th>\n",
              "      <th>Jam per Minggu</th>\n",
              "      <th>Gaji</th>\n",
              "    </tr>\n",
              "  </thead>\n",
              "  <tbody>\n",
              "    <tr>\n",
              "      <th>0</th>\n",
              "      <td>59</td>\n",
              "      <td>Pemerintah</td>\n",
              "      <td>139616</td>\n",
              "      <td>Pendidikan Tinggi</td>\n",
              "      <td>Menikah</td>\n",
              "      <td>Rohani</td>\n",
              "      <td>Laki2</td>\n",
              "      <td>0.0</td>\n",
              "      <td>0.0</td>\n",
              "      <td>50.0</td>\n",
              "      <td>1</td>\n",
              "    </tr>\n",
              "    <tr>\n",
              "      <th>1</th>\n",
              "      <td>52</td>\n",
              "      <td>Non Pemerintah</td>\n",
              "      <td>158993</td>\n",
              "      <td>SMA</td>\n",
              "      <td>Cerai</td>\n",
              "      <td>Jasmani</td>\n",
              "      <td>Perempuan</td>\n",
              "      <td>0.0</td>\n",
              "      <td>0.0</td>\n",
              "      <td>38.0</td>\n",
              "      <td>0</td>\n",
              "    </tr>\n",
              "    <tr>\n",
              "      <th>2</th>\n",
              "      <td>52</td>\n",
              "      <td>Non Pemerintah</td>\n",
              "      <td>284648</td>\n",
              "      <td>SMA</td>\n",
              "      <td>Cerai</td>\n",
              "      <td>Rohani</td>\n",
              "      <td>Perempuan</td>\n",
              "      <td>0.0</td>\n",
              "      <td>0.0</td>\n",
              "      <td>99.0</td>\n",
              "      <td>1</td>\n",
              "    </tr>\n",
              "    <tr>\n",
              "      <th>3</th>\n",
              "      <td>45</td>\n",
              "      <td>Non Pemerintah</td>\n",
              "      <td>132847</td>\n",
              "      <td>SMA</td>\n",
              "      <td>Belum Pernah Menikah</td>\n",
              "      <td>Jasmani</td>\n",
              "      <td>Perempuan</td>\n",
              "      <td>0.0</td>\n",
              "      <td>0.0</td>\n",
              "      <td>40.0</td>\n",
              "      <td>0</td>\n",
              "    </tr>\n",
              "    <tr>\n",
              "      <th>4</th>\n",
              "      <td>28</td>\n",
              "      <td>Non Pemerintah</td>\n",
              "      <td>103432</td>\n",
              "      <td>SMA</td>\n",
              "      <td>Belum Pernah Menikah</td>\n",
              "      <td>Jasmani</td>\n",
              "      <td>Laki2</td>\n",
              "      <td>0.0</td>\n",
              "      <td>0.0</td>\n",
              "      <td>45.0</td>\n",
              "      <td>1</td>\n",
              "    </tr>\n",
              "    <tr>\n",
              "      <th>5</th>\n",
              "      <td>21</td>\n",
              "      <td>Non Pemerintah</td>\n",
              "      <td>188793</td>\n",
              "      <td>SMA</td>\n",
              "      <td>Menikah</td>\n",
              "      <td>Rohani</td>\n",
              "      <td>Laki2</td>\n",
              "      <td>0.0</td>\n",
              "      <td>0.0</td>\n",
              "      <td>35.0</td>\n",
              "      <td>0</td>\n",
              "    </tr>\n",
              "    <tr>\n",
              "      <th>6</th>\n",
              "      <td>58</td>\n",
              "      <td>Non Pemerintah</td>\n",
              "      <td>106740</td>\n",
              "      <td>SMA</td>\n",
              "      <td>Menikah</td>\n",
              "      <td>Jasmani</td>\n",
              "      <td>Laki2</td>\n",
              "      <td>0.0</td>\n",
              "      <td>0.0</td>\n",
              "      <td>40.0</td>\n",
              "      <td>1</td>\n",
              "    </tr>\n",
              "    <tr>\n",
              "      <th>7</th>\n",
              "      <td>60</td>\n",
              "      <td>?</td>\n",
              "      <td>141221</td>\n",
              "      <td>Pendidikan Tinggi</td>\n",
              "      <td>Menikah</td>\n",
              "      <td>?</td>\n",
              "      <td>Laki2</td>\n",
              "      <td>0.0</td>\n",
              "      <td>30282000.0</td>\n",
              "      <td>25.0</td>\n",
              "      <td>0</td>\n",
              "    </tr>\n",
              "    <tr>\n",
              "      <th>8</th>\n",
              "      <td>23</td>\n",
              "      <td>Non Pemerintah</td>\n",
              "      <td>216889</td>\n",
              "      <td>SMA</td>\n",
              "      <td>Belum Pernah Menikah</td>\n",
              "      <td>Jasmani</td>\n",
              "      <td>Laki2</td>\n",
              "      <td>0.0</td>\n",
              "      <td>0.0</td>\n",
              "      <td>40.0</td>\n",
              "      <td>0</td>\n",
              "    </tr>\n",
              "    <tr>\n",
              "      <th>9</th>\n",
              "      <td>34</td>\n",
              "      <td>?</td>\n",
              "      <td>112584</td>\n",
              "      <td>SMA</td>\n",
              "      <td>Cerai</td>\n",
              "      <td>?</td>\n",
              "      <td>Perempuan</td>\n",
              "      <td>0.0</td>\n",
              "      <td>0.0</td>\n",
              "      <td>40.0</td>\n",
              "      <td>0</td>\n",
              "    </tr>\n",
              "  </tbody>\n",
              "</table>\n",
              "</div>"
            ],
            "text/plain": [
              "   Umur   Kelas Pekerja  Berat Akhir  ... Kerugian Capital Jam per Minggu Gaji\n",
              "0    59      Pemerintah       139616  ...              0.0           50.0    1\n",
              "1    52  Non Pemerintah       158993  ...              0.0           38.0    0\n",
              "2    52  Non Pemerintah       284648  ...              0.0           99.0    1\n",
              "3    45  Non Pemerintah       132847  ...              0.0           40.0    0\n",
              "4    28  Non Pemerintah       103432  ...              0.0           45.0    1\n",
              "5    21  Non Pemerintah       188793  ...              0.0           35.0    0\n",
              "6    58  Non Pemerintah       106740  ...              0.0           40.0    1\n",
              "7    60               ?       141221  ...       30282000.0           25.0    0\n",
              "8    23  Non Pemerintah       216889  ...              0.0           40.0    0\n",
              "9    34               ?       112584  ...              0.0           40.0    0\n",
              "\n",
              "[10 rows x 11 columns]"
            ]
          },
          "metadata": {
            "tags": []
          },
          "execution_count": 37
        }
      ]
    },
    {
      "cell_type": "markdown",
      "metadata": {
        "id": "QV-rWQFNWejg",
        "colab_type": "text"
      },
      "source": [
        "## Numerisasi Data Katagorikal"
      ]
    },
    {
      "cell_type": "code",
      "metadata": {
        "id": "hdPN4tMvWejj",
        "colab_type": "code",
        "colab": {}
      },
      "source": [
        "profit_x = profit_processed.drop(\"Gaji\", axis=1)\n",
        "profit_y = profit_processed[\"Gaji\"]\n",
        "\n",
        "profit_testx = profit_test_processed"
      ],
      "execution_count": 0,
      "outputs": []
    },
    {
      "cell_type": "code",
      "metadata": {
        "scrolled": true,
        "id": "n4_BMwYoWejw",
        "colab_type": "code",
        "colab": {}
      },
      "source": [
        "profit_x = pd.get_dummies(profit_x, columns=[\"Kelas Pekerja\", \"Status Perkawinan\", \"Pekerjaan\", \"Jenis Kelamin\"])\n",
        "\n",
        "profit_testx = pd.get_dummies(profit_testx, columns=[\"Kelas Pekerja\", \"Status Perkawinan\", \"Pekerjaan\", \"Jenis Kelamin\"])"
      ],
      "execution_count": 0,
      "outputs": []
    },
    {
      "cell_type": "code",
      "metadata": {
        "id": "3PVspQ9tWekZ",
        "colab_type": "code",
        "colab": {}
      },
      "source": [
        "profit_x[\"Pendidikan\"] = profit_x[\"Pendidikan\"].replace({\n",
        "    \"SD\" : 0,\n",
        "    \"SMP\" : 1,\n",
        "    \"SMA\" : 2,\n",
        "    \"Pendidikan Tinggi\" : 3\n",
        "})\n",
        "\n",
        "profit_testx[\"Pendidikan\"] = profit_testx[\"Pendidikan\"].replace({\n",
        "    \"SD\" : 0,\n",
        "    \"SMP\" : 1,\n",
        "    \"SMA\" : 2,\n",
        "    \"Pendidikan Tinggi\" : 3\n",
        "})"
      ],
      "execution_count": 0,
      "outputs": []
    },
    {
      "cell_type": "code",
      "metadata": {
        "id": "poVTqFCQWekk",
        "colab_type": "code",
        "outputId": "c01becc8-f8fc-4e96-a560-044c1982588c",
        "colab": {
          "base_uri": "https://localhost:8080/",
          "height": 278
        }
      },
      "source": [
        "profit_x.head()"
      ],
      "execution_count": 41,
      "outputs": [
        {
          "output_type": "execute_result",
          "data": {
            "text/html": [
              "<div>\n",
              "<style scoped>\n",
              "    .dataframe tbody tr th:only-of-type {\n",
              "        vertical-align: middle;\n",
              "    }\n",
              "\n",
              "    .dataframe tbody tr th {\n",
              "        vertical-align: top;\n",
              "    }\n",
              "\n",
              "    .dataframe thead th {\n",
              "        text-align: right;\n",
              "    }\n",
              "</style>\n",
              "<table border=\"1\" class=\"dataframe\">\n",
              "  <thead>\n",
              "    <tr style=\"text-align: right;\">\n",
              "      <th></th>\n",
              "      <th>Umur</th>\n",
              "      <th>Berat Akhir</th>\n",
              "      <th>Pendidikan</th>\n",
              "      <th>Keuntungan Kapital</th>\n",
              "      <th>Kerugian Capital</th>\n",
              "      <th>Jam per Minggu</th>\n",
              "      <th>Kelas Pekerja_?</th>\n",
              "      <th>Kelas Pekerja_Non Pemerintah</th>\n",
              "      <th>Kelas Pekerja_Pemerintah</th>\n",
              "      <th>Kelas Pekerja_Tidak Pernah Bekerja</th>\n",
              "      <th>Status Perkawinan_Belum Pernah Menikah</th>\n",
              "      <th>Status Perkawinan_Cerai</th>\n",
              "      <th>Status Perkawinan_Menikah</th>\n",
              "      <th>Pekerjaan_?</th>\n",
              "      <th>Pekerjaan_Jasmani</th>\n",
              "      <th>Pekerjaan_Rohani</th>\n",
              "      <th>Jenis Kelamin_Laki2</th>\n",
              "      <th>Jenis Kelamin_Perempuan</th>\n",
              "    </tr>\n",
              "  </thead>\n",
              "  <tbody>\n",
              "    <tr>\n",
              "      <th>0</th>\n",
              "      <td>59</td>\n",
              "      <td>139616</td>\n",
              "      <td>3</td>\n",
              "      <td>0.0</td>\n",
              "      <td>0.0</td>\n",
              "      <td>50.0</td>\n",
              "      <td>0</td>\n",
              "      <td>0</td>\n",
              "      <td>1</td>\n",
              "      <td>0</td>\n",
              "      <td>0</td>\n",
              "      <td>0</td>\n",
              "      <td>1</td>\n",
              "      <td>0</td>\n",
              "      <td>0</td>\n",
              "      <td>1</td>\n",
              "      <td>1</td>\n",
              "      <td>0</td>\n",
              "    </tr>\n",
              "    <tr>\n",
              "      <th>1</th>\n",
              "      <td>52</td>\n",
              "      <td>158993</td>\n",
              "      <td>2</td>\n",
              "      <td>0.0</td>\n",
              "      <td>0.0</td>\n",
              "      <td>38.0</td>\n",
              "      <td>0</td>\n",
              "      <td>1</td>\n",
              "      <td>0</td>\n",
              "      <td>0</td>\n",
              "      <td>0</td>\n",
              "      <td>1</td>\n",
              "      <td>0</td>\n",
              "      <td>0</td>\n",
              "      <td>1</td>\n",
              "      <td>0</td>\n",
              "      <td>0</td>\n",
              "      <td>1</td>\n",
              "    </tr>\n",
              "    <tr>\n",
              "      <th>2</th>\n",
              "      <td>52</td>\n",
              "      <td>284648</td>\n",
              "      <td>2</td>\n",
              "      <td>0.0</td>\n",
              "      <td>0.0</td>\n",
              "      <td>99.0</td>\n",
              "      <td>0</td>\n",
              "      <td>1</td>\n",
              "      <td>0</td>\n",
              "      <td>0</td>\n",
              "      <td>0</td>\n",
              "      <td>1</td>\n",
              "      <td>0</td>\n",
              "      <td>0</td>\n",
              "      <td>0</td>\n",
              "      <td>1</td>\n",
              "      <td>0</td>\n",
              "      <td>1</td>\n",
              "    </tr>\n",
              "    <tr>\n",
              "      <th>3</th>\n",
              "      <td>45</td>\n",
              "      <td>132847</td>\n",
              "      <td>2</td>\n",
              "      <td>0.0</td>\n",
              "      <td>0.0</td>\n",
              "      <td>40.0</td>\n",
              "      <td>0</td>\n",
              "      <td>1</td>\n",
              "      <td>0</td>\n",
              "      <td>0</td>\n",
              "      <td>1</td>\n",
              "      <td>0</td>\n",
              "      <td>0</td>\n",
              "      <td>0</td>\n",
              "      <td>1</td>\n",
              "      <td>0</td>\n",
              "      <td>0</td>\n",
              "      <td>1</td>\n",
              "    </tr>\n",
              "    <tr>\n",
              "      <th>4</th>\n",
              "      <td>28</td>\n",
              "      <td>103432</td>\n",
              "      <td>2</td>\n",
              "      <td>0.0</td>\n",
              "      <td>0.0</td>\n",
              "      <td>45.0</td>\n",
              "      <td>0</td>\n",
              "      <td>1</td>\n",
              "      <td>0</td>\n",
              "      <td>0</td>\n",
              "      <td>1</td>\n",
              "      <td>0</td>\n",
              "      <td>0</td>\n",
              "      <td>0</td>\n",
              "      <td>1</td>\n",
              "      <td>0</td>\n",
              "      <td>1</td>\n",
              "      <td>0</td>\n",
              "    </tr>\n",
              "  </tbody>\n",
              "</table>\n",
              "</div>"
            ],
            "text/plain": [
              "   Umur  Berat Akhir  ...  Jenis Kelamin_Laki2  Jenis Kelamin_Perempuan\n",
              "0    59       139616  ...                    1                        0\n",
              "1    52       158993  ...                    0                        1\n",
              "2    52       284648  ...                    0                        1\n",
              "3    45       132847  ...                    0                        1\n",
              "4    28       103432  ...                    1                        0\n",
              "\n",
              "[5 rows x 18 columns]"
            ]
          },
          "metadata": {
            "tags": []
          },
          "execution_count": 41
        }
      ]
    },
    {
      "cell_type": "markdown",
      "metadata": {
        "id": "cMBqwhWq8EPB",
        "colab_type": "text"
      },
      "source": [
        "## Normalisasi Data"
      ]
    },
    {
      "cell_type": "code",
      "metadata": {
        "id": "QaZtP7bn8Hs-",
        "colab_type": "code",
        "colab": {}
      },
      "source": [
        "from sklearn.preprocessing import Normalizer\n",
        "\n",
        "profit_x.loc[:, ['Umur', 'Jam per Minggu', 'Berat Akhir', 'Keuntungan Kapital', 'Kerugian Capital']] = Normalizer().fit(\n",
        "    profit_x.loc[:, ['Umur', 'Jam per Minggu', 'Berat Akhir', 'Keuntungan Kapital', 'Kerugian Capital']]\n",
        ").transform(profit_x.loc[:, ['Umur', 'Jam per Minggu', 'Berat Akhir', 'Keuntungan Kapital', 'Kerugian Capital']])\n",
        "\n",
        "profit_testx.loc[:, ['Umur', 'Jam per Minggu', 'Berat Akhir', 'Keuntungan Kapital', 'Kerugian Capital']] = Normalizer().fit(\n",
        "    profit_testx.loc[:, ['Umur', 'Jam per Minggu', 'Berat Akhir', 'Keuntungan Kapital', 'Kerugian Capital']]\n",
        ").transform(profit_testx.loc[:, ['Umur', 'Jam per Minggu', 'Berat Akhir', 'Keuntungan Kapital', 'Kerugian Capital']])"
      ],
      "execution_count": 0,
      "outputs": []
    },
    {
      "cell_type": "markdown",
      "metadata": {
        "id": "VXcJXfTIWekz",
        "colab_type": "text"
      },
      "source": [
        "# Training Model dan Evaluasi"
      ]
    },
    {
      "cell_type": "code",
      "metadata": {
        "id": "FvDi0ikfWek_",
        "colab_type": "code",
        "colab": {}
      },
      "source": [
        "from sklearn.model_selection import train_test_split, GridSearchCV, RandomizedSearchCV\n",
        "\n",
        "x_train, x_val, y_train, y_val = train_test_split(profit_x, profit_y, test_size=0.2)"
      ],
      "execution_count": 0,
      "outputs": []
    },
    {
      "cell_type": "code",
      "metadata": {
        "id": "-6_iDC48WelP",
        "colab_type": "code",
        "outputId": "fb91fd0f-5413-4882-ea27-b7d7da86522e",
        "colab": {
          "base_uri": "https://localhost:8080/",
          "height": 34
        }
      },
      "source": [
        "print(x_train.shape, x_val.shape, y_train.shape, y_val.shape)"
      ],
      "execution_count": 44,
      "outputs": [
        {
          "output_type": "stream",
          "text": [
            "(30714, 18) (7679, 18) (30714,) (7679,)\n"
          ],
          "name": "stdout"
        }
      ]
    },
    {
      "cell_type": "code",
      "metadata": {
        "id": "18-N1MJoWel2",
        "colab_type": "code",
        "colab": {}
      },
      "source": [
        "from sklearn.tree import DecisionTreeClassifier\n",
        "from sklearn.linear_model import LogisticRegression\n",
        "from sklearn.metrics import confusion_matrix, classification_report\n",
        "\n",
        "# model = DecisionTreeClassifier()\n",
        "\n",
        "# # # DecisionTreeClassifier?\n",
        "\n",
        "params = {\n",
        "    'max_leaf_nodes': [],\n",
        "    'min_samples_leaf': [i for i in range(2, 11)],\n",
        "    'min_samples_split': [i for i in range(2, 11)],\n",
        "    'max_features': [i for i in range(2, 11)],\n",
        "    'max_depth': [i for i in range(2, 11)]\n",
        "}\n",
        "\n",
        "gscv = GridSearchCV(model, param_grid=params, scoring=\"accuracy\", n_jobs=10, verbose=3)\n",
        "gscv.fit(x_train, y_train)"
      ],
      "execution_count": 0,
      "outputs": []
    },
    {
      "cell_type": "code",
      "metadata": {
        "id": "yRS_aIQhWemM",
        "colab_type": "code",
        "colab": {
          "base_uri": "https://localhost:8080/",
          "height": 104
        },
        "outputId": "fb0e7c38-fb51-4de9-e34b-d15cc8de4d20"
      },
      "source": [
        "gscv.best_params_"
      ],
      "execution_count": 56,
      "outputs": [
        {
          "output_type": "execute_result",
          "data": {
            "text/plain": [
              "{'max_depth': 3,\n",
              " 'max_features': 10,\n",
              " 'max_leaf_nodes': 9,\n",
              " 'min_samples_leaf': 6,\n",
              " 'min_samples_split': 2}"
            ]
          },
          "metadata": {
            "tags": []
          },
          "execution_count": 56
        }
      ]
    },
    {
      "cell_type": "code",
      "metadata": {
        "id": "D1zZ3nbnWemY",
        "colab_type": "code",
        "outputId": "5329b02c-492f-42f2-95a5-a3eb31a0d8c6",
        "colab": {
          "base_uri": "https://localhost:8080/",
          "height": 156
        }
      },
      "source": [
        "# index = []\n",
        "# aucl = []\n",
        "# DecisionTreeClassifier?\n",
        "# for i in range(1, 100):\n",
        "#     model = DecisionTreeClassifier(criterion=\"entropy\",\n",
        "#                                max_features=17, splitter=\"best\",\n",
        "#                                max_depth=i, min_samples_leaf=22,\n",
        "#                                   )\n",
        "#     model.fit(x_train, y_train)\n",
        "\n",
        "#     y_pred = model.predict(x_val)\n",
        "\n",
        "#     # cm = confusion_matrix(y_val, y_pred)\n",
        "\n",
        "#     # cl = classification_report(y_val, y_pred)\n",
        "\n",
        "#     from sklearn.metrics import roc_auc_score\n",
        "\n",
        "#     auc = roc_auc_score(y_val,y_pred)\n",
        "#     aucl.append(auc)\n",
        "#     index.append(i)\n",
        "\n",
        "# import matplotlib.pyplot as plt\n",
        "# plt.plot(index, aucl)\n",
        "# # plt.scatter(max(aucl).index(), max(aucl))\n",
        "# plt.show()\n",
        "\n",
        "model = DecisionTreeClassifier(criterion=\"gini\", min_samples_leaf=6,\n",
        "                               min_samples_split=2, max_leaf_nodes=9,\n",
        "                               max_features=10, max_depth=3)\n",
        "print(model)\n",
        "model.fit(x_train, y_train)\n",
        "\n",
        "y_pred = model.predict_proba(x_val)[:, 1]\n",
        "print(y_pred)\n",
        "\n",
        "from sklearn.metrics import roc_auc_score\n",
        "auc = roc_auc_score(y_val, y_pred)\n",
        "print(auc)"
      ],
      "execution_count": 58,
      "outputs": [
        {
          "output_type": "stream",
          "text": [
            "DecisionTreeClassifier(ccp_alpha=0.0, class_weight=None, criterion='gini',\n",
            "                       max_depth=3, max_features=10, max_leaf_nodes=9,\n",
            "                       min_impurity_decrease=0.0, min_impurity_split=None,\n",
            "                       min_samples_leaf=6, min_samples_split=2,\n",
            "                       min_weight_fraction_leaf=0.0, presort='deprecated',\n",
            "                       random_state=None, splitter='best')\n",
            "[0.02210243 0.50721192 0.02210243 ... 0.02210243 0.02210243 0.50721192]\n",
            "0.8466678826470011\n"
          ],
          "name": "stdout"
        }
      ]
    },
    {
      "cell_type": "code",
      "metadata": {
        "id": "j4CdXwD2Wemj",
        "colab_type": "code",
        "colab": {}
      },
      "source": [
        "profit_test_processed[\"Gaji\"] = model.predict(profit_testx)"
      ],
      "execution_count": 0,
      "outputs": []
    },
    {
      "cell_type": "code",
      "metadata": {
        "id": "hgPsyXl4Wemy",
        "colab_type": "code",
        "colab": {}
      },
      "source": [
        "# profit_test_processed"
      ],
      "execution_count": 0,
      "outputs": []
    },
    {
      "cell_type": "code",
      "metadata": {
        "id": "afPrTg_EWenV",
        "colab_type": "code",
        "colab": {}
      },
      "source": [
        "profit_test[\"Gaji\"] = profit_test_processed[\"Gaji\"]"
      ],
      "execution_count": 0,
      "outputs": []
    },
    {
      "cell_type": "code",
      "metadata": {
        "id": "0nYlgeHHWent",
        "colab_type": "code",
        "colab": {}
      },
      "source": [
        "# profit_test"
      ],
      "execution_count": 0,
      "outputs": []
    },
    {
      "cell_type": "code",
      "metadata": {
        "id": "7n6NC6GzWen4",
        "colab_type": "code",
        "colab": {}
      },
      "source": [
        "profit_after = profit_test.loc[:, [\"id\", \"Gaji\"]]"
      ],
      "execution_count": 0,
      "outputs": []
    },
    {
      "cell_type": "code",
      "metadata": {
        "id": "MAcZl9NoWeoK",
        "colab_type": "code",
        "colab": {}
      },
      "source": [
        "# profit_after"
      ],
      "execution_count": 0,
      "outputs": []
    },
    {
      "cell_type": "code",
      "metadata": {
        "id": "wpKuipCUWeoT",
        "colab_type": "code",
        "colab": {}
      },
      "source": [
        "profit_after.to_csv(\"pendapatan_test_after.csv\", index=False)"
      ],
      "execution_count": 0,
      "outputs": []
    },
    {
      "cell_type": "code",
      "metadata": {
        "id": "hc7LCOBzWeo9",
        "colab_type": "code",
        "colab": {}
      },
      "source": [
        ""
      ],
      "execution_count": 0,
      "outputs": []
    }
  ]
}