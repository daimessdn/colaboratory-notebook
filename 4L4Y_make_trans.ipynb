{
  "nbformat": 4,
  "nbformat_minor": 0,
  "metadata": {
    "colab": {
      "name": "4L4Y make_trans.ipynb",
      "provenance": [],
      "collapsed_sections": [],
      "include_colab_link": true
    },
    "kernelspec": {
      "name": "python3",
      "display_name": "Python 3"
    }
  },
  "cells": [
    {
      "cell_type": "markdown",
      "metadata": {
        "id": "view-in-github",
        "colab_type": "text"
      },
      "source": [
        "<a href=\"https://colab.research.google.com/github/daimessdn/colaboratory-notebook/blob/master/4L4Y_make_trans.ipynb\" target=\"_parent\"><img src=\"https://colab.research.google.com/assets/colab-badge.svg\" alt=\"Open In Colab\"/></a>"
      ]
    },
    {
      "cell_type": "code",
      "metadata": {
        "id": "6Ht20RUa-38-",
        "colab_type": "code",
        "colab": {}
      },
      "source": [
        "intab = \"aiueo\"\n",
        "outtab = \"41V30\"\n",
        "\n",
        "char = \"!@#$%^&*()\"\n",
        "char_out = \"          \""
      ],
      "execution_count": 0,
      "outputs": []
    },
    {
      "cell_type": "code",
      "metadata": {
        "id": "rR7Lm8LVCMST",
        "colab_type": "code",
        "colab": {}
      },
      "source": [
        "alay = str.maketrans(intab, outtab)"
      ],
      "execution_count": 0,
      "outputs": []
    },
    {
      "cell_type": "code",
      "metadata": {
        "id": "5CPVadIUCPon",
        "colab_type": "code",
        "outputId": "97d8653b-4026-4462-8d0b-abb573b5b7d7",
        "colab": {
          "base_uri": "https://localhost:8080/",
          "height": 34
        }
      },
      "source": [
        "str = \"met pagi...\"\n",
        "print (str.translate(alay))"
      ],
      "execution_count": 0,
      "outputs": [
        {
          "output_type": "stream",
          "text": [
            "m3t p4g1...\n"
          ],
          "name": "stdout"
        }
      ]
    }
  ]
}