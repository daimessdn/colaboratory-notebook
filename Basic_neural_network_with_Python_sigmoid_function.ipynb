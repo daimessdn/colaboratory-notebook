{
  "nbformat": 4,
  "nbformat_minor": 0,
  "metadata": {
    "colab": {
      "name": "Basic neural network with Python - sigmoid function.ipynb",
      "provenance": [],
      "collapsed_sections": [],
      "include_colab_link": true
    },
    "kernelspec": {
      "name": "python3",
      "display_name": "Python 3"
    }
  },
  "cells": [
    {
      "cell_type": "markdown",
      "metadata": {
        "id": "view-in-github",
        "colab_type": "text"
      },
      "source": [
        "<a href=\"https://colab.research.google.com/github/daimessdn/colaboratory-notebook/blob/master/Basic_neural_network_with_Python_sigmoid_function.ipynb\" target=\"_parent\"><img src=\"https://colab.research.google.com/assets/colab-badge.svg\" alt=\"Open In Colab\"/></a>"
      ]
    },
    {
      "cell_type": "code",
      "metadata": {
        "id": "xo4HVsd8ZOn0",
        "colab_type": "code",
        "colab": {}
      },
      "source": [
        "import numpy as np"
      ],
      "execution_count": 0,
      "outputs": []
    },
    {
      "cell_type": "code",
      "metadata": {
        "id": "-Syb6Zd7ZcBX",
        "colab_type": "code",
        "colab": {}
      },
      "source": [
        "def NN(m1, m2, w1, w2, b):\n",
        "  z = m1 * w1 + m2 * w2 + b\n",
        "  return sigmoid(z)\n",
        "\n",
        "def sigmoid(x):\n",
        "  return 1 / (1 + np.exp(-x))"
      ],
      "execution_count": 0,
      "outputs": []
    },
    {
      "cell_type": "code",
      "metadata": {
        "id": "SAb2FTmYZ5O8",
        "colab_type": "code",
        "colab": {}
      },
      "source": [
        "w1 = np.random.randn()\n",
        "w2 = np.random.randn()\n",
        "b = np.random.randn()"
      ],
      "execution_count": 0,
      "outputs": []
    },
    {
      "cell_type": "code",
      "metadata": {
        "id": "lgPAKY6paK7e",
        "colab_type": "code",
        "outputId": "1d393c63-b5e7-4b57-f531-98f5248a5ed9",
        "colab": {
          "base_uri": "https://localhost:8080/",
          "height": 34
        }
      },
      "source": [
        "w1"
      ],
      "execution_count": 0,
      "outputs": [
        {
          "output_type": "execute_result",
          "data": {
            "text/plain": [
              "0.9625663361749022"
            ]
          },
          "metadata": {
            "tags": []
          },
          "execution_count": 25
        }
      ]
    },
    {
      "cell_type": "code",
      "metadata": {
        "id": "s0U5F9jYaMCk",
        "colab_type": "code",
        "outputId": "2e390872-b291-45e6-8044-25a82ce62146",
        "colab": {
          "base_uri": "https://localhost:8080/",
          "height": 34
        }
      },
      "source": [
        "w2"
      ],
      "execution_count": 0,
      "outputs": [
        {
          "output_type": "execute_result",
          "data": {
            "text/plain": [
              "0.9375421451584187"
            ]
          },
          "metadata": {
            "tags": []
          },
          "execution_count": 26
        }
      ]
    },
    {
      "cell_type": "code",
      "metadata": {
        "id": "A9OmRfbdaNK4",
        "colab_type": "code",
        "outputId": "9681d9e4-3c7e-4a95-bdfb-32fe462c6a89",
        "colab": {
          "base_uri": "https://localhost:8080/",
          "height": 34
        }
      },
      "source": [
        "b"
      ],
      "execution_count": 0,
      "outputs": [
        {
          "output_type": "execute_result",
          "data": {
            "text/plain": [
              "-1.4649013712979027"
            ]
          },
          "metadata": {
            "tags": []
          },
          "execution_count": 27
        }
      ]
    },
    {
      "cell_type": "code",
      "metadata": {
        "id": "X77_rcDtaPwJ",
        "colab_type": "code",
        "outputId": "e2340e3c-6d3a-4737-d695-3ddfdc1f7441",
        "colab": {
          "base_uri": "https://localhost:8080/",
          "height": 34
        }
      },
      "source": [
        "NN(3, 1.5, w1, w2, b)"
      ],
      "execution_count": 0,
      "outputs": [
        {
          "output_type": "execute_result",
          "data": {
            "text/plain": [
              "0.9442287974943849"
            ]
          },
          "metadata": {
            "tags": []
          },
          "execution_count": 28
        }
      ]
    },
    {
      "cell_type": "code",
      "metadata": {
        "id": "ImREZgPYalqs",
        "colab_type": "code",
        "outputId": "4097a44c-87cd-47fe-85aa-4dafe485b684",
        "colab": {
          "base_uri": "https://localhost:8080/",
          "height": 34
        }
      },
      "source": [
        "NN(2, 1, w1, w2, b)"
      ],
      "execution_count": 0,
      "outputs": [
        {
          "output_type": "execute_result",
          "data": {
            "text/plain": [
              "0.8018303303606665"
            ]
          },
          "metadata": {
            "tags": []
          },
          "execution_count": 29
        }
      ]
    },
    {
      "cell_type": "code",
      "metadata": {
        "id": "xzdtAcrDamlG",
        "colab_type": "code",
        "outputId": "29524f8e-fe09-429b-a69d-0a2e43525c9a",
        "colab": {
          "base_uri": "https://localhost:8080/",
          "height": 34
        }
      },
      "source": [
        "NN(2, 0.5, w1, w2, b)"
      ],
      "execution_count": 0,
      "outputs": [
        {
          "output_type": "execute_result",
          "data": {
            "text/plain": [
              "0.7168728449070884"
            ]
          },
          "metadata": {
            "tags": []
          },
          "execution_count": 30
        }
      ]
    },
    {
      "cell_type": "code",
      "metadata": {
        "id": "Omaowy-wa7fc",
        "colab_type": "code",
        "colab": {}
      },
      "source": [
        "phrases = ['seems like its', 'I guess', 'looks like', 'I think its']"
      ],
      "execution_count": 0,
      "outputs": []
    },
    {
      "cell_type": "code",
      "metadata": {
        "id": "kKGcitG8cOdp",
        "colab_type": "code",
        "colab": {}
      },
      "source": [
        "# data\n",
        "# 1st index of list: length\n",
        "# 2nd index of list: width\n",
        "# 3rd index of list: color - red = 1, blue = 0\n",
        "data = [[3, 1.5, 1], [2, 1, 0], [4, 1.5, 1], [3, 1, 0], [3.5, 0.5, 1], [2, 0.5, 0], [5.5, 1, 1], [1, 1, 0]]"
      ],
      "execution_count": 0,
      "outputs": []
    },
    {
      "cell_type": "code",
      "metadata": {
        "id": "DSOxF4H3dBcp",
        "colab_type": "code",
        "colab": {}
      },
      "source": [
        "rand_data = data[np.random.randint(len(data))]"
      ],
      "execution_count": 0,
      "outputs": []
    },
    {
      "cell_type": "code",
      "metadata": {
        "id": "ALZQnMofdL3J",
        "colab_type": "code",
        "colab": {}
      },
      "source": [
        "m1 = rand_data[0]\n",
        "m2 = rand_data[1]"
      ],
      "execution_count": 0,
      "outputs": []
    },
    {
      "cell_type": "code",
      "metadata": {
        "id": "4bIXBnMWdUUE",
        "colab_type": "code",
        "colab": {}
      },
      "source": [
        "prediction = NN(m1, m2, w1, w2, b)"
      ],
      "execution_count": 0,
      "outputs": []
    },
    {
      "cell_type": "code",
      "metadata": {
        "id": "glgDDiSRdafm",
        "colab_type": "code",
        "colab": {}
      },
      "source": [
        "prediction_text = [\"blue\", \"red\"][int(np.round(prediction))]"
      ],
      "execution_count": 0,
      "outputs": []
    },
    {
      "cell_type": "code",
      "metadata": {
        "id": "dtlYGNi7ddOB",
        "colab_type": "code",
        "colab": {}
      },
      "source": [
        "phrase = np.random.choice(phrases) + \" \" + prediction_text"
      ],
      "execution_count": 0,
      "outputs": []
    },
    {
      "cell_type": "code",
      "metadata": {
        "id": "2ohlpYchdyNB",
        "colab_type": "code",
        "outputId": "8d89d573-48d0-47cb-f630-fd670b02adb0",
        "colab": {
          "base_uri": "https://localhost:8080/",
          "height": 34
        }
      },
      "source": [
        "print(phrase)"
      ],
      "execution_count": 0,
      "outputs": [
        {
          "output_type": "stream",
          "text": [
            "seems like its red\n"
          ],
          "name": "stdout"
        }
      ]
    }
  ]
}